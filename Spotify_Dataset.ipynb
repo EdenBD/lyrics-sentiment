{
  "nbformat": 4,
  "nbformat_minor": 0,
  "metadata": {
    "kernelspec": {
      "display_name": "Python 3",
      "language": "python",
      "name": "python3"
    },
    "language_info": {
      "codemirror_mode": {
        "name": "ipython",
        "version": 3
      },
      "file_extension": ".py",
      "mimetype": "text/x-python",
      "name": "python",
      "nbconvert_exporter": "python",
      "pygments_lexer": "ipython3",
      "version": "3.7.5"
    },
    "colab": {
      "name": "Spotify Dataset.ipynb",
      "provenance": [],
      "collapsed_sections": []
    }
  },
  "cells": [
    {
      "cell_type": "markdown",
      "metadata": {
        "id": "JUKW0-nevafA",
        "colab_type": "text"
      },
      "source": [
        "# Preparing Lyrics - Sentiment dataset\n",
        "\n",
        "In this notebook I am using [Spotify API](https://developer.spotify.com/documentation/web-api/) and an existing [Song/Band/Lyrics Kaggle Dataset](https://www.kaggle.com/detkov/lyrics-dataset) to get a sentiment analysis dataset, where I use valence to measure positiveness. The valence ranges from 0 to 1, where higher valence corresponds to [a happier sentiment](https://developer.spotify.com/documentation/web-api/reference/tracks/get-several-audio-features/). \n",
        "\n",
        "Results in a total of ~156,000 non-null rows.\n"
      ]
    },
    {
      "cell_type": "markdown",
      "metadata": {
        "id": "4pK4TdeyI6YU",
        "colab_type": "text"
      },
      "source": [
        "## Taken Steps to Prepare Dataset:\n",
        "\n",
        "1. Get songs lyrics database (with columns: Band, Lyrics, Song).\n",
        "2. Query Spotify for a song ID and songs valence (i.e hapiness), done in chunks of 99 songs per query.\n",
        "3. Integrate to one dataframe, where each song has a corresponding valence value, or np.nan if song not found.\n"
      ]
    },
    {
      "cell_type": "code",
      "metadata": {
        "id": "EAU58UfwCCvL",
        "colab_type": "code",
        "outputId": "a3c342a4-04f7-4ee7-cdf9-bceb03d6eb57",
        "colab": {
          "base_uri": "https://localhost:8080/",
          "height": 297
        }
      },
      "source": [
        "%%bash\n",
        "# Clone Github repository \n",
        "rm -rf lyrics-sentiment\n",
        "git clone https://github.com/EdenBD/lyrics-sentiment.git\n",
        "# To get lyrics from genius.com\n",
        "pip install lyricsgenius"
      ],
      "execution_count": 0,
      "outputs": [
        {
          "output_type": "stream",
          "text": [
            "Collecting lyricsgenius\n",
            "  Downloading https://files.pythonhosted.org/packages/45/22/a1bb37594dff57b87134071f9881919110cd26fcb4f37b682c7db544d53b/lyricsgenius-1.8.4-py3-none-any.whl\n",
            "Collecting beautifulsoup4==4.6.0\n",
            "  Downloading https://files.pythonhosted.org/packages/9e/d4/10f46e5cfac773e22707237bfcd51bbffeaf0a576b0a847ec7ab15bd7ace/beautifulsoup4-4.6.0-py3-none-any.whl (86kB)\n",
            "Requirement already satisfied: requests>=2.20.0 in /usr/local/lib/python3.6/dist-packages (from lyricsgenius) (2.23.0)\n",
            "Requirement already satisfied: certifi>=2017.4.17 in /usr/local/lib/python3.6/dist-packages (from requests>=2.20.0->lyricsgenius) (2020.4.5.1)\n",
            "Requirement already satisfied: idna<3,>=2.5 in /usr/local/lib/python3.6/dist-packages (from requests>=2.20.0->lyricsgenius) (2.9)\n",
            "Requirement already satisfied: urllib3!=1.25.0,!=1.25.1,<1.26,>=1.21.1 in /usr/local/lib/python3.6/dist-packages (from requests>=2.20.0->lyricsgenius) (1.24.3)\n",
            "Requirement already satisfied: chardet<4,>=3.0.2 in /usr/local/lib/python3.6/dist-packages (from requests>=2.20.0->lyricsgenius) (3.0.4)\n",
            "Installing collected packages: beautifulsoup4, lyricsgenius\n",
            "  Found existing installation: beautifulsoup4 4.6.3\n",
            "    Uninstalling beautifulsoup4-4.6.3:\n",
            "      Successfully uninstalled beautifulsoup4-4.6.3\n",
            "Successfully installed beautifulsoup4-4.6.0 lyricsgenius-1.8.4\n"
          ],
          "name": "stdout"
        },
        {
          "output_type": "stream",
          "text": [
            "Cloning into 'lyrics-sentiment'...\n"
          ],
          "name": "stderr"
        }
      ]
    },
    {
      "cell_type": "code",
      "metadata": {
        "id": "WccsmdMpJ7tT",
        "colab_type": "code",
        "outputId": "db581ecf-c8b7-4ba9-e3fa-43a9616e3db0",
        "colab": {
          "base_uri": "https://localhost:8080/",
          "height": 124
        }
      },
      "source": [
        "import pandas as pd\n",
        "import numpy as np\n",
        "import os \n",
        "\n",
        "# Mount google Drive\n",
        "from google.colab import drive\n",
        "drive.mount('/content/gdrive/')\n",
        "\n",
        "# For spotify helper function\n",
        "import sys\n",
        "sys.path.append('/content/lyrics-sentiment')\n",
        "from helpers import get_spotify_valence, get_lyrics_from_genius, plot_histogram, plot_training\n",
        "\n",
        "# Get lyrics\n",
        "import lyricsgenius \n",
        "\n",
        "# Data analysis\n",
        "import matplotlib.pyplot as plt\n"
      ],
      "execution_count": 0,
      "outputs": [
        {
          "output_type": "stream",
          "text": [
            "Go to this URL in a browser: https://accounts.google.com/o/oauth2/auth?client_id=947318989803-6bn6qk8qdgf4n4g3pfee6491hc0brc4i.apps.googleusercontent.com&redirect_uri=urn%3aietf%3awg%3aoauth%3a2.0%3aoob&response_type=code&scope=email%20https%3a%2f%2fwww.googleapis.com%2fauth%2fdocs.test%20https%3a%2f%2fwww.googleapis.com%2fauth%2fdrive%20https%3a%2f%2fwww.googleapis.com%2fauth%2fdrive.photos.readonly%20https%3a%2f%2fwww.googleapis.com%2fauth%2fpeopleapi.readonly\n",
            "\n",
            "Enter your authorization code:\n",
            "··········\n",
            "Mounted at /content/gdrive/\n"
          ],
          "name": "stdout"
        }
      ]
    },
    {
      "cell_type": "code",
      "metadata": {
        "id": "jLGbeQ_EKaME",
        "colab_type": "code",
        "outputId": "cac3f2f5-ebde-4af3-bce2-0ae90472736f",
        "colab": {
          "base_uri": "https://localhost:8080/",
          "height": 271
        }
      },
      "source": [
        "\n",
        "# Download Lyrics file from Kaggle place it in your drive.\n",
        "# Change MY_FOLDER to your folder in the derive.\n",
        "ROOT_DIRECTORY = \"/content/gdrive/My Drive\"\n",
        "MY_FOLDER = \"6864\"\n",
        "FILE_NAME = \"Lyrics1.csv\"\n",
        "\n",
        "GIT_DB_PATH = '/content/lyrics-sentiment/diversified.xlsx'\n",
        "# Path to save new df to.\n",
        "OUTPUT_FILENAME = \"labeled_lyrics.csv\"\n",
        "SAVE_PATH = os.path.join(ROOT_DIRECTORY, MY_FOLDER, OUTPUT_FILENAME)\n",
        "\n",
        "path_to_data = os.path.join(ROOT_DIRECTORY, MY_FOLDER, FILE_NAME)\n",
        "print(\"Verify your path: \",path_to_data,end='\\n\\n')\n",
        "df = pd.read_csv(path_to_data, error_bad_lines=False)\n",
        "df = df.loc[:, ~df.columns.str.contains('^Unnamed')]\n",
        "\n",
        "# Report the number of sentences.\n",
        "print('Number of training sentences: {:,}\\n'.format(df.shape[0]))\n",
        "\n",
        "# Display random rows from the data.\n",
        "df.sample(5)\n"
      ],
      "execution_count": 0,
      "outputs": [
        {
          "output_type": "stream",
          "text": [
            "Verify your path:  /content/gdrive/My Drive/6864/Lyrics1.csv\n",
            "\n",
            "Number of training sentences: 250,000\n",
            "\n"
          ],
          "name": "stdout"
        },
        {
          "output_type": "execute_result",
          "data": {
            "text/html": [
              "<div>\n",
              "<style scoped>\n",
              "    .dataframe tbody tr th:only-of-type {\n",
              "        vertical-align: middle;\n",
              "    }\n",
              "\n",
              "    .dataframe tbody tr th {\n",
              "        vertical-align: top;\n",
              "    }\n",
              "\n",
              "    .dataframe thead th {\n",
              "        text-align: right;\n",
              "    }\n",
              "</style>\n",
              "<table border=\"1\" class=\"dataframe\">\n",
              "  <thead>\n",
              "    <tr style=\"text-align: right;\">\n",
              "      <th></th>\n",
              "      <th>Band</th>\n",
              "      <th>Lyrics</th>\n",
              "      <th>Song</th>\n",
              "    </tr>\n",
              "  </thead>\n",
              "  <tbody>\n",
              "    <tr>\n",
              "      <th>17858</th>\n",
              "      <td>Sugarland</td>\n",
              "      <td>Why you walking around with your heart so heav...</td>\n",
              "      <td>Find the Beat Again</td>\n",
              "    </tr>\n",
              "    <tr>\n",
              "      <th>13474</th>\n",
              "      <td>Brian McKnight</td>\n",
              "      <td>Mmm, yeah\\nAlright, yeah\\nListen\\n\\nBaby, can ...</td>\n",
              "      <td>Shoulda Woulda Coulda</td>\n",
              "    </tr>\n",
              "    <tr>\n",
              "      <th>249679</th>\n",
              "      <td>Miranda</td>\n",
              "      <td>Esta vez seguro que hago mía tu respuesta\\r\\nF...</td>\n",
              "      <td>Horoscopo</td>\n",
              "    </tr>\n",
              "    <tr>\n",
              "      <th>42987</th>\n",
              "      <td>Johnny Cash</td>\n",
              "      <td>I was born down in the bottoms of the flat bla...</td>\n",
              "      <td>Mississippi Sand</td>\n",
              "    </tr>\n",
              "    <tr>\n",
              "      <th>245537</th>\n",
              "      <td>Annett Louisan</td>\n",
              "      <td>Er bringt sie hoch zu ihrem Bett und jeden Abe...</td>\n",
              "      <td>Besonders</td>\n",
              "    </tr>\n",
              "  </tbody>\n",
              "</table>\n",
              "</div>"
            ],
            "text/plain": [
              "                  Band  ...                   Song\n",
              "17858        Sugarland  ...    Find the Beat Again\n",
              "13474   Brian McKnight  ...  Shoulda Woulda Coulda\n",
              "249679         Miranda  ...              Horoscopo\n",
              "42987      Johnny Cash  ...       Mississippi Sand\n",
              "245537  Annett Louisan  ...              Besonders\n",
              "\n",
              "[5 rows x 3 columns]"
            ]
          },
          "metadata": {
            "tags": []
          },
          "execution_count": 4
        }
      ]
    },
    {
      "cell_type": "code",
      "metadata": {
        "id": "8S9CtTaYLwV3",
        "colab_type": "code",
        "colab": {}
      },
      "source": [
        "# Reomove non-english songs.\n",
        "for column in df.columns:\n",
        "  mask_nonAscii = df[column].str.len().ne(df[column].str.encode('ascii',errors = 'ignore').str.len())\n",
        "  df = df[~mask_nonAscii & df[column].notnull()]\n",
        "\n",
        "# Rename.\n",
        "df.rename({\"Lyrics\": \"seq\", \"Song\": 'song', \"Band\":'artist'}, axis=1, inplace=True)\n",
        "\n",
        "# Create nan column for label.\n",
        "df['label'] = np.nan\n",
        "\n",
        "# Drop duplicates\n",
        "df.drop_duplicates(['song','seq','artist'], keep='first', inplace=True)\n",
        "\n",
        "# Reset index after deleting Nan and duplicate rows\n",
        "df = df.reset_index(drop= True)\n",
        "\n",
        "# Display df information after changes.\n",
        "df.info()"
      ],
      "execution_count": 0,
      "outputs": []
    },
    {
      "cell_type": "markdown",
      "metadata": {
        "id": "QTU4UphUPYFF",
        "colab_type": "text"
      },
      "source": [
        "### Accessing Spotify API"
      ]
    },
    {
      "cell_type": "code",
      "metadata": {
        "id": "tc1IWidhPakf",
        "colab_type": "code",
        "colab": {}
      },
      "source": [
        "import json\n",
        "import urllib.request\n",
        "from urllib.request import Request\n",
        "from pandas.io.json import json_normalize\n",
        "from urllib.parse import quote\n",
        "import time\n",
        "import sys\n",
        "\n",
        "# need to keep quering \"Get Token\" button here: https://developer.spotify.com/console/get-audio-features-track/?id=06AKEBrKUckW0KREUWRnvT\n",
        "current_token = 'PLACE_YOUR_TOKEN_HERE'\n",
        "\n",
        "artists = df.artist.values\n",
        "songs = df.song.values\n",
        "\n",
        "print(len(songs))\n",
        "print(len(artists))\n",
        "print(df.shape)\n"
      ],
      "execution_count": 0,
      "outputs": []
    },
    {
      "cell_type": "markdown",
      "metadata": {
        "id": "f-mv8U3BwFS3",
        "colab_type": "text"
      },
      "source": [
        "Thank you [Madeline Zhang](https://github.com/madelinez820) for the detailed [Spotify access example code](https://github.com/EdenBD/How-To-Win-Eurovision/blob/master/data-wrangling-scripts/spotify_script.ipynb)."
      ]
    },
    {
      "cell_type": "code",
      "metadata": {
        "id": "NBTfURm9PrWK",
        "colab_type": "code",
        "colab": {}
      },
      "source": [
        "songURIS = \"\"\n",
        "max_tracks_count = 99\n",
        "successful_i = []\n",
        "nulls_count = 0\n",
        "\n",
        "# If range bigger than 35,000 need to do in chunks.\n",
        "for i in range(0,len(songs)):\n",
        "    # formatting spaces\n",
        "    song = quote(songs[i])\n",
        "    artist = quote(artists[i]) \n",
        "\n",
        "    # going from artist / song name to song URIs (https://developer.spotify.com/documentation/web-api/reference/search/search/)\n",
        "    # Can make more efficient by increasing limit to 50.\n",
        "    request = Request('https://api.spotify.com/v1/search?q=track:' + song + '%20artist:' + artist + '&type=track&limit=1')\n",
        "    request.add_header('Accept', 'application/json')\n",
        "    request.add_header('Content-Type', 'application/json')\n",
        "    request.add_header('Authorization', 'Bearer ' + current_token)\n",
        "    try: \n",
        "      res = urllib.request.urlopen(request)\n",
        "      resObject = json.load(res)\n",
        "\n",
        "      if (len(resObject[\"tracks\"][\"items\"]) == 0):\n",
        "          nulls_count += 1\n",
        "      else:\n",
        "          songURI = resObject[\"tracks\"][\"items\"][0][\"id\"]\n",
        "\n",
        "          if len(successful_i)<max_tracks_count:\n",
        "            songURIS+=songURI + ','\n",
        "            successful_i.append(i)\n",
        "          else:\n",
        "            songURIS+=songURI\n",
        "            successful_i.append(i)\n",
        "            print(\"Got {} Successful songs\".format(len(successful_i)))\n",
        "            songURIS = quote(songURIS)\n",
        "            # Getting 99 songs URI -> audio features (https://developer.spotify.com/documentation/web-api/reference/tracks/get-several-audio-features/)\n",
        "            audioRequest = Request('https://api.spotify.com/v1/audio-features?ids=' + songURIS)\n",
        "            audioRequest.add_header('Accept', 'application/json')\n",
        "            audioRequest.add_header('Content-Type', 'application/json')\n",
        "            audioRequest.add_header('Authorization', 'Bearer ' + current_token)\n",
        "            audioRes = urllib.request.urlopen(audioRequest)\n",
        "            jsonObject = json.load(audioRes)\n",
        "            tracks_objects = jsonObject[\"audio_features\"]\n",
        "            for idx,trackObject in zip(successful_i, tracks_objects):\n",
        "              # Set value at specified row/column pair.\n",
        "              if trackObject:\n",
        "                df['label'].iat[idx] = trackObject[\"valence\"]\n",
        "            # Reset. \n",
        "            successful_i = []\n",
        "            songURIS = \"\"\n",
        "        \n",
        "\n",
        "    except urllib.error.HTTPError as e:\n",
        "      if int(e.code) == 429: # Maxed requests, need to wait \n",
        "        wait_time = float(e.info()['Retry-After'])\n",
        "      else:\n",
        "        wait_time = 3\n",
        "\n",
        "      if int(e.code) == 400:\n",
        "        print(\"Invalid request at song: \",song)\n",
        "      if int(e.code) == 401:\n",
        "        print(\"Need to refresh Token from i: \",i)\n",
        "        break\n",
        "        \n",
        "      print(\"For {} Sleeping {} seconds at {}\".format(e.code,wait_time,i))\n",
        "      time.sleep(wait_time)\n",
        "\n",
        "print(df.sample(5))"
      ],
      "execution_count": 0,
      "outputs": []
    },
    {
      "cell_type": "code",
      "metadata": {
        "id": "y4qyf04FeH3b",
        "colab_type": "code",
        "colab": {}
      },
      "source": [
        "# Remove nulls for songs not found in Spotify.\n",
        "print(\"df Length before removing Spotify unfound songs: \", len(df))\n",
        "df.dropna(inplace=True)\n",
        "print(\"df Length after: \", len(df))"
      ],
      "execution_count": 0,
      "outputs": []
    },
    {
      "cell_type": "markdown",
      "metadata": {
        "id": "btHgYjpiatRV",
        "colab_type": "text"
      },
      "source": [
        "Only needed if dataset is large (above 35K) and we are building dataset in chunks. Stack current and previously computed dfs. "
      ]
    },
    {
      "cell_type": "code",
      "metadata": {
        "id": "esRufV3lpXl9",
        "colab_type": "code",
        "colab": {}
      },
      "source": [
        "# Size of the chunk that was computed now. \n",
        "done_chunk = 35000\n",
        "\n",
        "# Read the previously calculated df file.\n",
        "prev = pd.read_csv(SAVE_PATH, error_bad_lines=False)\n",
        "\n",
        "prev = prev.loc[:done_chunk, ~prev.columns.str.contains('^Unnamed')]\n",
        "current = df.loc[done_chunk:, ~df.columns.str.contains('^Unnamed')]\n",
        "df = pd.concat([prev, current], axis=0)\n",
        "df = df.loc[:, ~df.columns.str.contains('^Unnamed')]\n"
      ],
      "execution_count": 0,
      "outputs": []
    },
    {
      "cell_type": "markdown",
      "metadata": {
        "id": "FsLOST2Zcoas",
        "colab_type": "text"
      },
      "source": [
        "Save current df to file."
      ]
    },
    {
      "cell_type": "code",
      "metadata": {
        "id": "pcueSGDhcnhz",
        "colab_type": "code",
        "colab": {}
      },
      "source": [
        "df.to_csv(SAVE_PATH)"
      ],
      "execution_count": 0,
      "outputs": []
    },
    {
      "cell_type": "markdown",
      "metadata": {
        "id": "8RFFtsK2k1IA",
        "colab_type": "text"
      },
      "source": [
        "Get Sentiment of one song"
      ]
    },
    {
      "cell_type": "code",
      "metadata": {
        "id": "KhyBZlxCnoyi",
        "colab_type": "code",
        "outputId": "fd20fb21-e182-4f1d-b8b0-9149ecb48c7d",
        "colab": {
          "base_uri": "https://localhost:8080/",
          "height": 35
        }
      },
      "source": [
        "artist_name =\"ariana grande\"\n",
        "song_title = \"Thank you, next\" \n",
        "spotify_token = \"BQAf1m2U3MrXAXnDvJfmep-PJU4bKIuxACzd2OdKaJuNgCQrtuDK2fhTscrBKUP1L10H2IKGYon0dtxmeJ5dFyUhsnZCaRIbAiXOeS2JttAMFSI5eOrEPbBCe04u1aSW8RtQWvflpsFthdwWrk0ToQt7otOmE_4Em4tPRpC3t4ctMhsLGyfQi51K5gGFBhv6TA\"\n",
        "spotify_label = get_spotify_valence(song_title, artist_name , spotify_token)\n"
      ],
      "execution_count": 0,
      "outputs": [
        {
          "output_type": "stream",
          "text": [
            "Found valence: 0.41 of the song: Thank you, next - ariana grande\n"
          ],
          "name": "stdout"
        }
      ]
    }
  ]
}