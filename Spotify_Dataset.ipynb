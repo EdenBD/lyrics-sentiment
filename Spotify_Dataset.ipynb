{
  "nbformat": 4,
  "nbformat_minor": 0,
  "metadata": {
    "kernelspec": {
      "display_name": "Python 3",
      "language": "python",
      "name": "python3"
    },
    "language_info": {
      "codemirror_mode": {
        "name": "ipython",
        "version": 3
      },
      "file_extension": ".py",
      "mimetype": "text/x-python",
      "name": "python",
      "nbconvert_exporter": "python",
      "pygments_lexer": "ipython3",
      "version": "3.7.5"
    },
    "colab": {
      "name": "Proj6864 - Spotify Dataset.ipynb",
      "provenance": [],
      "collapsed_sections": []
    }
  },
  "cells": [
    {
      "cell_type": "markdown",
      "metadata": {
        "id": "JUKW0-nevafA",
        "colab_type": "text"
      },
      "source": [
        "# Preparing Lyrics - Sentiment dataset\n",
        "\n",
        "In this notebook I am using [Spotify API](https://developer.spotify.com/documentation/web-api/) and an existing [Song/Band/Lyrics Kaggle Dataset](https://www.kaggle.com/detkov/lyrics-dataset) to get a sentiment analysis dataset, where I use valence to measure positiveness. The valence ranges from 0 to 1, where higher valence corresponds to [a happier sentiment](https://developer.spotify.com/documentation/web-api/reference/tracks/get-several-audio-features/). \n",
        "\n",
        "Results in a total of ~156,000 non-null rows.\n"
      ]
    },
    {
      "cell_type": "markdown",
      "metadata": {
        "id": "4pK4TdeyI6YU",
        "colab_type": "text"
      },
      "source": [
        "## Taken Steps to Prepare Dataset:\n",
        "\n",
        "1. Get songs lyrics database (with columns: Band, Lyrics, Song).\n",
        "2. Query Spotify for a song ID and songs valence (i.e hapiness), done in chunks of 99 songs per query.\n",
        "3. Integrate to one dataframe, where each song has a corresponding valence value, or np.nan if song not found.\n"
      ]
    },
    {
      "cell_type": "code",
      "metadata": {
        "id": "WccsmdMpJ7tT",
        "colab_type": "code",
        "outputId": "c236a3e6-e85f-40db-c9f6-6c4f360eeb51",
        "colab": {
          "base_uri": "https://localhost:8080/",
          "height": 35
        }
      },
      "source": [
        "import pandas as pd\n",
        "import numpy as np\n",
        "import os \n",
        "\n",
        "# Mount google Drive\n",
        "from google.colab import drive\n",
        "drive.mount('/content/gdrive/')\n"
      ],
      "execution_count": 0,
      "outputs": [
        {
          "output_type": "stream",
          "text": [
            "Drive already mounted at /content/gdrive/; to attempt to forcibly remount, call drive.mount(\"/content/gdrive/\", force_remount=True).\n"
          ],
          "name": "stdout"
        }
      ]
    },
    {
      "cell_type": "code",
      "metadata": {
        "id": "jLGbeQ_EKaME",
        "colab_type": "code",
        "outputId": "931a1c98-1073-4a09-ce0f-8a405767a52f",
        "colab": {
          "base_uri": "https://localhost:8080/",
          "height": 271
        }
      },
      "source": [
        "\n",
        "# Download Lyrics file from Kaggle place it in your drive.\n",
        "# Change MY_FOLDER to your folder in the derive.\n",
        "ROOT_DIRECTORY = \"/content/gdrive/My Drive\"\n",
        "MY_FOLDER = \"6864\"\n",
        "FILE_NAME = \"Lyrics1.csv\"\n",
        "\n",
        "# Path to save new df to.\n",
        "OUTPUT_FILENAME = \"labeled_lyrics.csv\"\n",
        "SAVE_PATH = os.path.join(ROOT_DIRECTORY, MY_FOLDER, OUTPUT_FILENAME)\n",
        "\n",
        "path_to_data = os.path.join(ROOT_DIRECTORY, MY_FOLDER, FILE_NAME)\n",
        "print(\"Verify your path: \",path_to_data,end='\\n\\n')\n",
        "df = pd.read_csv(path_to_data, error_bad_lines=False)\n",
        "df = df.loc[:, ~df.columns.str.contains('^Unnamed')]\n",
        "\n",
        "# Report the number of sentences.\n",
        "print('Number of training sentences: {:,}\\n'.format(df.shape[0]))\n",
        "\n",
        "# Display random rows from the data.\n",
        "df.sample(5)\n"
      ],
      "execution_count": 0,
      "outputs": [
        {
          "output_type": "stream",
          "text": [
            "Verify your path:  /content/gdrive/My Drive/6864/Lyrics1.csv\n",
            "\n",
            "Number of training sentences: 250,000\n",
            "\n"
          ],
          "name": "stdout"
        },
        {
          "output_type": "execute_result",
          "data": {
            "text/html": [
              "<div>\n",
              "<style scoped>\n",
              "    .dataframe tbody tr th:only-of-type {\n",
              "        vertical-align: middle;\n",
              "    }\n",
              "\n",
              "    .dataframe tbody tr th {\n",
              "        vertical-align: top;\n",
              "    }\n",
              "\n",
              "    .dataframe thead th {\n",
              "        text-align: right;\n",
              "    }\n",
              "</style>\n",
              "<table border=\"1\" class=\"dataframe\">\n",
              "  <thead>\n",
              "    <tr style=\"text-align: right;\">\n",
              "      <th></th>\n",
              "      <th>Band</th>\n",
              "      <th>Lyrics</th>\n",
              "      <th>Song</th>\n",
              "    </tr>\n",
              "  </thead>\n",
              "  <tbody>\n",
              "    <tr>\n",
              "      <th>211087</th>\n",
              "      <td>Sky</td>\n",
              "      <td>Day after day\\r\\nAlone on a hill\\r\\nThe man wi...</td>\n",
              "      <td>The Fool on the Hill</td>\n",
              "    </tr>\n",
              "    <tr>\n",
              "      <th>212447</th>\n",
              "      <td>Vasco Rossi</td>\n",
              "      <td>Cosa facciamo stiamo insieme stasera \\r\\nDai n...</td>\n",
              "      <td>Va Bene, Va Bene Cosi'</td>\n",
              "    </tr>\n",
              "    <tr>\n",
              "      <th>148672</th>\n",
              "      <td>Racer X</td>\n",
              "      <td>Her skin silken torcher\\nEyes sharp and mean\\n...</td>\n",
              "      <td>Dangerous Love</td>\n",
              "    </tr>\n",
              "    <tr>\n",
              "      <th>45194</th>\n",
              "      <td>Dead 50's</td>\n",
              "      <td>Don't call my name out your window, I'm leavin...</td>\n",
              "      <td>Understand Your Man</td>\n",
              "    </tr>\n",
              "    <tr>\n",
              "      <th>80886</th>\n",
              "      <td>Carl Palmer</td>\n",
              "      <td>They decorated all the generals\\r\\nWho fought ...</td>\n",
              "      <td>Wildest Dreams</td>\n",
              "    </tr>\n",
              "  </tbody>\n",
              "</table>\n",
              "</div>"
            ],
            "text/plain": [
              "               Band  ...                    Song\n",
              "211087          Sky  ...    The Fool on the Hill\n",
              "212447  Vasco Rossi  ...  Va Bene, Va Bene Cosi'\n",
              "148672      Racer X  ...          Dangerous Love\n",
              "45194     Dead 50's  ...     Understand Your Man\n",
              "80886   Carl Palmer  ...          Wildest Dreams\n",
              "\n",
              "[5 rows x 3 columns]"
            ]
          },
          "metadata": {
            "tags": []
          },
          "execution_count": 18
        }
      ]
    },
    {
      "cell_type": "code",
      "metadata": {
        "id": "8S9CtTaYLwV3",
        "colab_type": "code",
        "outputId": "e6a760e2-bc05-4163-8249-059534295c83",
        "colab": {
          "base_uri": "https://localhost:8080/",
          "height": 208
        }
      },
      "source": [
        "# Reomove non-english songs.\n",
        "for column in df.columns:\n",
        "  mask_nonAscii = df[column].str.len().ne(df[column].str.encode('ascii',errors = 'ignore').str.len())\n",
        "  df = df[~mask_nonAscii & df[column].notnull()]\n",
        "\n",
        "# Rename.\n",
        "df.rename({\"Lyrics\": \"seq\", \"Song\": 'song', \"Band\":'artist'}, axis=1, inplace=True)\n",
        "\n",
        "# Create nan column for label.\n",
        "df['label'] = np.nan\n",
        "\n",
        "# Drop duplicates\n",
        "df.drop_duplicates(['song','seq','artist'], keep='first', inplace=True)\n",
        "\n",
        "# Reset index after deleting Nan and duplicate rows\n",
        "df = df.reset_index(drop= True)\n",
        "\n",
        "# Display df information after changes.\n",
        "df.info()"
      ],
      "execution_count": 0,
      "outputs": [
        {
          "output_type": "stream",
          "text": [
            "<class 'pandas.core.frame.DataFrame'>\n",
            "RangeIndex: 212860 entries, 0 to 212859\n",
            "Data columns (total 4 columns):\n",
            " #   Column  Non-Null Count   Dtype  \n",
            "---  ------  --------------   -----  \n",
            " 0   artist  212860 non-null  object \n",
            " 1   seq     212860 non-null  object \n",
            " 2   song    212860 non-null  object \n",
            " 3   label   0 non-null       float64\n",
            "dtypes: float64(1), object(3)\n",
            "memory usage: 6.5+ MB\n"
          ],
          "name": "stdout"
        }
      ]
    },
    {
      "cell_type": "markdown",
      "metadata": {
        "id": "QTU4UphUPYFF",
        "colab_type": "text"
      },
      "source": [
        "### Accessing Spotify API"
      ]
    },
    {
      "cell_type": "code",
      "metadata": {
        "id": "tc1IWidhPakf",
        "colab_type": "code",
        "colab": {}
      },
      "source": [
        "import json\n",
        "import urllib.request\n",
        "from urllib.request import Request\n",
        "from pandas.io.json import json_normalize\n",
        "from urllib.parse import quote\n",
        "import time\n",
        "import sys\n",
        "\n",
        "# need to keep quering \"Get Token\" button here: https://developer.spotify.com/console/get-audio-features-track/?id=06AKEBrKUckW0KREUWRnvT\n",
        "current_token = 'PLACE_YOUR_TOKEN_HERE'\n",
        "\n",
        "artists = df.artist.values\n",
        "songs = df.song.values\n",
        "\n",
        "print(len(songs))\n",
        "print(len(artists))\n",
        "print(df.shape)\n"
      ],
      "execution_count": 0,
      "outputs": []
    },
    {
      "cell_type": "code",
      "metadata": {
        "id": "NBTfURm9PrWK",
        "colab_type": "code",
        "colab": {}
      },
      "source": [
        "songURIS = \"\"\n",
        "max_tracks_count = 99\n",
        "successful_i = []\n",
        "nulls_count = 0\n",
        "\n",
        "# If range bigger than 35,000 need to do in chunks.\n",
        "for i in range(0,len(songs)):\n",
        "    # formatting spaces\n",
        "    song = quote(songs[i])\n",
        "    artist = quote(artists[i]) \n",
        "\n",
        "    # going from artist / song name to song URIs (https://developer.spotify.com/documentation/web-api/reference/search/search/)\n",
        "    request = Request('https://api.spotify.com/v1/search?q=track:' + song + '%20artist:' + artist + '&type=track&limit=1')\n",
        "    request.add_header('Accept', 'application/json')\n",
        "    request.add_header('Content-Type', 'application/json')\n",
        "    request.add_header('Authorization', 'Bearer ' + current_token)\n",
        "    try: \n",
        "      res = urllib.request.urlopen(request)\n",
        "      resObject = json.load(res)\n",
        "\n",
        "      if (len(resObject[\"tracks\"][\"items\"]) == 0):\n",
        "          nulls_count += 1\n",
        "      else:\n",
        "          songURI = resObject[\"tracks\"][\"items\"][0][\"id\"]\n",
        "\n",
        "          if len(successful_i)<max_tracks_count:\n",
        "            songURIS+=songURI + ','\n",
        "            successful_i.append(i)\n",
        "          else:\n",
        "            songURIS+=songURI\n",
        "            successful_i.append(i)\n",
        "            print(\"Got {} Successful songs\".format(len(successful_i)))\n",
        "            songURIS = quote(songURIS)\n",
        "            # Getting 99 songs URI -> audio features (https://developer.spotify.com/documentation/web-api/reference/tracks/get-several-audio-features/)\n",
        "            audioRequest = Request('https://api.spotify.com/v1/audio-features?ids=' + songURIS)\n",
        "            audioRequest.add_header('Accept', 'application/json')\n",
        "            audioRequest.add_header('Content-Type', 'application/json')\n",
        "            audioRequest.add_header('Authorization', 'Bearer ' + current_token)\n",
        "            audioRes = urllib.request.urlopen(audioRequest)\n",
        "            jsonObject = json.load(audioRes)\n",
        "            tracks_objects = jsonObject[\"audio_features\"]\n",
        "            for idx,trackObject in zip(successful_i, tracks_objects):\n",
        "              # Set value at specified row/column pair.\n",
        "              if trackObject:\n",
        "                df['label'].iat[idx] = trackObject[\"valence\"]\n",
        "            # Reset. \n",
        "            successful_i = []\n",
        "            songURIS = \"\"\n",
        "        \n",
        "\n",
        "    except urllib.error.HTTPError as e:\n",
        "      if int(e.code) == 429: # Maxed requests, need to wait \n",
        "        wait_time = float(e.info()['Retry-After'])\n",
        "      else:\n",
        "        wait_time = 3\n",
        "\n",
        "      if int(e.code) == 400:\n",
        "        print(\"Invalid request at song: \",song)\n",
        "      if int(e.code) == 401:\n",
        "        print(\"Need to refresh Token from i: \",i)\n",
        "        break\n",
        "        \n",
        "      print(\"For {} Sleeping {} seconds at {}\".format(e.code,wait_time,i))\n",
        "      time.sleep(wait_time)\n",
        "\n",
        "print(df.sample(5))"
      ],
      "execution_count": 0,
      "outputs": []
    },
    {
      "cell_type": "code",
      "metadata": {
        "id": "y4qyf04FeH3b",
        "colab_type": "code",
        "colab": {}
      },
      "source": [
        "# Remove nulls for songs not found in Spotify.\n",
        "print(\"df Length before removing Spotify unfound songs: \", len(df))\n",
        "df.dropna(inplace=True)\n",
        "print(\"df Length after: \", len(df))"
      ],
      "execution_count": 0,
      "outputs": []
    },
    {
      "cell_type": "markdown",
      "metadata": {
        "id": "btHgYjpiatRV",
        "colab_type": "text"
      },
      "source": [
        "Only needed if dataset is large (above 35K) and we are building dataset in chunks. Stack current and previously computed dfs. "
      ]
    },
    {
      "cell_type": "code",
      "metadata": {
        "id": "esRufV3lpXl9",
        "colab_type": "code",
        "colab": {}
      },
      "source": [
        "# Size of the chunk that was computed now. \n",
        "done_chunk = 35000\n",
        "\n",
        "# Read the previously calculated df file.\n",
        "prev = pd.read_csv(SAVE_PATH, error_bad_lines=False)\n",
        "\n",
        "prev = prev.loc[:done_chunk, ~prev.columns.str.contains('^Unnamed')]\n",
        "current = df.loc[done_chunk:, ~df.columns.str.contains('^Unnamed')]\n",
        "df = pd.concat([prev, current], axis=0)\n",
        "df = df.loc[:, ~df.columns.str.contains('^Unnamed')]\n"
      ],
      "execution_count": 0,
      "outputs": []
    },
    {
      "cell_type": "markdown",
      "metadata": {
        "id": "FsLOST2Zcoas",
        "colab_type": "text"
      },
      "source": [
        "Save current df to file."
      ]
    },
    {
      "cell_type": "code",
      "metadata": {
        "id": "pcueSGDhcnhz",
        "colab_type": "code",
        "colab": {}
      },
      "source": [
        "df.to_csv(SAVE_PATH)"
      ],
      "execution_count": 0,
      "outputs": []
    }
  ]
}