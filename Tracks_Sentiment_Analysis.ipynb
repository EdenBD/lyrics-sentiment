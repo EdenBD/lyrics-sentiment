{
  "nbformat": 4,
  "nbformat_minor": 0,
  "metadata": {
    "kernelspec": {
      "display_name": "Python 3",
      "language": "python",
      "name": "python3"
    },
    "language_info": {
      "codemirror_mode": {
        "name": "ipython",
        "version": 3
      },
      "file_extension": ".py",
      "mimetype": "text/x-python",
      "name": "python",
      "nbconvert_exporter": "python",
      "pygments_lexer": "ipython3",
      "version": "3.7.5"
    },
    "colab": {
      "name": "Tracks Sentiment Analysis.ipynb",
      "provenance": [],
      "collapsed_sections": [],
      "machine_shape": "hm"
    },
    "widgets": {
      "application/vnd.jupyter.widget-state+json": {
        "335fbde07f9e48e7adaf401a181a124a": {
          "model_module": "@jupyter-widgets/controls",
          "model_name": "HBoxModel",
          "state": {
            "_view_name": "HBoxView",
            "_dom_classes": [],
            "_model_name": "HBoxModel",
            "_view_module": "@jupyter-widgets/controls",
            "_model_module_version": "1.5.0",
            "_view_count": null,
            "_view_module_version": "1.5.0",
            "box_style": "",
            "layout": "IPY_MODEL_a8be414f8bab4e4dad0fd3ef2a5d67f9",
            "_model_module": "@jupyter-widgets/controls",
            "children": [
              "IPY_MODEL_43893c20586141098de41b0efc113a30",
              "IPY_MODEL_6ddae0f4fc8541fe94913ed6d9c26aee"
            ]
          }
        },
        "a8be414f8bab4e4dad0fd3ef2a5d67f9": {
          "model_module": "@jupyter-widgets/base",
          "model_name": "LayoutModel",
          "state": {
            "_view_name": "LayoutView",
            "grid_template_rows": null,
            "right": null,
            "justify_content": null,
            "_view_module": "@jupyter-widgets/base",
            "overflow": null,
            "_model_module_version": "1.2.0",
            "_view_count": null,
            "flex_flow": null,
            "width": null,
            "min_width": null,
            "border": null,
            "align_items": null,
            "bottom": null,
            "_model_module": "@jupyter-widgets/base",
            "top": null,
            "grid_column": null,
            "overflow_y": null,
            "overflow_x": null,
            "grid_auto_flow": null,
            "grid_area": null,
            "grid_template_columns": null,
            "flex": null,
            "_model_name": "LayoutModel",
            "justify_items": null,
            "grid_row": null,
            "max_height": null,
            "align_content": null,
            "visibility": null,
            "align_self": null,
            "height": null,
            "min_height": null,
            "padding": null,
            "grid_auto_rows": null,
            "grid_gap": null,
            "max_width": null,
            "order": null,
            "_view_module_version": "1.2.0",
            "grid_template_areas": null,
            "object_position": null,
            "object_fit": null,
            "grid_auto_columns": null,
            "margin": null,
            "display": null,
            "left": null
          }
        },
        "43893c20586141098de41b0efc113a30": {
          "model_module": "@jupyter-widgets/controls",
          "model_name": "IntProgressModel",
          "state": {
            "_view_name": "ProgressView",
            "style": "IPY_MODEL_13a6144c7403475b8c90c4e48b5327da",
            "_dom_classes": [],
            "description": "Downloading: 100%",
            "_model_name": "IntProgressModel",
            "bar_style": "success",
            "max": 231508,
            "_view_module": "@jupyter-widgets/controls",
            "_model_module_version": "1.5.0",
            "value": 231508,
            "_view_count": null,
            "_view_module_version": "1.5.0",
            "orientation": "horizontal",
            "min": 0,
            "description_tooltip": null,
            "_model_module": "@jupyter-widgets/controls",
            "layout": "IPY_MODEL_62bde083c0fa40acaee910747183a00b"
          }
        },
        "6ddae0f4fc8541fe94913ed6d9c26aee": {
          "model_module": "@jupyter-widgets/controls",
          "model_name": "HTMLModel",
          "state": {
            "_view_name": "HTMLView",
            "style": "IPY_MODEL_bb946aa6f5454aa093d833cb992fcda0",
            "_dom_classes": [],
            "description": "",
            "_model_name": "HTMLModel",
            "placeholder": "​",
            "_view_module": "@jupyter-widgets/controls",
            "_model_module_version": "1.5.0",
            "value": " 232k/232k [00:00&lt;00:00, 1.69MB/s]",
            "_view_count": null,
            "_view_module_version": "1.5.0",
            "description_tooltip": null,
            "_model_module": "@jupyter-widgets/controls",
            "layout": "IPY_MODEL_2e3f8dc59bdc45138f02626b82e8780b"
          }
        },
        "13a6144c7403475b8c90c4e48b5327da": {
          "model_module": "@jupyter-widgets/controls",
          "model_name": "ProgressStyleModel",
          "state": {
            "_view_name": "StyleView",
            "_model_name": "ProgressStyleModel",
            "description_width": "initial",
            "_view_module": "@jupyter-widgets/base",
            "_model_module_version": "1.5.0",
            "_view_count": null,
            "_view_module_version": "1.2.0",
            "bar_color": null,
            "_model_module": "@jupyter-widgets/controls"
          }
        },
        "62bde083c0fa40acaee910747183a00b": {
          "model_module": "@jupyter-widgets/base",
          "model_name": "LayoutModel",
          "state": {
            "_view_name": "LayoutView",
            "grid_template_rows": null,
            "right": null,
            "justify_content": null,
            "_view_module": "@jupyter-widgets/base",
            "overflow": null,
            "_model_module_version": "1.2.0",
            "_view_count": null,
            "flex_flow": null,
            "width": null,
            "min_width": null,
            "border": null,
            "align_items": null,
            "bottom": null,
            "_model_module": "@jupyter-widgets/base",
            "top": null,
            "grid_column": null,
            "overflow_y": null,
            "overflow_x": null,
            "grid_auto_flow": null,
            "grid_area": null,
            "grid_template_columns": null,
            "flex": null,
            "_model_name": "LayoutModel",
            "justify_items": null,
            "grid_row": null,
            "max_height": null,
            "align_content": null,
            "visibility": null,
            "align_self": null,
            "height": null,
            "min_height": null,
            "padding": null,
            "grid_auto_rows": null,
            "grid_gap": null,
            "max_width": null,
            "order": null,
            "_view_module_version": "1.2.0",
            "grid_template_areas": null,
            "object_position": null,
            "object_fit": null,
            "grid_auto_columns": null,
            "margin": null,
            "display": null,
            "left": null
          }
        },
        "bb946aa6f5454aa093d833cb992fcda0": {
          "model_module": "@jupyter-widgets/controls",
          "model_name": "DescriptionStyleModel",
          "state": {
            "_view_name": "StyleView",
            "_model_name": "DescriptionStyleModel",
            "description_width": "",
            "_view_module": "@jupyter-widgets/base",
            "_model_module_version": "1.5.0",
            "_view_count": null,
            "_view_module_version": "1.2.0",
            "_model_module": "@jupyter-widgets/controls"
          }
        },
        "2e3f8dc59bdc45138f02626b82e8780b": {
          "model_module": "@jupyter-widgets/base",
          "model_name": "LayoutModel",
          "state": {
            "_view_name": "LayoutView",
            "grid_template_rows": null,
            "right": null,
            "justify_content": null,
            "_view_module": "@jupyter-widgets/base",
            "overflow": null,
            "_model_module_version": "1.2.0",
            "_view_count": null,
            "flex_flow": null,
            "width": null,
            "min_width": null,
            "border": null,
            "align_items": null,
            "bottom": null,
            "_model_module": "@jupyter-widgets/base",
            "top": null,
            "grid_column": null,
            "overflow_y": null,
            "overflow_x": null,
            "grid_auto_flow": null,
            "grid_area": null,
            "grid_template_columns": null,
            "flex": null,
            "_model_name": "LayoutModel",
            "justify_items": null,
            "grid_row": null,
            "max_height": null,
            "align_content": null,
            "visibility": null,
            "align_self": null,
            "height": null,
            "min_height": null,
            "padding": null,
            "grid_auto_rows": null,
            "grid_gap": null,
            "max_width": null,
            "order": null,
            "_view_module_version": "1.2.0",
            "grid_template_areas": null,
            "object_position": null,
            "object_fit": null,
            "grid_auto_columns": null,
            "margin": null,
            "display": null,
            "left": null
          }
        },
        "3a174dcf5cfd4f5a992f3f4c5d50f251": {
          "model_module": "@jupyter-widgets/controls",
          "model_name": "HBoxModel",
          "state": {
            "_view_name": "HBoxView",
            "_dom_classes": [],
            "_model_name": "HBoxModel",
            "_view_module": "@jupyter-widgets/controls",
            "_model_module_version": "1.5.0",
            "_view_count": null,
            "_view_module_version": "1.5.0",
            "box_style": "",
            "layout": "IPY_MODEL_c783628ca8d04979af5c22c0a7efec2d",
            "_model_module": "@jupyter-widgets/controls",
            "children": [
              "IPY_MODEL_bef3612396194d3abaf60ab709c98ef7",
              "IPY_MODEL_5a176abcf9de47febb4252ae379593cd"
            ]
          }
        },
        "c783628ca8d04979af5c22c0a7efec2d": {
          "model_module": "@jupyter-widgets/base",
          "model_name": "LayoutModel",
          "state": {
            "_view_name": "LayoutView",
            "grid_template_rows": null,
            "right": null,
            "justify_content": null,
            "_view_module": "@jupyter-widgets/base",
            "overflow": null,
            "_model_module_version": "1.2.0",
            "_view_count": null,
            "flex_flow": null,
            "width": null,
            "min_width": null,
            "border": null,
            "align_items": null,
            "bottom": null,
            "_model_module": "@jupyter-widgets/base",
            "top": null,
            "grid_column": null,
            "overflow_y": null,
            "overflow_x": null,
            "grid_auto_flow": null,
            "grid_area": null,
            "grid_template_columns": null,
            "flex": null,
            "_model_name": "LayoutModel",
            "justify_items": null,
            "grid_row": null,
            "max_height": null,
            "align_content": null,
            "visibility": null,
            "align_self": null,
            "height": null,
            "min_height": null,
            "padding": null,
            "grid_auto_rows": null,
            "grid_gap": null,
            "max_width": null,
            "order": null,
            "_view_module_version": "1.2.0",
            "grid_template_areas": null,
            "object_position": null,
            "object_fit": null,
            "grid_auto_columns": null,
            "margin": null,
            "display": null,
            "left": null
          }
        },
        "bef3612396194d3abaf60ab709c98ef7": {
          "model_module": "@jupyter-widgets/controls",
          "model_name": "IntProgressModel",
          "state": {
            "_view_name": "ProgressView",
            "style": "IPY_MODEL_266248e0feb44e148a818793d3319108",
            "_dom_classes": [],
            "description": "Downloading: 100%",
            "_model_name": "IntProgressModel",
            "bar_style": "success",
            "max": 433,
            "_view_module": "@jupyter-widgets/controls",
            "_model_module_version": "1.5.0",
            "value": 433,
            "_view_count": null,
            "_view_module_version": "1.5.0",
            "orientation": "horizontal",
            "min": 0,
            "description_tooltip": null,
            "_model_module": "@jupyter-widgets/controls",
            "layout": "IPY_MODEL_eb9cc59217c44ae8bd0b6b8fbfd4d341"
          }
        },
        "5a176abcf9de47febb4252ae379593cd": {
          "model_module": "@jupyter-widgets/controls",
          "model_name": "HTMLModel",
          "state": {
            "_view_name": "HTMLView",
            "style": "IPY_MODEL_8a1bc8ce4e454c8abf0dab7bfa088129",
            "_dom_classes": [],
            "description": "",
            "_model_name": "HTMLModel",
            "placeholder": "​",
            "_view_module": "@jupyter-widgets/controls",
            "_model_module_version": "1.5.0",
            "value": " 433/433 [00:00&lt;00:00, 1.23kB/s]",
            "_view_count": null,
            "_view_module_version": "1.5.0",
            "description_tooltip": null,
            "_model_module": "@jupyter-widgets/controls",
            "layout": "IPY_MODEL_ccfe365405fd4bacb02dbc31b7d23280"
          }
        },
        "266248e0feb44e148a818793d3319108": {
          "model_module": "@jupyter-widgets/controls",
          "model_name": "ProgressStyleModel",
          "state": {
            "_view_name": "StyleView",
            "_model_name": "ProgressStyleModel",
            "description_width": "initial",
            "_view_module": "@jupyter-widgets/base",
            "_model_module_version": "1.5.0",
            "_view_count": null,
            "_view_module_version": "1.2.0",
            "bar_color": null,
            "_model_module": "@jupyter-widgets/controls"
          }
        },
        "eb9cc59217c44ae8bd0b6b8fbfd4d341": {
          "model_module": "@jupyter-widgets/base",
          "model_name": "LayoutModel",
          "state": {
            "_view_name": "LayoutView",
            "grid_template_rows": null,
            "right": null,
            "justify_content": null,
            "_view_module": "@jupyter-widgets/base",
            "overflow": null,
            "_model_module_version": "1.2.0",
            "_view_count": null,
            "flex_flow": null,
            "width": null,
            "min_width": null,
            "border": null,
            "align_items": null,
            "bottom": null,
            "_model_module": "@jupyter-widgets/base",
            "top": null,
            "grid_column": null,
            "overflow_y": null,
            "overflow_x": null,
            "grid_auto_flow": null,
            "grid_area": null,
            "grid_template_columns": null,
            "flex": null,
            "_model_name": "LayoutModel",
            "justify_items": null,
            "grid_row": null,
            "max_height": null,
            "align_content": null,
            "visibility": null,
            "align_self": null,
            "height": null,
            "min_height": null,
            "padding": null,
            "grid_auto_rows": null,
            "grid_gap": null,
            "max_width": null,
            "order": null,
            "_view_module_version": "1.2.0",
            "grid_template_areas": null,
            "object_position": null,
            "object_fit": null,
            "grid_auto_columns": null,
            "margin": null,
            "display": null,
            "left": null
          }
        },
        "8a1bc8ce4e454c8abf0dab7bfa088129": {
          "model_module": "@jupyter-widgets/controls",
          "model_name": "DescriptionStyleModel",
          "state": {
            "_view_name": "StyleView",
            "_model_name": "DescriptionStyleModel",
            "description_width": "",
            "_view_module": "@jupyter-widgets/base",
            "_model_module_version": "1.5.0",
            "_view_count": null,
            "_view_module_version": "1.2.0",
            "_model_module": "@jupyter-widgets/controls"
          }
        },
        "ccfe365405fd4bacb02dbc31b7d23280": {
          "model_module": "@jupyter-widgets/base",
          "model_name": "LayoutModel",
          "state": {
            "_view_name": "LayoutView",
            "grid_template_rows": null,
            "right": null,
            "justify_content": null,
            "_view_module": "@jupyter-widgets/base",
            "overflow": null,
            "_model_module_version": "1.2.0",
            "_view_count": null,
            "flex_flow": null,
            "width": null,
            "min_width": null,
            "border": null,
            "align_items": null,
            "bottom": null,
            "_model_module": "@jupyter-widgets/base",
            "top": null,
            "grid_column": null,
            "overflow_y": null,
            "overflow_x": null,
            "grid_auto_flow": null,
            "grid_area": null,
            "grid_template_columns": null,
            "flex": null,
            "_model_name": "LayoutModel",
            "justify_items": null,
            "grid_row": null,
            "max_height": null,
            "align_content": null,
            "visibility": null,
            "align_self": null,
            "height": null,
            "min_height": null,
            "padding": null,
            "grid_auto_rows": null,
            "grid_gap": null,
            "max_width": null,
            "order": null,
            "_view_module_version": "1.2.0",
            "grid_template_areas": null,
            "object_position": null,
            "object_fit": null,
            "grid_auto_columns": null,
            "margin": null,
            "display": null,
            "left": null
          }
        },
        "6c0078c577a743eca35b10ae434d7e0f": {
          "model_module": "@jupyter-widgets/controls",
          "model_name": "HBoxModel",
          "state": {
            "_view_name": "HBoxView",
            "_dom_classes": [],
            "_model_name": "HBoxModel",
            "_view_module": "@jupyter-widgets/controls",
            "_model_module_version": "1.5.0",
            "_view_count": null,
            "_view_module_version": "1.5.0",
            "box_style": "",
            "layout": "IPY_MODEL_c87a5b7473b9461daa3859351fcab177",
            "_model_module": "@jupyter-widgets/controls",
            "children": [
              "IPY_MODEL_90f8f9c07d0d451ba02bc45f355ce7fd",
              "IPY_MODEL_af1435f2669e4585bcafbafe8d5ec96c"
            ]
          }
        },
        "c87a5b7473b9461daa3859351fcab177": {
          "model_module": "@jupyter-widgets/base",
          "model_name": "LayoutModel",
          "state": {
            "_view_name": "LayoutView",
            "grid_template_rows": null,
            "right": null,
            "justify_content": null,
            "_view_module": "@jupyter-widgets/base",
            "overflow": null,
            "_model_module_version": "1.2.0",
            "_view_count": null,
            "flex_flow": null,
            "width": null,
            "min_width": null,
            "border": null,
            "align_items": null,
            "bottom": null,
            "_model_module": "@jupyter-widgets/base",
            "top": null,
            "grid_column": null,
            "overflow_y": null,
            "overflow_x": null,
            "grid_auto_flow": null,
            "grid_area": null,
            "grid_template_columns": null,
            "flex": null,
            "_model_name": "LayoutModel",
            "justify_items": null,
            "grid_row": null,
            "max_height": null,
            "align_content": null,
            "visibility": null,
            "align_self": null,
            "height": null,
            "min_height": null,
            "padding": null,
            "grid_auto_rows": null,
            "grid_gap": null,
            "max_width": null,
            "order": null,
            "_view_module_version": "1.2.0",
            "grid_template_areas": null,
            "object_position": null,
            "object_fit": null,
            "grid_auto_columns": null,
            "margin": null,
            "display": null,
            "left": null
          }
        },
        "90f8f9c07d0d451ba02bc45f355ce7fd": {
          "model_module": "@jupyter-widgets/controls",
          "model_name": "IntProgressModel",
          "state": {
            "_view_name": "ProgressView",
            "style": "IPY_MODEL_24970bedaf5f473090c14ac2f09f068b",
            "_dom_classes": [],
            "description": "Downloading: 100%",
            "_model_name": "IntProgressModel",
            "bar_style": "success",
            "max": 440473133,
            "_view_module": "@jupyter-widgets/controls",
            "_model_module_version": "1.5.0",
            "value": 440473133,
            "_view_count": null,
            "_view_module_version": "1.5.0",
            "orientation": "horizontal",
            "min": 0,
            "description_tooltip": null,
            "_model_module": "@jupyter-widgets/controls",
            "layout": "IPY_MODEL_e7e8758d08df4f93a7bf4ba06edd4042"
          }
        },
        "af1435f2669e4585bcafbafe8d5ec96c": {
          "model_module": "@jupyter-widgets/controls",
          "model_name": "HTMLModel",
          "state": {
            "_view_name": "HTMLView",
            "style": "IPY_MODEL_55debc83e9fe4cf0ad2095fd5e0f3589",
            "_dom_classes": [],
            "description": "",
            "_model_name": "HTMLModel",
            "placeholder": "​",
            "_view_module": "@jupyter-widgets/controls",
            "_model_module_version": "1.5.0",
            "value": " 440M/440M [00:10&lt;00:00, 43.6MB/s]",
            "_view_count": null,
            "_view_module_version": "1.5.0",
            "description_tooltip": null,
            "_model_module": "@jupyter-widgets/controls",
            "layout": "IPY_MODEL_91a02410c8c9476fb950876b2e45c2df"
          }
        },
        "24970bedaf5f473090c14ac2f09f068b": {
          "model_module": "@jupyter-widgets/controls",
          "model_name": "ProgressStyleModel",
          "state": {
            "_view_name": "StyleView",
            "_model_name": "ProgressStyleModel",
            "description_width": "initial",
            "_view_module": "@jupyter-widgets/base",
            "_model_module_version": "1.5.0",
            "_view_count": null,
            "_view_module_version": "1.2.0",
            "bar_color": null,
            "_model_module": "@jupyter-widgets/controls"
          }
        },
        "e7e8758d08df4f93a7bf4ba06edd4042": {
          "model_module": "@jupyter-widgets/base",
          "model_name": "LayoutModel",
          "state": {
            "_view_name": "LayoutView",
            "grid_template_rows": null,
            "right": null,
            "justify_content": null,
            "_view_module": "@jupyter-widgets/base",
            "overflow": null,
            "_model_module_version": "1.2.0",
            "_view_count": null,
            "flex_flow": null,
            "width": null,
            "min_width": null,
            "border": null,
            "align_items": null,
            "bottom": null,
            "_model_module": "@jupyter-widgets/base",
            "top": null,
            "grid_column": null,
            "overflow_y": null,
            "overflow_x": null,
            "grid_auto_flow": null,
            "grid_area": null,
            "grid_template_columns": null,
            "flex": null,
            "_model_name": "LayoutModel",
            "justify_items": null,
            "grid_row": null,
            "max_height": null,
            "align_content": null,
            "visibility": null,
            "align_self": null,
            "height": null,
            "min_height": null,
            "padding": null,
            "grid_auto_rows": null,
            "grid_gap": null,
            "max_width": null,
            "order": null,
            "_view_module_version": "1.2.0",
            "grid_template_areas": null,
            "object_position": null,
            "object_fit": null,
            "grid_auto_columns": null,
            "margin": null,
            "display": null,
            "left": null
          }
        },
        "55debc83e9fe4cf0ad2095fd5e0f3589": {
          "model_module": "@jupyter-widgets/controls",
          "model_name": "DescriptionStyleModel",
          "state": {
            "_view_name": "StyleView",
            "_model_name": "DescriptionStyleModel",
            "description_width": "",
            "_view_module": "@jupyter-widgets/base",
            "_model_module_version": "1.5.0",
            "_view_count": null,
            "_view_module_version": "1.2.0",
            "_model_module": "@jupyter-widgets/controls"
          }
        },
        "91a02410c8c9476fb950876b2e45c2df": {
          "model_module": "@jupyter-widgets/base",
          "model_name": "LayoutModel",
          "state": {
            "_view_name": "LayoutView",
            "grid_template_rows": null,
            "right": null,
            "justify_content": null,
            "_view_module": "@jupyter-widgets/base",
            "overflow": null,
            "_model_module_version": "1.2.0",
            "_view_count": null,
            "flex_flow": null,
            "width": null,
            "min_width": null,
            "border": null,
            "align_items": null,
            "bottom": null,
            "_model_module": "@jupyter-widgets/base",
            "top": null,
            "grid_column": null,
            "overflow_y": null,
            "overflow_x": null,
            "grid_auto_flow": null,
            "grid_area": null,
            "grid_template_columns": null,
            "flex": null,
            "_model_name": "LayoutModel",
            "justify_items": null,
            "grid_row": null,
            "max_height": null,
            "align_content": null,
            "visibility": null,
            "align_self": null,
            "height": null,
            "min_height": null,
            "padding": null,
            "grid_auto_rows": null,
            "grid_gap": null,
            "max_width": null,
            "order": null,
            "_view_module_version": "1.2.0",
            "grid_template_areas": null,
            "object_position": null,
            "object_fit": null,
            "grid_auto_columns": null,
            "margin": null,
            "display": null,
            "left": null
          }
        }
      }
    }
  },
  "cells": [
    {
      "cell_type": "markdown",
      "metadata": {
        "id": "JUKW0-nevafA",
        "colab_type": "text"
      },
      "source": [
        "# NLP Task: Lyrics Sentiment Analysis using Spotify & Transformers\n",
        "\n",
        "#### In this tutorial I implement a BERT transformer with a bi-directional GRU fine-tuning layer to estimate sentiment of lyrical data. The model outputs a real number estimate between 0-1 (extremely negative to positive). \n",
        "\n",
        "##### You can try its predictions on your favorite song's lyrics :D\n",
        "\n",
        "By using the pre-trained BERT transformer from [hugginface transformers library](https://github.com/huggingface/transformers) as an embedding layer, we only have to train an additional GRU layer for the sentiment analysis, regression task (outputting a point prediction instead of a class). To train the fine-tunning layer of the model, I use Spotify valence attribute on a lyrics datset. "
      ]
    },
    {
      "cell_type": "markdown",
      "metadata": {
        "id": "7H22QsJmUMnd",
        "colab_type": "text"
      },
      "source": [
        "#### References: \n",
        "1. Pre-processing and loading a custom dataset, gaining a better understanding of hugginface: [BERT Fine-Tuning Tutorial with PyTorch By Chris McCormick and Nick Ryan](https://colab.research.google.com/drive/1pTuQhug6Dhl9XalKB0zUGf4FIdYFlpcX). \n",
        "2. Training the fine-tunning layer: [PyTorch Sentiment Analysis by Ben Trevett](https://github.com/bentrevett/pytorch-sentiment-analysis/blob/master/6%20-%20Transformers%20for%20Sentiment%20Analysis.ipynb).\n",
        "3. [6.864 Natural Language Processing Spring 2020](https://ocw.mit.edu/courses/electrical-engineering-and-computer-science/6-864-advanced-natural-language-processing-fall-2005/) material. "
      ]
    },
    {
      "cell_type": "markdown",
      "metadata": {
        "id": "4pK4TdeyI6YU",
        "colab_type": "text"
      },
      "source": [
        "## Step 1: Import Libraries and Define Constants\n",
        "\n",
        "I processed the dataset in [this notebook](https://colab.research.google.com/drive/17NWbYNiSXYfoCipbn9qXmkIL1SvCFOah):\n",
        "1. Got songs lyrics from a Kaggle database (with columns: Band, Lyrics, Song).\n",
        "2. Queried Spotify for each song [valence](https://developer.spotify.com/documentation/web-api/reference/tracks/get-audio-features/) (as a measure of positiveness).\n",
        "3. Integrated to one dataframe, where each songs has a corresponding valence value, without nulls.\n"
      ]
    },
    {
      "cell_type": "code",
      "metadata": {
        "id": "sObWr8bUdZ6-",
        "colab_type": "code",
        "outputId": "aff48141-f9f8-4771-9609-ddab63d0a70b",
        "colab": {
          "base_uri": "https://localhost:8080/",
          "height": 1000
        }
      },
      "source": [
        "%%bash\n",
        "# Check colab and silent output if there are no errors\n",
        "!(stat -t /usr/local/lib/*/dist-packages/google/colab > /dev/null 2>&1) && exit \n",
        "# Clone Github repository \n",
        "rm -rf lyrics-sentiment\n",
        "git clone https://github.com/EdenBD/lyrics-sentiment.git\n",
        "# To open a function from a different notebook\n",
        "pip install ipynb\n",
        "# To use pre-trained BERT models\n",
        "pip install transformers\n",
        "# To download my model from the drive\n",
        "pip install -U -q PyDrive\n",
        "# Visualizations\n",
        "pip install wordcloud\n",
        "python -m pip install -U matplotlib\n",
        "# Lyrics\n",
        "pip install lyricsgenius\n",
        "pip install stop-words\n"
      ],
      "execution_count": 3,
      "outputs": [
        {
          "output_type": "stream",
          "text": [
            "Collecting ipynb\n",
            "  Downloading https://files.pythonhosted.org/packages/31/42/4c0bbb66390e3a68e04ebf134c8d074a00c18b5882293f8ace5f7497fbf0/ipynb-0.5.1-py3-none-any.whl\n",
            "Installing collected packages: ipynb\n",
            "Successfully installed ipynb-0.5.1\n",
            "Collecting transformers\n",
            "  Downloading https://files.pythonhosted.org/packages/a3/78/92cedda05552398352ed9784908b834ee32a0bd071a9b32de287327370b7/transformers-2.8.0-py3-none-any.whl (563kB)\n",
            "Collecting sacremoses\n",
            "  Downloading https://files.pythonhosted.org/packages/99/50/93509f906a40bffd7d175f97fd75ea328ad9bd91f48f59c4bd084c94a25e/sacremoses-0.0.41.tar.gz (883kB)\n",
            "Requirement already satisfied: boto3 in /usr/local/lib/python3.6/dist-packages (from transformers) (1.12.47)\n",
            "Requirement already satisfied: tqdm>=4.27 in /usr/local/lib/python3.6/dist-packages (from transformers) (4.38.0)\n",
            "Requirement already satisfied: regex!=2019.12.17 in /usr/local/lib/python3.6/dist-packages (from transformers) (2019.12.20)\n",
            "Requirement already satisfied: dataclasses; python_version < \"3.7\" in /usr/local/lib/python3.6/dist-packages (from transformers) (0.7)\n",
            "Requirement already satisfied: numpy in /usr/local/lib/python3.6/dist-packages (from transformers) (1.18.3)\n",
            "Requirement already satisfied: filelock in /usr/local/lib/python3.6/dist-packages (from transformers) (3.0.12)\n",
            "Collecting sentencepiece\n",
            "  Downloading https://files.pythonhosted.org/packages/98/2c/8df20f3ac6c22ac224fff307ebc102818206c53fc454ecd37d8ac2060df5/sentencepiece-0.1.86-cp36-cp36m-manylinux1_x86_64.whl (1.0MB)\n",
            "Requirement already satisfied: requests in /usr/local/lib/python3.6/dist-packages (from transformers) (2.23.0)\n",
            "Collecting tokenizers==0.5.2\n",
            "  Downloading https://files.pythonhosted.org/packages/d1/3f/73c881ea4723e43c1e9acf317cf407fab3a278daab3a69c98dcac511c04f/tokenizers-0.5.2-cp36-cp36m-manylinux1_x86_64.whl (3.7MB)\n",
            "Requirement already satisfied: six in /usr/local/lib/python3.6/dist-packages (from sacremoses->transformers) (1.12.0)\n",
            "Requirement already satisfied: click in /usr/local/lib/python3.6/dist-packages (from sacremoses->transformers) (7.1.2)\n",
            "Requirement already satisfied: joblib in /usr/local/lib/python3.6/dist-packages (from sacremoses->transformers) (0.14.1)\n",
            "Requirement already satisfied: botocore<1.16.0,>=1.15.47 in /usr/local/lib/python3.6/dist-packages (from boto3->transformers) (1.15.47)\n",
            "Requirement already satisfied: jmespath<1.0.0,>=0.7.1 in /usr/local/lib/python3.6/dist-packages (from boto3->transformers) (0.9.5)\n",
            "Requirement already satisfied: s3transfer<0.4.0,>=0.3.0 in /usr/local/lib/python3.6/dist-packages (from boto3->transformers) (0.3.3)\n",
            "Requirement already satisfied: urllib3!=1.25.0,!=1.25.1,<1.26,>=1.21.1 in /usr/local/lib/python3.6/dist-packages (from requests->transformers) (1.24.3)\n",
            "Requirement already satisfied: idna<3,>=2.5 in /usr/local/lib/python3.6/dist-packages (from requests->transformers) (2.9)\n",
            "Requirement already satisfied: chardet<4,>=3.0.2 in /usr/local/lib/python3.6/dist-packages (from requests->transformers) (3.0.4)\n",
            "Requirement already satisfied: certifi>=2017.4.17 in /usr/local/lib/python3.6/dist-packages (from requests->transformers) (2020.4.5.1)\n",
            "Requirement already satisfied: docutils<0.16,>=0.10 in /usr/local/lib/python3.6/dist-packages (from botocore<1.16.0,>=1.15.47->boto3->transformers) (0.15.2)\n",
            "Requirement already satisfied: python-dateutil<3.0.0,>=2.1 in /usr/local/lib/python3.6/dist-packages (from botocore<1.16.0,>=1.15.47->boto3->transformers) (2.8.1)\n",
            "Building wheels for collected packages: sacremoses\n",
            "  Building wheel for sacremoses (setup.py): started\n",
            "  Building wheel for sacremoses (setup.py): finished with status 'done'\n",
            "  Created wheel for sacremoses: filename=sacremoses-0.0.41-cp36-none-any.whl size=893334 sha256=ad7fd9c397decf3959bdad612a3ac7e23ecf33569b12d7c1663db6ae5021e7f1\n",
            "  Stored in directory: /root/.cache/pip/wheels/22/5a/d4/b020a81249de7dc63758a34222feaa668dbe8ebfe9170cc9b1\n",
            "Successfully built sacremoses\n",
            "Installing collected packages: sacremoses, sentencepiece, tokenizers, transformers\n",
            "Successfully installed sacremoses-0.0.41 sentencepiece-0.1.86 tokenizers-0.5.2 transformers-2.8.0\n",
            "Requirement already satisfied: wordcloud in /usr/local/lib/python3.6/dist-packages (1.5.0)\n",
            "Requirement already satisfied: pillow in /usr/local/lib/python3.6/dist-packages (from wordcloud) (7.0.0)\n",
            "Requirement already satisfied: numpy>=1.6.1 in /usr/local/lib/python3.6/dist-packages (from wordcloud) (1.18.3)\n",
            "Requirement already up-to-date: matplotlib in /usr/local/lib/python3.6/dist-packages (3.2.1)\n",
            "Requirement already satisfied, skipping upgrade: kiwisolver>=1.0.1 in /usr/local/lib/python3.6/dist-packages (from matplotlib) (1.2.0)\n",
            "Requirement already satisfied, skipping upgrade: numpy>=1.11 in /usr/local/lib/python3.6/dist-packages (from matplotlib) (1.18.3)\n",
            "Requirement already satisfied, skipping upgrade: python-dateutil>=2.1 in /usr/local/lib/python3.6/dist-packages (from matplotlib) (2.8.1)\n",
            "Requirement already satisfied, skipping upgrade: pyparsing!=2.0.4,!=2.1.2,!=2.1.6,>=2.0.1 in /usr/local/lib/python3.6/dist-packages (from matplotlib) (2.4.7)\n",
            "Requirement already satisfied, skipping upgrade: cycler>=0.10 in /usr/local/lib/python3.6/dist-packages (from matplotlib) (0.10.0)\n",
            "Requirement already satisfied, skipping upgrade: six>=1.5 in /usr/local/lib/python3.6/dist-packages (from python-dateutil>=2.1->matplotlib) (1.12.0)\n",
            "Collecting lyricsgenius\n",
            "  Downloading https://files.pythonhosted.org/packages/45/22/a1bb37594dff57b87134071f9881919110cd26fcb4f37b682c7db544d53b/lyricsgenius-1.8.4-py3-none-any.whl\n",
            "Collecting beautifulsoup4==4.6.0\n",
            "  Downloading https://files.pythonhosted.org/packages/9e/d4/10f46e5cfac773e22707237bfcd51bbffeaf0a576b0a847ec7ab15bd7ace/beautifulsoup4-4.6.0-py3-none-any.whl (86kB)\n",
            "Requirement already satisfied: requests>=2.20.0 in /usr/local/lib/python3.6/dist-packages (from lyricsgenius) (2.23.0)\n",
            "Requirement already satisfied: chardet<4,>=3.0.2 in /usr/local/lib/python3.6/dist-packages (from requests>=2.20.0->lyricsgenius) (3.0.4)\n",
            "Requirement already satisfied: certifi>=2017.4.17 in /usr/local/lib/python3.6/dist-packages (from requests>=2.20.0->lyricsgenius) (2020.4.5.1)\n",
            "Requirement already satisfied: idna<3,>=2.5 in /usr/local/lib/python3.6/dist-packages (from requests>=2.20.0->lyricsgenius) (2.9)\n",
            "Requirement already satisfied: urllib3!=1.25.0,!=1.25.1,<1.26,>=1.21.1 in /usr/local/lib/python3.6/dist-packages (from requests>=2.20.0->lyricsgenius) (1.24.3)\n",
            "Installing collected packages: beautifulsoup4, lyricsgenius\n",
            "  Found existing installation: beautifulsoup4 4.6.3\n",
            "    Uninstalling beautifulsoup4-4.6.3:\n",
            "      Successfully uninstalled beautifulsoup4-4.6.3\n",
            "Successfully installed beautifulsoup4-4.6.0 lyricsgenius-1.8.4\n",
            "Collecting stop-words\n",
            "  Downloading https://files.pythonhosted.org/packages/1c/cb/d58290804b7a4c5daa42abbbe2a93c477ae53e45541b1825e86f0dfaaf63/stop-words-2018.7.23.tar.gz\n",
            "Building wheels for collected packages: stop-words\n",
            "  Building wheel for stop-words (setup.py): started\n",
            "  Building wheel for stop-words (setup.py): finished with status 'done'\n",
            "  Created wheel for stop-words: filename=stop_words-2018.7.23-cp36-none-any.whl size=32917 sha256=97e4fe7ebde015e98bdae520009bc9e9b2aaca566c64138b7ec8d8b486f9172e\n",
            "  Stored in directory: /root/.cache/pip/wheels/75/37/6a/2b295e03bd07290f0da95c3adb9a74ba95fbc333aa8b0c7c78\n",
            "Successfully built stop-words\n",
            "Installing collected packages: stop-words\n",
            "Successfully installed stop-words-2018.7.23\n"
          ],
          "name": "stdout"
        },
        {
          "output_type": "stream",
          "text": [
            "Cloning into 'lyrics-sentiment'...\n"
          ],
          "name": "stderr"
        }
      ]
    },
    {
      "cell_type": "code",
      "metadata": {
        "id": "WccsmdMpJ7tT",
        "colab_type": "code",
        "outputId": "94ca234b-c6d0-4fd3-84e0-70620474c8cb",
        "colab": {
          "base_uri": "https://localhost:8080/",
          "height": 124
        }
      },
      "source": [
        "import pandas as pd\n",
        "import numpy as np\n",
        "import torch\n",
        "\n",
        "import os\n",
        "import random\n",
        "\n",
        "# For deterministic results. \n",
        "SEED = 0\n",
        "\n",
        "random.seed(SEED)\n",
        "np.random.seed(SEED)\n",
        "torch.manual_seed(SEED)\n",
        "torch.backends.cudnn.deterministic = True\n",
        "\n",
        "# For visualizations\n",
        "from wordcloud import WordCloud\n",
        "import matplotlib.pyplot as plt\n",
        "\n",
        "# Lyrics pre-processing\n",
        "import string\n",
        "from stop_words import get_stop_words\n",
        "\n",
        "# For spotify helper function\n",
        "import sys\n",
        "sys.path.append('/content/lyrics-sentiment')\n",
        "from helpers import get_spotify_valence, load_model, get_lyrics_from_genius, plot_training, plot_histogram\n",
        "\n",
        "# Mount google Drive\n",
        "from google.colab import drive\n",
        "drive.mount('/content/gdrive/', force_remount=True)"
      ],
      "execution_count": 4,
      "outputs": [
        {
          "output_type": "stream",
          "text": [
            "Go to this URL in a browser: https://accounts.google.com/o/oauth2/auth?client_id=947318989803-6bn6qk8qdgf4n4g3pfee6491hc0brc4i.apps.googleusercontent.com&redirect_uri=urn%3aietf%3awg%3aoauth%3a2.0%3aoob&response_type=code&scope=email%20https%3a%2f%2fwww.googleapis.com%2fauth%2fdocs.test%20https%3a%2f%2fwww.googleapis.com%2fauth%2fdrive%20https%3a%2f%2fwww.googleapis.com%2fauth%2fdrive.photos.readonly%20https%3a%2f%2fwww.googleapis.com%2fauth%2fpeopleapi.readonly\n",
            "\n",
            "Enter your authorization code:\n",
            "··········\n",
            "Mounted at /content/gdrive/\n"
          ],
          "name": "stdout"
        }
      ]
    },
    {
      "cell_type": "markdown",
      "metadata": {
        "id": "fk0bQzvlCYrQ",
        "colab_type": "text"
      },
      "source": [
        "#### Notebook Constants: "
      ]
    },
    {
      "cell_type": "markdown",
      "metadata": {
        "id": "dWeHFFieakTt",
        "colab_type": "text"
      },
      "source": [
        "If you would like to train and save your own model, approve mounting your drive and change `DRIVE_FOLDER` to your desired directory name.\n",
        "\n",
        "The `DATASET_SIZE` is small for a shorter training cycle (took me around 3 hours without GPU), but will have less optimal results. "
      ]
    },
    {
      "cell_type": "code",
      "metadata": {
        "id": "rTbXDWTzCVu-",
        "colab_type": "code",
        "colab": {}
      },
      "source": [
        "STR_PRINT_BOUND = 600\n",
        "\n",
        "# For supervised training of lyrics sentiments and measuring accuracy.\n",
        "# below this bound, the song is considered as negative.\n",
        "LOW_VALENCE_BOUND = 0.2\n",
        "# above this bound, the song is considered as positive.\n",
        "HIGH_VALENCE_BOUND = 0.7\n",
        "# in between these bounds, the song is considered as neutral.\n",
        "NEUTRAL_LOWER_BOUND = 0.35\n",
        "NEUTRAL_UPPER_BOUND = 0.55\n",
        "\n",
        "# Out of the big lyrics database, use only a few rows to decrease trainig & evaluation cycles.\n",
        "DATASET_SIZE = 7000\n",
        "\n",
        "# Make the dataset diverse by including extrmely negative,extrmely positive and neutral valence values. \n",
        "NEGATIVES_PRECENTAGE = 0.35\n",
        "POSITIVES_PRECENTAGE = 0.4\n",
        "NEUTRAL_PRECENTAGE = 1 - NEGATIVES_PRECENTAGE - POSITIVES_PRECENTAGE\n",
        "\n",
        "# Split dataset to training, validation and test according to these values.\n",
        "TRAIN_SIZE = 0.8\n",
        "VALIDATION_SIZE = 0.1\n",
        "\n",
        "# Model hyperparameters\n",
        "\n",
        "HIDDEN_DIM = 512\n",
        "LINEAR_HIDDEN = 256\n",
        "OUTPUT_DIM = 1\n",
        "N_LAYERS = 2\n",
        "BIDIRECTIONAL = True\n",
        "DROPOUT = 0.3\n",
        "BATCH_SIZE = 64 \n",
        "\n",
        "# Define used paths. \n",
        "\n",
        "# Update DRIVE_FOLDER to your gdrive folder.\n",
        "DRIVE_FOLDER = \"6864\"\n",
        "DRIVE_DIR = \"/content/gdrive/My Drive\"\n",
        "ROOT_DIR = os.path.join(DRIVE_DIR,DRIVE_FOLDER)\n",
        "\n",
        "# Save path for best epoch model. \n",
        "MODEL_NAME = \"lyrics-sentiment-processed_db.pt\"\n",
        "SAVE_PATH = os.path.join(ROOT_DIR,MODEL_NAME)\n",
        "DATASET_FILENAME = \"labeled_lyrics_cleaned.csv\"\n",
        "PRV_MODEL_ID= \"1aRKrMAh004sgWmf9S4aWDjuAPqVk60l4\"\n",
        "READY_MODEL_ID= \"1pgCCUvpSBhFkZH2kdWDLXeK4VMIMxOVF\"\n",
        "\n",
        "# How far off an absolute difference between label and predictions counts as accurate.\n",
        "ACCURACY_THRESHOLD = 0.15"
      ],
      "execution_count": 0,
      "outputs": []
    },
    {
      "cell_type": "markdown",
      "metadata": {
        "id": "_e3sVHRUrDp7",
        "colab_type": "text"
      },
      "source": [
        "## Step 2: Prepare Pytorch Dataloader\n",
        "\n",
        "I processed the labeled lyrics dataset in [this notebook](https://colab.research.google.com/drive/17NWbYNiSXYfoCipbn9qXmkIL1SvCFOah):\n",
        "1. Got songs lyrics from [250K+ lyrics Kaggle database](https://www.kaggle.com/detkov/lyrics-dataset/metadata).\n",
        "2. Queried Spotify for each song [valence](https://developer.spotify.com/documentation/web-api/reference/tracks/get-audio-features/) (as a measure of positiveness).\n",
        "3. Integrated to one dataframe, where each songs has a corresponding valence value, without nulls.\n"
      ]
    },
    {
      "cell_type": "code",
      "metadata": {
        "id": "jLGbeQ_EKaME",
        "colab_type": "code",
        "outputId": "8064dab4-195f-416d-bc7e-d8866027278b",
        "colab": {
          "base_uri": "https://localhost:8080/",
          "height": 390
        }
      },
      "source": [
        "\n",
        "# Load lyrics with sentiment file.\n",
        "dataset_path = os.path.join(ROOT_DIR,DATASET_FILENAME)\n",
        "\n",
        "df = pd.read_csv(dataset_path, error_bad_lines=False)\n",
        "df = df.loc[:, ~df.columns.str.contains('^Unnamed')]\n",
        "\n",
        "# Dataset size.\n",
        "print('Number of training sentences: {:,}\\n'.format(df.shape[0]))\n",
        "\n",
        "# Display 10 random rows from dataset.\n",
        "df.sample(10)"
      ],
      "execution_count": 6,
      "outputs": [
        {
          "output_type": "stream",
          "text": [
            "Number of training sentences: 158,353\n",
            "\n"
          ],
          "name": "stdout"
        },
        {
          "output_type": "execute_result",
          "data": {
            "text/html": [
              "<div>\n",
              "<style scoped>\n",
              "    .dataframe tbody tr th:only-of-type {\n",
              "        vertical-align: middle;\n",
              "    }\n",
              "\n",
              "    .dataframe tbody tr th {\n",
              "        vertical-align: top;\n",
              "    }\n",
              "\n",
              "    .dataframe thead th {\n",
              "        text-align: right;\n",
              "    }\n",
              "</style>\n",
              "<table border=\"1\" class=\"dataframe\">\n",
              "  <thead>\n",
              "    <tr style=\"text-align: right;\">\n",
              "      <th></th>\n",
              "      <th>artist</th>\n",
              "      <th>seq</th>\n",
              "      <th>song</th>\n",
              "      <th>label</th>\n",
              "    </tr>\n",
              "  </thead>\n",
              "  <tbody>\n",
              "    <tr>\n",
              "      <th>54246</th>\n",
              "      <td>Bad Religion</td>\n",
              "      <td>Three thousand miles of wilderness overcome by...</td>\n",
              "      <td>Against the Grain</td>\n",
              "      <td>0.753</td>\n",
              "    </tr>\n",
              "    <tr>\n",
              "      <th>57531</th>\n",
              "      <td>Anahi</td>\n",
              "      <td>El sabor del viento y tu amanecer\\r\\nRompe la ...</td>\n",
              "      <td>Arena Y Sol</td>\n",
              "      <td>0.771</td>\n",
              "    </tr>\n",
              "    <tr>\n",
              "      <th>65329</th>\n",
              "      <td>XTC</td>\n",
              "      <td>Do something for me, boys \\r\\nIf I should die ...</td>\n",
              "      <td>All You Pretty Girls [Home Demo]</td>\n",
              "      <td>0.961</td>\n",
              "    </tr>\n",
              "    <tr>\n",
              "      <th>123663</th>\n",
              "      <td>Avril Lavigne</td>\n",
              "      <td>Hey, hey,\\r\\nYou, you,\\r\\nI don't like your gi...</td>\n",
              "      <td>Girlfriend [The Submarines' Time Warp '66 Mix]</td>\n",
              "      <td>0.839</td>\n",
              "    </tr>\n",
              "    <tr>\n",
              "      <th>110284</th>\n",
              "      <td>Tom Waits</td>\n",
              "      <td>My time went so quickly, \\r\\nI went lickety-sp...</td>\n",
              "      <td>Ol' 55</td>\n",
              "      <td>0.336</td>\n",
              "    </tr>\n",
              "    <tr>\n",
              "      <th>61151</th>\n",
              "      <td>Elvis Presley</td>\n",
              "      <td>Oh yes I've got a lot o' living to do\\r\\nA who...</td>\n",
              "      <td>Got a Lot O' Livin to Do!</td>\n",
              "      <td>0.962</td>\n",
              "    </tr>\n",
              "    <tr>\n",
              "      <th>107220</th>\n",
              "      <td>Jethro Tull</td>\n",
              "      <td>Salamander, \\r\\nBorn in the sun-kissed flame.\\...</td>\n",
              "      <td>Salamander</td>\n",
              "      <td>0.592</td>\n",
              "    </tr>\n",
              "    <tr>\n",
              "      <th>8348</th>\n",
              "      <td>Brian McKnight</td>\n",
              "      <td>[Nelly] \\r\\nLook\\r\\nShit just ain't the same\\r...</td>\n",
              "      <td>All Night Long</td>\n",
              "      <td>0.750</td>\n",
              "    </tr>\n",
              "    <tr>\n",
              "      <th>135843</th>\n",
              "      <td>Neil Finn</td>\n",
              "      <td>Totally wired and the game is up\\r\\nI'm under ...</td>\n",
              "      <td>Rest of the Day Off</td>\n",
              "      <td>0.634</td>\n",
              "    </tr>\n",
              "    <tr>\n",
              "      <th>12215</th>\n",
              "      <td>Billy Stritch</td>\n",
              "      <td>It starts with one thing\\r\\nI don't know why\\r...</td>\n",
              "      <td>Breezin' Along with the Breeze/Live Alone and ...</td>\n",
              "      <td>0.475</td>\n",
              "    </tr>\n",
              "  </tbody>\n",
              "</table>\n",
              "</div>"
            ],
            "text/plain": [
              "                artist  ...  label\n",
              "54246     Bad Religion  ...  0.753\n",
              "57531            Anahi  ...  0.771\n",
              "65329              XTC  ...  0.961\n",
              "123663   Avril Lavigne  ...  0.839\n",
              "110284       Tom Waits  ...  0.336\n",
              "61151    Elvis Presley  ...  0.962\n",
              "107220     Jethro Tull  ...  0.592\n",
              "8348    Brian McKnight  ...  0.750\n",
              "135843       Neil Finn  ...  0.634\n",
              "12215    Billy Stritch  ...  0.475\n",
              "\n",
              "[10 rows x 4 columns]"
            ]
          },
          "metadata": {
            "tags": []
          },
          "execution_count": 6
        }
      ]
    },
    {
      "cell_type": "markdown",
      "metadata": {
        "id": "RmAm8EHAg7tY",
        "colab_type": "text"
      },
      "source": [
        "You can check Spotify sentiment on your choice of artist and song. \n",
        "The Kaggle dataset contains +2K artists, uploaded in October 2019. \n"
      ]
    },
    {
      "cell_type": "code",
      "metadata": {
        "id": "-xZxHyu-Cf_O",
        "colab_type": "code",
        "outputId": "eb5ab05b-0209-4cad-9522-15dad89a7c40",
        "colab": {
          "base_uri": "https://localhost:8080/",
          "height": 110
        }
      },
      "source": [
        "artist_name = \"guetta\"\n",
        "song_title = \"sun\"\n",
        "\n",
        "df[(df.artist.str.contains(artist_name, case=False)) & (df.label > 0.5) & (df.song.str.contains(song_title, case=False))]"
      ],
      "execution_count": 7,
      "outputs": [
        {
          "output_type": "execute_result",
          "data": {
            "text/html": [
              "<div>\n",
              "<style scoped>\n",
              "    .dataframe tbody tr th:only-of-type {\n",
              "        vertical-align: middle;\n",
              "    }\n",
              "\n",
              "    .dataframe tbody tr th {\n",
              "        vertical-align: top;\n",
              "    }\n",
              "\n",
              "    .dataframe thead th {\n",
              "        text-align: right;\n",
              "    }\n",
              "</style>\n",
              "<table border=\"1\" class=\"dataframe\">\n",
              "  <thead>\n",
              "    <tr style=\"text-align: right;\">\n",
              "      <th></th>\n",
              "      <th>artist</th>\n",
              "      <th>seq</th>\n",
              "      <th>song</th>\n",
              "      <th>label</th>\n",
              "    </tr>\n",
              "  </thead>\n",
              "  <tbody>\n",
              "    <tr>\n",
              "      <th>96293</th>\n",
              "      <td>David Guetta</td>\n",
              "      <td>Oh wooh\\nOh gonna break it, break it, break it...</td>\n",
              "      <td>Sun Goes Down</td>\n",
              "      <td>0.695</td>\n",
              "    </tr>\n",
              "    <tr>\n",
              "      <th>96298</th>\n",
              "      <td>David Guetta</td>\n",
              "      <td>Let's light it up, let's light it up\\r\\nUntil ...</td>\n",
              "      <td>Lovers on the Sun</td>\n",
              "      <td>0.568</td>\n",
              "    </tr>\n",
              "  </tbody>\n",
              "</table>\n",
              "</div>"
            ],
            "text/plain": [
              "             artist  ...  label\n",
              "96293  David Guetta  ...  0.695\n",
              "96298  David Guetta  ...  0.568\n",
              "\n",
              "[2 rows x 4 columns]"
            ]
          },
          "metadata": {
            "tags": []
          },
          "execution_count": 7
        }
      ]
    },
    {
      "cell_type": "markdown",
      "metadata": {
        "id": "w31q4iZz89ip",
        "colab_type": "text"
      },
      "source": [
        "Out of this dataset, I took a diversified sample of size `DATASET_SIZE`, to decrease the training cycle time. "
      ]
    },
    {
      "cell_type": "code",
      "metadata": {
        "id": "l6TC9ire7zbC",
        "colab_type": "code",
        "outputId": "af90ebf8-4c42-46c3-e7ee-7953bb2e8939",
        "colab": {
          "base_uri": "https://localhost:8080/",
          "height": 208
        }
      },
      "source": [
        "neutral = (df['label'] > NEUTRAL_LOWER_BOUND) & (df['label'] < NEUTRAL_UPPER_BOUND)\n",
        "positive = (df['label'] > HIGH_VALENCE_BOUND)\n",
        "negative = (df['label'] < LOW_VALENCE_BOUND)\n",
        "\n",
        "neg_size, pos_size, neutral_size = int(DATASET_SIZE*POSITIVES_PRECENTAGE), int(\n",
        "    DATASET_SIZE*NEGATIVES_PRECENTAGE), int(DATASET_SIZE*NEUTRAL_PRECENTAGE)\n",
        "\n",
        "positive_df, negative_df, neutral_df = df[positive][:neg_size], df[\n",
        "                    negative][:pos_size], df[neutral][:neutral_size]\n",
        "\n",
        "diversified_df = pd.concat([positive_df, negative_df,neutral_df], axis=0)\n",
        "\n",
        "# Remove punctuations & stop words from sequence\n",
        "stop_words = get_stop_words('english')\n",
        "additional_words_to_remove = []\n",
        "diversified_df.loc[:, 'seq'] = diversified_df.seq.apply(lambda x: ' '.join([word for word in x.split() if word.lower() not in (stop_words)]))\n",
        "diversified_df.loc[:, 'seq'] = diversified_df.seq.apply(lambda x: x.translate(str.maketrans('', '', string.punctuation)))\n",
        "\n",
        "\n",
        "# Suffle dataframe rows and drop previous indices column\n",
        "diversified_df = diversified_df.sample(frac=1).reset_index(drop=True)\n",
        "\n",
        "\n",
        "lyrics = diversified_df.seq.values\n",
        "labels = diversified_df.label.values\n",
        "\n",
        "print(\"Diversified df example rows: \\n\")\n",
        "print(diversified_df.sample(5))\n",
        "print(\"Length of diversified dataset=\", len(diversified_df))"
      ],
      "execution_count": 8,
      "outputs": [
        {
          "output_type": "stream",
          "text": [
            "Diversified df example rows: \n",
            "\n",
            "                       artist  ...  label\n",
            "625             Guy Sebastian  ...  0.754\n",
            "442           Ella Fitzgerald  ...  0.154\n",
            "4073  Pete Rock & C.L. Smooth  ...  0.784\n",
            "2916             Donna Summer  ...  0.948\n",
            "5830                LL Cool J  ...  0.722\n",
            "\n",
            "[5 rows x 4 columns]\n",
            "Length of diversified dataset= 7000\n"
          ],
          "name": "stdout"
        }
      ]
    },
    {
      "cell_type": "code",
      "metadata": {
        "id": "5fWjEIEXLMZI",
        "colab_type": "code",
        "colab": {
          "base_uri": "https://localhost:8080/",
          "height": 695
        },
        "outputId": "0daac033-5308-4d94-cc5d-b706af8331f0"
      },
      "source": [
        "# Length of Songs Lyrics\n",
        "songs_length = [len(seq) for seq in lyrics]\n",
        "plot_histogram(songs_length, 5, 'Length', 'Count', \"Length of Songs lyrics\")\n",
        "\n",
        "# Labels distribution\n",
        "print(diversified_df.isnull().sum()) # should be 0\n",
        "plot_histogram(labels, 3, 'Valence = Label', 'Count', \"Valence of Songs lyrics\")"
      ],
      "execution_count": 9,
      "outputs": [
        {
          "output_type": "stream",
          "text": [
            "Length avg. value: 663.81\n"
          ],
          "name": "stdout"
        },
        {
          "output_type": "display_data",
          "data": {
            "image/png": "[encoded data removed]",
            "text/plain": [
              "<Figure size 432x288 with 1 Axes>"
            ]
          },
          "metadata": {
            "tags": [],
            "needs_background": "light"
          }
        },
        {
          "output_type": "stream",
          "text": [
            "artist    0\n",
            "seq       0\n",
            "song      0\n",
            "label     0\n",
            "dtype: int64\n",
            "Valence = Label avg. value: 0.49\n"
          ],
          "name": "stdout"
        },
        {
          "output_type": "display_data",
          "data": {
            "image/png": "[encoded data removed]",
            "text/plain": [
              "<Figure size 432x288 with 1 Axes>"
            ]
          },
          "metadata": {
            "tags": [],
            "needs_background": "light"
          }
        }
      ]
    },
    {
      "cell_type": "markdown",
      "metadata": {
        "id": "eBoIBMs5vafI",
        "colab_type": "text"
      },
      "source": [
        "We must tokenize the lyrical dataset, since this is what the BERT model expects as input. \n",
        "You can tokenize any text by loading the tokenizer of the imported bert model. "
      ]
    },
    {
      "cell_type": "code",
      "metadata": {
        "id": "sR-dQOFxvafK",
        "colab_type": "code",
        "colab": {
          "base_uri": "https://localhost:8080/",
          "height": 67,
          "referenced_widgets": [
            "335fbde07f9e48e7adaf401a181a124a",
            "a8be414f8bab4e4dad0fd3ef2a5d67f9",
            "43893c20586141098de41b0efc113a30",
            "6ddae0f4fc8541fe94913ed6d9c26aee",
            "13a6144c7403475b8c90c4e48b5327da",
            "62bde083c0fa40acaee910747183a00b",
            "bb946aa6f5454aa093d833cb992fcda0",
            "2e3f8dc59bdc45138f02626b82e8780b"
          ]
        },
        "outputId": "17385e0c-1de4-48f7-8b03-9869ce38b95c"
      },
      "source": [
        "from transformers import BertTokenizer\n",
        "\n",
        "tokenizer = BertTokenizer.from_pretrained('bert-base-uncased', do_lower_case=True)"
      ],
      "execution_count": 10,
      "outputs": [
        {
          "output_type": "display_data",
          "data": {
            "application/vnd.jupyter.widget-view+json": {
              "model_id": "335fbde07f9e48e7adaf401a181a124a",
              "version_minor": 0,
              "version_major": 2
            },
            "text/plain": [
              "HBox(children=(IntProgress(value=0, description='Downloading', max=231508, style=ProgressStyle(description_wid…"
            ]
          },
          "metadata": {
            "tags": []
          }
        },
        {
          "output_type": "stream",
          "text": [
            "\n"
          ],
          "name": "stdout"
        }
      ]
    },
    {
      "cell_type": "markdown",
      "metadata": {
        "id": "MxUlTeWaK6Kc",
        "colab_type": "text"
      },
      "source": [
        "Checking properties of Tokenizer on our dataset."
      ]
    },
    {
      "cell_type": "code",
      "metadata": {
        "id": "4ND0VeZ8vafQ",
        "colab_type": "code",
        "outputId": "b883c5e1-7f3a-4cf8-bfb4-6c77daf8cd97",
        "colab": {
          "base_uri": "https://localhost:8080/",
          "height": 245
        }
      },
      "source": [
        "# Checking number of tokens in imported vocabulary. \n",
        "print(\"Voabulary size of Tokenizer: \",len(tokenizer.vocab),end='\\n\\n')\n",
        "\n",
        "# Print the original lyrics.\n",
        "print('Song lyrics: ')\n",
        "print(lyrics[0][:STR_PRINT_BOUND],end='\\n\\n')\n",
        "\n",
        "# Print the lyrics split into tokens.\n",
        "print('Tokenized lyrics: ', tokenizer.tokenize(lyrics[0]),end='\\n\\n')\n",
        "\n",
        "# Print the lyrics mapped to token ids.\n",
        "token_ids = tokenizer.convert_tokens_to_ids(tokenizer.tokenize(lyrics[0]))\n",
        "print('Tokenized IDs: ', token_ids,end='\\n\\n')\n",
        "\n",
        "# Check out of vocabulary words in lyrics\n",
        "print('Precentage of Unknowns: ', token_ids.count(tokenizer.unk_token_id)/len(token_ids)*100, '%',end='\\n\\n')\n",
        "\n",
        "# Lyrics Sentiment\n",
        "print('Label: ', labels[0])"
      ],
      "execution_count": 11,
      "outputs": [
        {
          "output_type": "stream",
          "text": [
            "Voabulary size of Tokenizer:  30522\n",
            "\n",
            "Song lyrics: \n",
            "satisfied break heart never satisfied teardrops start tried shower lovin kisses ever get naggin  braggin poor heart raggin way toss heart arounds cryin shame bet like happy tearin dreams apart satisfied break heart way toss heart arounds cryin shame bet like happy tearin dreams apart Unless hurt know cried seem though ever satisfied\n",
            "\n",
            "Tokenized lyrics:  ['satisfied', 'break', 'heart', 'never', 'satisfied', 'tear', '##drop', '##s', 'start', 'tried', 'shower', 'lo', '##vin', 'kisses', 'ever', 'get', 'na', '##gg', '##in', 'bragg', '##in', 'poor', 'heart', 'rag', '##gin', 'way', 'toss', 'heart', 'around', '##s', 'cry', '##in', 'shame', 'bet', 'like', 'happy', 'tear', '##in', 'dreams', 'apart', 'satisfied', 'break', 'heart', 'way', 'toss', 'heart', 'around', '##s', 'cry', '##in', 'shame', 'bet', 'like', 'happy', 'tear', '##in', 'dreams', 'apart', 'unless', 'hurt', 'know', 'cried', 'seem', 'though', 'ever', 'satisfied']\n",
            "\n",
            "Tokenized IDs:  [8510, 3338, 2540, 2196, 8510, 7697, 25711, 2015, 2707, 2699, 6457, 8840, 6371, 8537, 2412, 2131, 6583, 13871, 2378, 23678, 2378, 3532, 2540, 17768, 11528, 2126, 10055, 2540, 2105, 2015, 5390, 2378, 9467, 6655, 2066, 3407, 7697, 2378, 5544, 4237, 8510, 3338, 2540, 2126, 10055, 2540, 2105, 2015, 5390, 2378, 9467, 6655, 2066, 3407, 7697, 2378, 5544, 4237, 4983, 3480, 2113, 6639, 4025, 2295, 2412, 8510]\n",
            "\n",
            "Precentage of Unknowns:  0.0 %\n",
            "\n",
            "Label:  0.515\n"
          ],
          "name": "stdout"
        }
      ]
    },
    {
      "cell_type": "markdown",
      "metadata": {
        "id": "DUd0azx_Mzw1",
        "colab_type": "text"
      },
      "source": [
        "Perform tokenization on the entire dataset:\n",
        "1. Convert words to voabulary indices.\n",
        "2. Add special tokens to the start [CLS] and end of each song lyrics [SEP].\n",
        "3. Pad & truncate all songs' lyrics to BERT max length (512 tokens).\n",
        "4. Use attention masks to differentiate real tokens from padding tokens."
      ]
    },
    {
      "cell_type": "code",
      "metadata": {
        "id": "QBrszKd2OTVJ",
        "colab_type": "code",
        "outputId": "5d604950-4b81-4108-f877-3084bdbf0395",
        "colab": {
          "base_uri": "https://localhost:8080/",
          "height": 1000
        }
      },
      "source": [
        "# Tokenize all of the sentences and map the tokens to their word IDs.\n",
        "input_ids = []\n",
        "attention_masks = []\n",
        "\n",
        "# For every song:\n",
        "for lyric in lyrics:\n",
        "\n",
        "    #   Return a dictionary containing the encoded lyrics, after tokenization and mapping tokens to their vocabulary IDs.\n",
        "    #   Add special tokens [CLS], [SEP], [PAD].\n",
        "    #   Pad or truncate the sentence to max_length. \n",
        "    #   Create attention masks for [PAD] tokens.\n",
        "    encoded_dict = tokenizer.encode_plus(\n",
        "                        lyric,                          # One song to encode.\n",
        "                        add_special_tokens = True,      # Add '[CLS]' and '[SEP]'\n",
        "                        max_length = tokenizer.max_len, # Pad & truncate all sentences.\n",
        "                        pad_to_max_length = True,\n",
        "                        return_attention_mask = True,   # Construct attn. masks.\n",
        "                        return_tensors = 'pt',          # Return pytorch tensors.\n",
        "                   )\n",
        "    \n",
        "    # Add the encoded sentence to the list.    \n",
        "    input_ids.append(encoded_dict['input_ids'])\n",
        "    \n",
        "    # And its 1, 0 attention mask (0 for padding indices).\n",
        "    attention_masks.append(encoded_dict['attention_mask'])\n",
        "\n",
        "# Convert the lists into tensors.\n",
        "input_ids = torch.cat(input_ids, dim=0)\n",
        "attention_masks = torch.cat(attention_masks, dim=0)\n",
        "labels = torch.tensor(labels)\n",
        "# Check Results\n",
        "print(\"----------------------\")\n",
        "print('Original: ', lyrics[1])\n",
        "print(\"----------------------\")\n",
        "print('Original Label: ', labels[1].item())\n",
        "print(\"----------------------\")\n",
        "print('Token IDs:', input_ids[1])\n",
        "print(\"----------------------\")\n",
        "print('Attention mask:', attention_masks[1])\n",
        "print(\"----------------------\")\n"
      ],
      "execution_count": 12,
      "outputs": [
        {
          "output_type": "stream",
          "text": [
            "----------------------\n",
            "Original:  care wrong got intentions just hide anymore made decision pulled collar round neck bring whisper say thing wanna hear sister sister sister care wrong got intentions just hide anymore made decision put hands chest eyes filled laughter lips wet your hairs mess know just know just care wrong got intentions just hide anymore made decision care wrong got intentions just hide anymore made decision made decision Yes made decision\n",
            "----------------------\n",
            "Original Label:  0.46399999999999997\n",
            "----------------------\n",
            "Token IDs: tensor([  101,  2729,  3308,  2288, 11174,  2074,  5342,  4902,  2081,  3247,\n",
            "         2766,  9127,  2461,  3300,  3288,  7204,  2360,  2518, 10587,  2963,\n",
            "         2905,  2905,  2905,  2729,  3308,  2288, 11174,  2074,  5342,  4902,\n",
            "         2081,  3247,  2404,  2398,  3108,  2159,  3561,  7239,  2970,  4954,\n",
            "         2115, 13606,  6752,  2113,  2074,  2113,  2074,  2729,  3308,  2288,\n",
            "        11174,  2074,  5342,  4902,  2081,  3247,  2729,  3308,  2288, 11174,\n",
            "         2074,  5342,  4902,  2081,  3247,  2081,  3247,  2748,  2081,  3247,\n",
            "          102,     0,     0,     0,     0,     0,     0,     0,     0,     0,\n",
            "            0,     0,     0,     0,     0,     0,     0,     0,     0,     0,\n",
            "            0,     0,     0,     0,     0,     0,     0,     0,     0,     0,\n",
            "            0,     0,     0,     0,     0,     0,     0,     0,     0,     0,\n",
            "            0,     0,     0,     0,     0,     0,     0,     0,     0,     0,\n",
            "            0,     0,     0,     0,     0,     0,     0,     0,     0,     0,\n",
            "            0,     0,     0,     0,     0,     0,     0,     0,     0,     0,\n",
            "            0,     0,     0,     0,     0,     0,     0,     0,     0,     0,\n",
            "            0,     0,     0,     0,     0,     0,     0,     0,     0,     0,\n",
            "            0,     0,     0,     0,     0,     0,     0,     0,     0,     0,\n",
            "            0,     0,     0,     0,     0,     0,     0,     0,     0,     0,\n",
            "            0,     0,     0,     0,     0,     0,     0,     0,     0,     0,\n",
            "            0,     0,     0,     0,     0,     0,     0,     0,     0,     0,\n",
            "            0,     0,     0,     0,     0,     0,     0,     0,     0,     0,\n",
            "            0,     0,     0,     0,     0,     0,     0,     0,     0,     0,\n",
            "            0,     0,     0,     0,     0,     0,     0,     0,     0,     0,\n",
            "            0,     0,     0,     0,     0,     0,     0,     0,     0,     0,\n",
            "            0,     0,     0,     0,     0,     0,     0,     0,     0,     0,\n",
            "            0,     0,     0,     0,     0,     0,     0,     0,     0,     0,\n",
            "            0,     0,     0,     0,     0,     0,     0,     0,     0,     0,\n",
            "            0,     0,     0,     0,     0,     0,     0,     0,     0,     0,\n",
            "            0,     0,     0,     0,     0,     0,     0,     0,     0,     0,\n",
            "            0,     0,     0,     0,     0,     0,     0,     0,     0,     0,\n",
            "            0,     0,     0,     0,     0,     0,     0,     0,     0,     0,\n",
            "            0,     0,     0,     0,     0,     0,     0,     0,     0,     0,\n",
            "            0,     0,     0,     0,     0,     0,     0,     0,     0,     0,\n",
            "            0,     0,     0,     0,     0,     0,     0,     0,     0,     0,\n",
            "            0,     0,     0,     0,     0,     0,     0,     0,     0,     0,\n",
            "            0,     0,     0,     0,     0,     0,     0,     0,     0,     0,\n",
            "            0,     0,     0,     0,     0,     0,     0,     0,     0,     0,\n",
            "            0,     0,     0,     0,     0,     0,     0,     0,     0,     0,\n",
            "            0,     0,     0,     0,     0,     0,     0,     0,     0,     0,\n",
            "            0,     0,     0,     0,     0,     0,     0,     0,     0,     0,\n",
            "            0,     0,     0,     0,     0,     0,     0,     0,     0,     0,\n",
            "            0,     0,     0,     0,     0,     0,     0,     0,     0,     0,\n",
            "            0,     0,     0,     0,     0,     0,     0,     0,     0,     0,\n",
            "            0,     0,     0,     0,     0,     0,     0,     0,     0,     0,\n",
            "            0,     0,     0,     0,     0,     0,     0,     0,     0,     0,\n",
            "            0,     0,     0,     0,     0,     0,     0,     0,     0,     0,\n",
            "            0,     0,     0,     0,     0,     0,     0,     0,     0,     0,\n",
            "            0,     0,     0,     0,     0,     0,     0,     0,     0,     0,\n",
            "            0,     0,     0,     0,     0,     0,     0,     0,     0,     0,\n",
            "            0,     0,     0,     0,     0,     0,     0,     0,     0,     0,\n",
            "            0,     0,     0,     0,     0,     0,     0,     0,     0,     0,\n",
            "            0,     0])\n",
            "----------------------\n",
            "Attention mask: tensor([1, 1, 1, 1, 1, 1, 1, 1, 1, 1, 1, 1, 1, 1, 1, 1, 1, 1, 1, 1, 1, 1, 1, 1,\n",
            "        1, 1, 1, 1, 1, 1, 1, 1, 1, 1, 1, 1, 1, 1, 1, 1, 1, 1, 1, 1, 1, 1, 1, 1,\n",
            "        1, 1, 1, 1, 1, 1, 1, 1, 1, 1, 1, 1, 1, 1, 1, 1, 1, 1, 1, 1, 1, 1, 1, 0,\n",
            "        0, 0, 0, 0, 0, 0, 0, 0, 0, 0, 0, 0, 0, 0, 0, 0, 0, 0, 0, 0, 0, 0, 0, 0,\n",
            "        0, 0, 0, 0, 0, 0, 0, 0, 0, 0, 0, 0, 0, 0, 0, 0, 0, 0, 0, 0, 0, 0, 0, 0,\n",
            "        0, 0, 0, 0, 0, 0, 0, 0, 0, 0, 0, 0, 0, 0, 0, 0, 0, 0, 0, 0, 0, 0, 0, 0,\n",
            "        0, 0, 0, 0, 0, 0, 0, 0, 0, 0, 0, 0, 0, 0, 0, 0, 0, 0, 0, 0, 0, 0, 0, 0,\n",
            "        0, 0, 0, 0, 0, 0, 0, 0, 0, 0, 0, 0, 0, 0, 0, 0, 0, 0, 0, 0, 0, 0, 0, 0,\n",
            "        0, 0, 0, 0, 0, 0, 0, 0, 0, 0, 0, 0, 0, 0, 0, 0, 0, 0, 0, 0, 0, 0, 0, 0,\n",
            "        0, 0, 0, 0, 0, 0, 0, 0, 0, 0, 0, 0, 0, 0, 0, 0, 0, 0, 0, 0, 0, 0, 0, 0,\n",
            "        0, 0, 0, 0, 0, 0, 0, 0, 0, 0, 0, 0, 0, 0, 0, 0, 0, 0, 0, 0, 0, 0, 0, 0,\n",
            "        0, 0, 0, 0, 0, 0, 0, 0, 0, 0, 0, 0, 0, 0, 0, 0, 0, 0, 0, 0, 0, 0, 0, 0,\n",
            "        0, 0, 0, 0, 0, 0, 0, 0, 0, 0, 0, 0, 0, 0, 0, 0, 0, 0, 0, 0, 0, 0, 0, 0,\n",
            "        0, 0, 0, 0, 0, 0, 0, 0, 0, 0, 0, 0, 0, 0, 0, 0, 0, 0, 0, 0, 0, 0, 0, 0,\n",
            "        0, 0, 0, 0, 0, 0, 0, 0, 0, 0, 0, 0, 0, 0, 0, 0, 0, 0, 0, 0, 0, 0, 0, 0,\n",
            "        0, 0, 0, 0, 0, 0, 0, 0, 0, 0, 0, 0, 0, 0, 0, 0, 0, 0, 0, 0, 0, 0, 0, 0,\n",
            "        0, 0, 0, 0, 0, 0, 0, 0, 0, 0, 0, 0, 0, 0, 0, 0, 0, 0, 0, 0, 0, 0, 0, 0,\n",
            "        0, 0, 0, 0, 0, 0, 0, 0, 0, 0, 0, 0, 0, 0, 0, 0, 0, 0, 0, 0, 0, 0, 0, 0,\n",
            "        0, 0, 0, 0, 0, 0, 0, 0, 0, 0, 0, 0, 0, 0, 0, 0, 0, 0, 0, 0, 0, 0, 0, 0,\n",
            "        0, 0, 0, 0, 0, 0, 0, 0, 0, 0, 0, 0, 0, 0, 0, 0, 0, 0, 0, 0, 0, 0, 0, 0,\n",
            "        0, 0, 0, 0, 0, 0, 0, 0, 0, 0, 0, 0, 0, 0, 0, 0, 0, 0, 0, 0, 0, 0, 0, 0,\n",
            "        0, 0, 0, 0, 0, 0, 0, 0])\n",
            "----------------------\n"
          ],
          "name": "stdout"
        }
      ]
    },
    {
      "cell_type": "markdown",
      "metadata": {
        "id": "mASqFP9rb2IW",
        "colab_type": "text"
      },
      "source": [
        "Split data to Train, Validation, Test and create a Pytorch Iterator."
      ]
    },
    {
      "cell_type": "code",
      "metadata": {
        "id": "s49djdTqa1Pd",
        "colab_type": "code",
        "outputId": "707297fa-65e9-44de-f3fd-39fe7c241112",
        "colab": {
          "base_uri": "https://localhost:8080/",
          "height": 69
        }
      },
      "source": [
        "from torch.utils.data import TensorDataset, random_split, DataLoader, RandomSampler, SequentialSampler\n",
        "\n",
        "# Combine the inputs into a TensorDataset.\n",
        "\n",
        "dataset = TensorDataset(input_ids, attention_masks, labels)\n",
        "\n",
        "# Split train-validation-test sizes.\n",
        "train_size = int(TRAIN_SIZE * len(dataset))\n",
        "val_size = int(VALIDATION_SIZE * len(dataset))\n",
        "test_size = len(dataset) - train_size - val_size\n",
        "\n",
        "# Divide the dataset randomly.\n",
        "train_dataset, val_dataset, test_dataset = random_split(dataset, [train_size, val_size, test_size])\n",
        "\n",
        "batch_size = BATCH_SIZE\n",
        "\n",
        "# Create DataLoaders.\n",
        "train_dataloader = DataLoader(\n",
        "            train_dataset,  \n",
        "            sampler = RandomSampler(train_dataset), # Select batches randomly\n",
        "            batch_size = batch_size \n",
        "        )\n",
        "\n",
        "validation_dataloader = DataLoader(\n",
        "            val_dataset,\n",
        "            sampler = SequentialSampler(val_dataset), # Pull batches sequentially.\n",
        "            batch_size = batch_size \n",
        "        )\n",
        "\n",
        "test_dataloader = DataLoader(\n",
        "            test_dataset,\n",
        "            sampler = SequentialSampler(test_dataset), # Pull batches sequentially.\n",
        "            batch_size = batch_size \n",
        "        )\n",
        "\n",
        "print('{} training samples'.format(train_size))\n",
        "print('{} validation samples'.format(val_size))\n",
        "print('{} test samples'.format(test_size))"
      ],
      "execution_count": 13,
      "outputs": [
        {
          "output_type": "stream",
          "text": [
            "5600 training samples\n",
            "700 validation samples\n",
            "700 test samples\n"
          ],
          "name": "stdout"
        }
      ]
    },
    {
      "cell_type": "markdown",
      "metadata": {
        "id": "urH2AcnVvagT",
        "colab_type": "text"
      },
      "source": [
        "## Step 3: Define the Model\n",
        "\n",
        "1. Load the same model as with the tokenizer. \n",
        "2. Build an extra layer for the sentiment task.  \n",
        "\n",
        "To have more control on the fine-tuning final layer, I decided to define my own class. However, there are many ready-to-use, task dependent BERT such as [BertForSequenceClassification](https://huggingface.co/transformers/v2.2.0/model_doc/bert.html#bertforsequenceclassification), which adds a single linear layer on top of the original [BERT model](https://huggingface.co/transformers/v2.2.0/model_doc/bert.html#transformers.Bert). "
      ]
    },
    {
      "cell_type": "code",
      "metadata": {
        "id": "4OlV0FOIvagT",
        "colab_type": "code",
        "colab": {
          "base_uri": "https://localhost:8080/",
          "height": 116,
          "referenced_widgets": [
            "3a174dcf5cfd4f5a992f3f4c5d50f251",
            "c783628ca8d04979af5c22c0a7efec2d",
            "bef3612396194d3abaf60ab709c98ef7",
            "5a176abcf9de47febb4252ae379593cd",
            "266248e0feb44e148a818793d3319108",
            "eb9cc59217c44ae8bd0b6b8fbfd4d341",
            "8a1bc8ce4e454c8abf0dab7bfa088129",
            "ccfe365405fd4bacb02dbc31b7d23280",
            "6c0078c577a743eca35b10ae434d7e0f",
            "c87a5b7473b9461daa3859351fcab177",
            "90f8f9c07d0d451ba02bc45f355ce7fd",
            "af1435f2669e4585bcafbafe8d5ec96c",
            "24970bedaf5f473090c14ac2f09f068b",
            "e7e8758d08df4f93a7bf4ba06edd4042",
            "55debc83e9fe4cf0ad2095fd5e0f3589",
            "91a02410c8c9476fb950876b2e45c2df"
          ]
        },
        "outputId": "8a0cad24-2c43-44b1-e02b-b44b93a8e7ce"
      },
      "source": [
        "from transformers import BertModel\n",
        "\n",
        "bert = BertModel.from_pretrained('bert-base-uncased') # consists of 12 Transformer layers"
      ],
      "execution_count": 14,
      "outputs": [
        {
          "output_type": "display_data",
          "data": {
            "application/vnd.jupyter.widget-view+json": {
              "model_id": "3a174dcf5cfd4f5a992f3f4c5d50f251",
              "version_minor": 0,
              "version_major": 2
            },
            "text/plain": [
              "HBox(children=(IntProgress(value=0, description='Downloading', max=433, style=ProgressStyle(description_width=…"
            ]
          },
          "metadata": {
            "tags": []
          }
        },
        {
          "output_type": "stream",
          "text": [
            "\n"
          ],
          "name": "stdout"
        },
        {
          "output_type": "display_data",
          "data": {
            "application/vnd.jupyter.widget-view+json": {
              "model_id": "6c0078c577a743eca35b10ae434d7e0f",
              "version_minor": 0,
              "version_major": 2
            },
            "text/plain": [
              "HBox(children=(IntProgress(value=0, description='Downloading', max=440473133, style=ProgressStyle(description_…"
            ]
          },
          "metadata": {
            "tags": []
          }
        },
        {
          "output_type": "stream",
          "text": [
            "\n"
          ],
          "name": "stdout"
        }
      ]
    },
    {
      "cell_type": "markdown",
      "metadata": {
        "id": "2tYU71p9vagW",
        "colab_type": "text"
      },
      "source": [
        "Instead of training an embedding layer, I will use the pre-trained bert model weights and freeze them during fine-tuning. \n",
        "\n",
        "The fine-tuning layers consists of a bidirectional [GRU](https://pytorch.org/docs/stable/nn.html#gru) and linear prediction layer for sentiment output. As stated in the [paper](https://arxiv.org/pdf/1810.04805.pdf) I will only feed to the fine-tuning layers the hidden state of the final time-step."
      ]
    },
    {
      "cell_type": "code",
      "metadata": {
        "id": "FdRFLTuSvagW",
        "colab_type": "code",
        "colab": {}
      },
      "source": [
        "import torch.nn as nn\n",
        "\n",
        "class BERTLyricalSentimentGRU(nn.Module):\n",
        "    def __init__(self, bert, hidden_dim, output_dim, n_layers, bidirectional, dropout, linear_hidden):\n",
        "        \n",
        "      super().__init__()\n",
        "      \n",
        "      self.bert = bert\n",
        "      \n",
        "      embedding_dim = bert.config.to_dict()['hidden_size'] # The hidden embedding size that bert outputs\n",
        "      \n",
        "      self.gru = nn.GRU(embedding_dim,\n",
        "                        hidden_dim,\n",
        "                        num_layers = n_layers,\n",
        "                        bidirectional = bidirectional,\n",
        "                        batch_first = True,\n",
        "                        dropout = 0 if n_layers < 2 else dropout)\n",
        "          \n",
        "      self.linear = nn.Linear(hidden_dim * 2 if bidirectional else hidden_dim, linear_hidden)\n",
        "      # To avoid vanishing gradient and keep efficient computaions. \n",
        "      self.leaky_relu = nn.LeakyReLU()\n",
        "      self.out = nn.Linear(linear_hidden, output_dim)\n",
        "      \n",
        "      self.dropout = nn.Dropout(dropout)\n",
        "\n",
        "      self.initialize_weights()\n",
        "      \n",
        "    def forward(self, text, attention_masks):\n",
        "      \"\"\"\n",
        "        Args:\n",
        "          text(tensor): list of tokens idx, of shape (batch_size, max_sentence_len)\n",
        "          attention_masks(tensor): marks padding tokens.\n",
        "      \"\"\"\n",
        "      # print(\"text.shape=\",text.shape) # (batch_size, max_sentence_len)\n",
        "      # Freezed embedding weights        \n",
        "      with torch.no_grad():\n",
        "          embedded = self.bert(input_ids=text, attention_mask=attention_masks)[0] \n",
        "              \n",
        "      # print(\"embedded.shape=\",embedded.shape) #(batch_size, max_sentence_len, embed_dim)\n",
        "      \n",
        "      _, hidden = self.gru(embedded) # Do not need the outputs of the last (depth-wise) layer \n",
        "      # print(\"hidden.shape before GRU=\",hidden.shape) #(n_layers * n_directions, batch_size, embed_dim)\n",
        "      \n",
        "      # Use final time-step of the last GRU layer as linear layer input.\n",
        "      if self.gru.bidirectional:\n",
        "          hidden = self.dropout(torch.cat((hidden[-2,:,:], hidden[-1,:,:]), dim = 1)) \n",
        "      else:\n",
        "          hidden = self.dropout(hidden[-1,:,:])\n",
        "\n",
        "      # print(\"hidden.shape after GRU=\",hidden.shape) #(batch_size, hidden_dim *2 OR hidden_dim)\n",
        "     \n",
        "      linear_hidden = self.leaky_relu(self.linear(hidden))\n",
        "      output = self.out(linear_hidden)        \n",
        "      \n",
        "      # print(\"output.shape=\",output.shape) #(batch_size, linear_dim)     \n",
        "      \n",
        "      return output\n",
        "\n",
        "    def initialize_weights(self):\n",
        "      for name, param in self.gru.named_parameters():                \n",
        "        if (param.requires_grad and ('weight' in name)):\n",
        "          torch.nn.init.xavier_normal_(param, gain=1.0)\n"
      ],
      "execution_count": 0,
      "outputs": []
    },
    {
      "cell_type": "code",
      "metadata": {
        "id": "eNnxeWgrvagZ",
        "colab_type": "code",
        "colab": {}
      },
      "source": [
        "model = BERTLyricalSentimentGRU(bert,\n",
        "                         HIDDEN_DIM,\n",
        "                         OUTPUT_DIM,\n",
        "                         N_LAYERS,\n",
        "                         BIDIRECTIONAL,\n",
        "                         DROPOUT,\n",
        "                         LINEAR_HIDDEN)"
      ],
      "execution_count": 0,
      "outputs": []
    },
    {
      "cell_type": "markdown",
      "metadata": {
        "id": "pBqDsYUuMJoy",
        "colab_type": "text"
      },
      "source": [
        "Freeze BERT parameters and check learnable parameters that will be updated dduring training."
      ]
    },
    {
      "cell_type": "code",
      "metadata": {
        "id": "8Cyx0TwCvagl",
        "colab_type": "code",
        "colab": {}
      },
      "source": [
        "# Freeze parameters of bert model\n",
        "for name, param in model.named_parameters():                \n",
        "    if name.startswith('bert'):\n",
        "        param.requires_grad = False"
      ],
      "execution_count": 0,
      "outputs": []
    },
    {
      "cell_type": "code",
      "metadata": {
        "id": "z4l4ECf8vags",
        "colab_type": "code",
        "outputId": "619db350-3e92-4cd2-d5d6-14adfe632aaf",
        "colab": {
          "base_uri": "https://localhost:8080/",
          "height": 381
        }
      },
      "source": [
        "for name, param in model.named_parameters():                \n",
        "    if param.requires_grad:\n",
        "        print(name)\n",
        "        \n",
        "def count_parameters(model):\n",
        "    return sum(p.numel() for p in model.parameters() if p.requires_grad)\n",
        "\n",
        "print(f'The model has {count_parameters(model):,} trainable parameters')"
      ],
      "execution_count": 18,
      "outputs": [
        {
          "output_type": "stream",
          "text": [
            "gru.weight_ih_l0\n",
            "gru.weight_hh_l0\n",
            "gru.bias_ih_l0\n",
            "gru.bias_hh_l0\n",
            "gru.weight_ih_l0_reverse\n",
            "gru.weight_hh_l0_reverse\n",
            "gru.bias_ih_l0_reverse\n",
            "gru.bias_hh_l0_reverse\n",
            "gru.weight_ih_l1\n",
            "gru.weight_hh_l1\n",
            "gru.bias_ih_l1\n",
            "gru.bias_hh_l1\n",
            "gru.weight_ih_l1_reverse\n",
            "gru.weight_hh_l1_reverse\n",
            "gru.bias_ih_l1_reverse\n",
            "gru.bias_hh_l1_reverse\n",
            "linear.weight\n",
            "linear.bias\n",
            "out.weight\n",
            "out.bias\n",
            "The model has 8,925,697 trainable parameters\n"
          ],
          "name": "stdout"
        }
      ]
    },
    {
      "cell_type": "markdown",
      "metadata": {
        "id": "kNFpdA0J4Idw",
        "colab_type": "text"
      },
      "source": [
        "## Step 4: Train the Model\n",
        "\n",
        "#### MARE Custom Loss function\n",
        "\n",
        "I considered a few loss function, but eventually decided to use a custom loss function I called MRAE (mean root absolute error).\n",
        "It is very similar to MAE. The only difference is that I take the square root of each absolute difference, to have a higher loss for bigger differences. \n",
        "\n",
        "I chose this loss over others for the following reasons: \n",
        "1. The model outputs a point prediction - a particular sentiment, and not a probability distribution, as cross entropy requires.\n",
        "2. The model outputs small values in the range [0-1]. Therefore, MSE would have decreased the error value instead of increasing it (since x^2 < x when x is a proper fraction, [as explained here](https://math.stackexchange.com/questions/2618094/why-the-square-root-of-any-decimal-number-between-0-and-1-always-come-out-to-be)). \n",
        "\n",
        "Optimal Prediction: For several lyrics examples with a similar embedding the model's optimal prediction is their median label. \n",
        "\n",
        "Implemetation:\n",
        "1. For a more numerically stable result I apply Sigmoid after the forward pass, as part of the loss computation. \n",
        "2. For building a custom loss function I followed [this discussion](https://discuss.pytorch.org/t/rmse-loss-function/16540/3). \n",
        "\n",
        "#### ADAMW Optimizer\n",
        "\n",
        "Adam with weight decay Regularization as proposed in [this paper](https://arxiv.org/abs/1711.05101) which improves Adam's generalization performance.\n",
        "\n"
      ]
    },
    {
      "cell_type": "code",
      "metadata": {
        "id": "NDwQ8FHNvagx",
        "colab_type": "code",
        "colab": {}
      },
      "source": [
        "import torch.optim as optim\n",
        "\n",
        "# The call to model.parameters() contains the learnable parameters.\n",
        "optimizer = optim.AdamW(model.parameters())"
      ],
      "execution_count": 0,
      "outputs": []
    },
    {
      "cell_type": "code",
      "metadata": {
        "id": "44UffK34vagz",
        "colab_type": "code",
        "colab": {}
      },
      "source": [
        "sigmoid = nn.Sigmoid()\n",
        "\n",
        "class MARELoss(nn.Module):\n",
        "    def __init__(self):\n",
        "      super().__init__()\n",
        "      # Since the square root is not differentiable at zero\n",
        "      self.eps = 1e-6\n",
        "        \n",
        "    def forward(self, predicted_logits, y):\n",
        "      yhat = sigmoid(predicted_logits)\n",
        "      return torch.mean(torch.sqrt(torch.abs(yhat - y) + self.eps))\n",
        "\n",
        "criterion = MARELoss()"
      ],
      "execution_count": 0,
      "outputs": []
    },
    {
      "cell_type": "markdown",
      "metadata": {
        "id": "9RIszZDPvag2",
        "colab_type": "text"
      },
      "source": [
        "Check if any GPUs are available, and if available, put the model and criterion onto the GPU."
      ]
    },
    {
      "cell_type": "code",
      "metadata": {
        "id": "8TuzbDSKvag2",
        "colab_type": "code",
        "outputId": "3648ffed-00cc-494d-c0ae-7b5bdf06bf3d",
        "colab": {
          "base_uri": "https://localhost:8080/",
          "height": 35
        }
      },
      "source": [
        "# If there's a GPU available\n",
        "device = torch.device('cuda' if torch.cuda.is_available() else 'cpu')\n",
        "print('There are {} GPU(s) available'.format(torch.cuda.device_count()))\n",
        "\n",
        "# Convert model parameters to double\n",
        "model.double()\n",
        "\n",
        "# Fit model and criterion to Cuda\n",
        "model = model.to(device)\n",
        "criterion = criterion.to(device)\n"
      ],
      "execution_count": 21,
      "outputs": [
        {
          "output_type": "stream",
          "text": [
            "There are 0 GPU(s) available\n"
          ],
          "name": "stdout"
        }
      ]
    },
    {
      "cell_type": "markdown",
      "metadata": {
        "id": "WmdgNPWTvag5",
        "colab_type": "text"
      },
      "source": [
        "Compute the accuracy of a batch and track predictions of the three different buckets: negative, neutral and positive sentiment. I use the threshold (hyperparameter) as an absolute difference that the prediction can have from the label."
      ]
    },
    {
      "cell_type": "code",
      "metadata": {
        "id": "0Brkl75Zvag6",
        "colab_type": "code",
        "colab": {}
      },
      "source": [
        "def batch_accuracy(predicted_logits, labels, threshold=ACCURACY_THRESHOLD):\n",
        "    \"\"\"\n",
        "    Args: \n",
        "      preds and labels are both (batch_size,). \n",
        "      predicted_logits are still logits, before sigmoid was applied.\n",
        "      labels are between [0-1].\n",
        "\n",
        "    Returns a float between 0-1, represents precentage of correct predictions in batch. \n",
        "    A correct a prediction for which abs(prediction-label) <=  threshold.\n",
        "    \"\"\"\n",
        "    # Move to CPU to be able to use numpy.\n",
        "    preds = sigmoid(predicted_logits)\n",
        "    preds = preds.detach().cpu().numpy()\n",
        "    labels = labels.to('cpu').numpy()\n",
        "    # Filter all the correct predictions, corrrect are close enough to the labels.\n",
        "    correct_mask = np.isclose(preds, labels, rtol=threshold, atol=threshold)\n",
        "    # Get indices of correct predictions.\n",
        "    correct_indices = correct_mask.nonzero()\n",
        "    correct_labels = labels[correct_indices]\n",
        "    # Correct bounds because of threshold \n",
        "    negative_upper_bound = threshold + LOW_VALENCE_BOUND \n",
        "    positive_lower_bound = HIGH_VALENCE_BOUND - threshold\n",
        "    # Precentage of correct sentiment out of all the labels with this sentiment range.\n",
        "    # None if none of the batch labels are at this range \n",
        "    negative_labels, positive_labels = labels[labels < negative_upper_bound], labels[labels > positive_lower_bound]\n",
        "    length_neutral_labels = len(labels) - len(negative_labels) - len(positive_labels)\n",
        "    correct_negative = None if len(negative_labels) == 0 else round(np.count_nonzero(correct_labels < negative_upper_bound)/len(negative_labels),3)\n",
        "    correct_positive = None if len(positive_labels) == 0 else round(np.count_nonzero(correct_labels > positive_lower_bound)/len(positive_labels),3)\n",
        "    correct_neutral = None if length_neutral_labels == 0 else round(np.count_nonzero((negative_upper_bound <= correct_labels) & (correct_labels <= positive_lower_bound))/length_neutral_labels,3)\n",
        "\n",
        "    return np.sum(correct_mask) / len(labels), correct_negative, correct_positive, correct_neutral"
      ],
      "execution_count": 0,
      "outputs": []
    },
    {
      "cell_type": "markdown",
      "metadata": {
        "id": "IW9CftG4thvA",
        "colab_type": "text"
      },
      "source": [
        "Most of the training code is taken from the above mentioned [PyTorch Sentiment Analysis by Ben Trevett](https://github.com/bentrevett/pytorch-sentiment-analysis). "
      ]
    },
    {
      "cell_type": "code",
      "metadata": {
        "id": "3tClF98lvag8",
        "colab_type": "code",
        "colab": {}
      },
      "source": [
        "def train(model, iterator, optimizer, criterion):\n",
        "    \n",
        "    epoch_loss = 0\n",
        "    epoch_acc = 0\n",
        "    epoch_negative, epoch_positive, epoch_neutral = 0, 0, 0\n",
        "    \n",
        "    model.train()\n",
        "    \n",
        "    for batch_id, batch in enumerate(iterator):\n",
        "        optimizer.zero_grad()\n",
        "        \n",
        "        # batch contains three pytorch tensors:\n",
        "        b_input_ids = batch[0].to(device)\n",
        "        b_input_mask = batch[1].to(device)\n",
        "        b_labels = batch[2].to(device)\n",
        "        \n",
        "        predictions_logits = model(b_input_ids, attention_masks=b_input_mask).squeeze(1)\n",
        "        loss = criterion(predictions_logits, b_labels)\n",
        "        \n",
        "        acc, correct_negative, correct_positive,correct_neutral = batch_accuracy(predictions_logits, b_labels)\n",
        "        \n",
        "        loss.backward()\n",
        "\n",
        "        # Check if gradients are exploding/ vanishing:\n",
        "        # for name, param in model.named_parameters():                \n",
        "        #   if (param.requires_grad and ('weight' in name)):\n",
        "            # print('{} gradient: {} \\n'.format(name,param.grad.data.norm(2).item()))\n",
        "        \n",
        "        optimizer.step()\n",
        "\n",
        "        print(\"Trained batch number: {}   | loss: {:.2f} | accuracy: {:.2f}\".format(batch_id, loss.item(), acc.item()))\n",
        "        print(\"Predicted correctly:    {} negatives | {} positives | {} neutral\".format(\n",
        "            correct_negative, correct_positive, correct_neutral))\n",
        "\n",
        "        epoch_loss += loss.item()\n",
        "        epoch_acc += acc.item()\n",
        "        epoch_negative += 0 if correct_negative is None else correct_negative\n",
        "        epoch_positive += 0 if correct_positive is None else correct_positive\n",
        "        epoch_neutral += 0 if correct_neutral is None else correct_neutral\n",
        "\n",
        "    return epoch_loss / len(iterator), epoch_acc / len(iterator), epoch_negative/ len(iterator), epoch_positive/ len(iterator), epoch_neutral/ len(iterator)"
      ],
      "execution_count": 0,
      "outputs": []
    },
    {
      "cell_type": "code",
      "metadata": {
        "id": "YDzCG8HPvahA",
        "colab_type": "code",
        "colab": {}
      },
      "source": [
        "def evaluate(model, iterator, criterion):\n",
        "    \n",
        "    epoch_loss = 0\n",
        "    epoch_acc = 0\n",
        "    epoch_negative, epoch_positive,epoch_neutral = 0, 0, 0\n",
        "\n",
        "    \n",
        "    model.eval()\n",
        "    \n",
        "    with torch.no_grad():\n",
        "    \n",
        "        for batch_id, batch in enumerate(iterator):\n",
        "\n",
        "            # batch contains three pytorch tensors:\n",
        "            b_input_ids = batch[0].to(device)\n",
        "            b_input_mask = batch[1].to(device)\n",
        "            b_labels = batch[2].to(device)\n",
        "            predictions_logits = model(b_input_ids, attention_masks=b_input_mask).squeeze(1)            \n",
        "            loss = criterion(predictions_logits, b_labels)\n",
        "        \n",
        "            acc, correct_negative, correct_positive,correct_neutral = batch_accuracy(predictions_logits, b_labels)\n",
        "\n",
        "            print(\"Evaluated batch number: {}   | loss: {:.2f} | accuracy: {:.2f}\".format(batch_id, loss.item(), acc.item()))\n",
        "            print(\"Predicted correctly:    {} negatives | {} positives | {} neutral\".format(\n",
        "            correct_negative, correct_positive, correct_neutral))\n",
        "\n",
        "            epoch_loss += loss.item()\n",
        "            epoch_acc += acc.item()\n",
        "            epoch_negative += 0 if correct_negative is None else correct_negative\n",
        "            epoch_positive += 0 if correct_positive is None else correct_positive\n",
        "            epoch_neutral += 0 if correct_neutral is None else correct_neutral\n",
        "\n",
        "        \n",
        "    return epoch_loss / len(iterator), epoch_acc / len(iterator), epoch_negative/ len(iterator), epoch_positive/ len(iterator), epoch_neutral/len(iterator)"
      ],
      "execution_count": 0,
      "outputs": []
    },
    {
      "cell_type": "code",
      "metadata": {
        "id": "HkrYYJWLvahF",
        "colab_type": "code",
        "colab": {}
      },
      "source": [
        "import time\n",
        "\n",
        "def epoch_time(start_time, end_time):\n",
        "    elapsed_time = end_time - start_time\n",
        "    elapsed_mins = int(elapsed_time / 60)\n",
        "    elapsed_secs = int(elapsed_time - (elapsed_mins * 60))\n",
        "    return elapsed_mins, elapsed_secs"
      ],
      "execution_count": 0,
      "outputs": []
    },
    {
      "cell_type": "code",
      "metadata": {
        "id": "2DYaY0CqvahJ",
        "colab_type": "code",
        "outputId": "f4dc01eb-d149-436b-9f76-c78d648eb117",
        "colab": {
          "base_uri": "https://localhost:8080/",
          "height": 1000
        }
      },
      "source": [
        "# The BERT authors recommend between 2 to 4 epochs.\n",
        "\n",
        "N_EPOCHS = 3\n",
        "\n",
        "best_valid_loss = float('inf')\n",
        "epochs_val_loss = []\n",
        "epochs_accuracy = []\n",
        "epochs_pos_acc, epochs_neg_acc, epochs_neutral_acc = [], [], []\n",
        "\n",
        "for epoch in range(N_EPOCHS):\n",
        "    \n",
        "    start_time = time.time()\n",
        "    \n",
        "    train_loss, train_acc, train_negative, train_positive, train_neutral = train(\n",
        "        model, train_dataloader, optimizer, criterion)\n",
        "    valid_loss, valid_acc, valid_negative, valid_positive, valid_neutral = evaluate(\n",
        "        model, validation_dataloader, criterion)\n",
        "        \n",
        "    end_time = time.time()\n",
        "        \n",
        "    epoch_mins, epoch_secs = epoch_time(start_time, end_time)\n",
        "        \n",
        "    if valid_loss < best_valid_loss:\n",
        "        best_valid_loss = valid_loss\n",
        "        print(\"Save Model with loss {:.2f} to {}\".format(best_valid_loss, SAVE_PATH))\n",
        "        save_output = open(SAVE_PATH, mode=\"wb\")\n",
        "        torch.save(model.state_dict(), save_output)\n",
        "\n",
        "    # Add values to graph\n",
        "    epochs_val_loss.append(valid_loss)\n",
        "    epochs_accuracy.append(valid_acc)\n",
        "    epochs_pos_acc.append(valid_positive)\n",
        "    epochs_neg_acc.append(valid_negative)\n",
        "    epochs_neutral_acc.append(valid_neutral)\n",
        "    \n",
        "    print(f'Epoch: {epoch+1:02} | Epoch Time: {epoch_mins}m {epoch_secs}s')\n",
        "    print(f'\\t Train Loss: {train_loss:.3f} | Train Acc: {train_acc*100:.2f}% | Correct Neg: {train_negative*100:.2f}% Pos: {train_positive*100:.2f}% | Neutral: {train_neutral*100:.2f}%')\n",
        "    print(f'\\t  Val. Loss: {valid_loss:.3f} |  Val. Acc: {valid_acc*100:.2f}% | Correct Neg: {valid_negative*100:.2f}% Pos: {valid_positive*100:.2f}% | Neutral: {valid_neutral*100:.2f}%')"
      ],
      "execution_count": 72,
      "outputs": [
        {
          "output_type": "stream",
          "text": [
            "Trained batch number: 0   | loss: 0.50 | accuracy: 0.31\n",
            "Predicted correctly:    0.0 negatives | 0.231 positives | 1.0 neutral\n",
            "Trained batch number: 1   | loss: 0.50 | accuracy: 0.23\n",
            "Predicted correctly:    0.0 negatives | 0.0 positives | 1.0 neutral\n",
            "Trained batch number: 2   | loss: 0.55 | accuracy: 0.42\n",
            "Predicted correctly:    1.0 negatives | 0.0 positives | 0.611 neutral\n",
            "Trained batch number: 3   | loss: 0.50 | accuracy: 0.30\n",
            "Predicted correctly:    0.069 negatives | 0.308 positives | 1.0 neutral\n",
            "Trained batch number: 4   | loss: 0.46 | accuracy: 0.48\n",
            "Predicted correctly:    1.0 negatives | 0.13 positives | 0.0 neutral\n",
            "Trained batch number: 5   | loss: 0.48 | accuracy: 0.48\n",
            "Predicted correctly:    0.12 negatives | 0.704 positives | 0.75 neutral\n",
            "Trained batch number: 6   | loss: 0.52 | accuracy: 0.45\n",
            "Predicted correctly:    0.0 negatives | 1.0 positives | 0.05 neutral\n",
            "Trained batch number: 7   | loss: 0.50 | accuracy: 0.50\n",
            "Predicted correctly:    0.05 negatives | 0.967 positives | 0.143 neutral\n",
            "Trained batch number: 8   | loss: 0.49 | accuracy: 0.47\n",
            "Predicted correctly:    0.179 negatives | 0.778 positives | 0.611 neutral\n",
            "Trained batch number: 9   | loss: 0.49 | accuracy: 0.38\n",
            "Predicted correctly:    0.55 negatives | 0.138 positives | 0.6 neutral\n",
            "Trained batch number: 10   | loss: 0.44 | accuracy: 0.52\n",
            "Predicted correctly:    0.727 negatives | 0.269 positives | 0.625 neutral\n",
            "Trained batch number: 11   | loss: 0.47 | accuracy: 0.44\n",
            "Predicted correctly:    0.65 negatives | 0.097 positives | 0.923 neutral\n",
            "Trained batch number: 12   | loss: 0.46 | accuracy: 0.53\n",
            "Predicted correctly:    0.524 negatives | 0.409 positives | 0.667 neutral\n",
            "Trained batch number: 13   | loss: 0.44 | accuracy: 0.64\n",
            "Predicted correctly:    0.615 negatives | 0.581 positives | 0.75 neutral\n",
            "Trained batch number: 14   | loss: 0.44 | accuracy: 0.56\n",
            "Predicted correctly:    0.591 negatives | 0.536 positives | 0.571 neutral\n",
            "Trained batch number: 15   | loss: 0.54 | accuracy: 0.44\n",
            "Predicted correctly:    0.789 negatives | 0.2 positives | 0.467 neutral\n",
            "Trained batch number: 16   | loss: 0.55 | accuracy: 0.41\n",
            "Predicted correctly:    0.792 negatives | 0.138 positives | 0.273 neutral\n",
            "Trained batch number: 17   | loss: 0.46 | accuracy: 0.53\n",
            "Predicted correctly:    1.0 negatives | 0.308 positives | 0.333 neutral\n",
            "Trained batch number: 18   | loss: 0.47 | accuracy: 0.45\n",
            "Predicted correctly:    0.708 negatives | 0.261 positives | 0.353 neutral\n",
            "Trained batch number: 19   | loss: 0.41 | accuracy: 0.64\n",
            "Predicted correctly:    0.656 negatives | 0.5 positives | 0.722 neutral\n",
            "Trained batch number: 20   | loss: 0.45 | accuracy: 0.48\n",
            "Predicted correctly:    0.0 negatives | 0.741 positives | 0.846 neutral\n",
            "Trained batch number: 21   | loss: 0.43 | accuracy: 0.62\n",
            "Predicted correctly:    0.067 negatives | 0.75 positives | 0.857 neutral\n",
            "Trained batch number: 22   | loss: 0.46 | accuracy: 0.53\n",
            "Predicted correctly:    0.0 negatives | 0.8 positives | 1.0 neutral\n",
            "Trained batch number: 23   | loss: 0.40 | accuracy: 0.66\n",
            "Predicted correctly:    0.0 negatives | 0.829 positives | 0.867 neutral\n",
            "Trained batch number: 24   | loss: 0.42 | accuracy: 0.61\n",
            "Predicted correctly:    0.368 negatives | 0.783 positives | 0.636 neutral\n",
            "Trained batch number: 25   | loss: 0.42 | accuracy: 0.59\n",
            "Predicted correctly:    0.409 negatives | 0.679 positives | 0.714 neutral\n",
            "Trained batch number: 26   | loss: 0.44 | accuracy: 0.53\n",
            "Predicted correctly:    0.385 negatives | 0.714 positives | 0.4 neutral\n",
            "Trained batch number: 27   | loss: 0.42 | accuracy: 0.59\n",
            "Predicted correctly:    0.5 negatives | 0.774 positives | 0.333 neutral\n",
            "Trained batch number: 28   | loss: 0.44 | accuracy: 0.53\n",
            "Predicted correctly:    0.484 negatives | 0.765 positives | 0.375 neutral\n",
            "Trained batch number: 29   | loss: 0.41 | accuracy: 0.66\n",
            "Predicted correctly:    0.533 negatives | 0.824 positives | 0.4 neutral\n",
            "Trained batch number: 30   | loss: 0.41 | accuracy: 0.61\n",
            "Predicted correctly:    0.579 negatives | 0.84 positives | 0.35 neutral\n",
            "Trained batch number: 31   | loss: 0.43 | accuracy: 0.53\n",
            "Predicted correctly:    0.5 negatives | 0.769 positives | 0.25 neutral\n",
            "Trained batch number: 32   | loss: 0.49 | accuracy: 0.52\n",
            "Predicted correctly:    0.348 negatives | 0.615 positives | 0.6 neutral\n",
            "Trained batch number: 33   | loss: 0.51 | accuracy: 0.42\n",
            "Predicted correctly:    0.28 negatives | 0.227 positives | 0.882 neutral\n",
            "Trained batch number: 34   | loss: 0.48 | accuracy: 0.48\n",
            "Predicted correctly:    0.333 negatives | 0.414 positives | 0.765 neutral\n",
            "Trained batch number: 35   | loss: 0.48 | accuracy: 0.42\n",
            "Predicted correctly:    0.444 negatives | 0.323 positives | 0.6 neutral\n",
            "Trained batch number: 36   | loss: 0.39 | accuracy: 0.64\n",
            "Predicted correctly:    0.773 negatives | 0.609 positives | 0.526 neutral\n",
            "Trained batch number: 37   | loss: 0.46 | accuracy: 0.52\n",
            "Predicted correctly:    0.857 negatives | 0.423 positives | 0.235 neutral\n",
            "Trained batch number: 38   | loss: 0.50 | accuracy: 0.42\n",
            "Predicted correctly:    0.909 negatives | 0.185 positives | 0.133 neutral\n",
            "Trained batch number: 39   | loss: 0.46 | accuracy: 0.55\n",
            "Predicted correctly:    0.84 negatives | 0.375 positives | 0.333 neutral\n",
            "Trained batch number: 40   | loss: 0.45 | accuracy: 0.52\n",
            "Predicted correctly:    0.68 negatives | 0.44 positives | 0.357 neutral\n",
            "Trained batch number: 41   | loss: 0.44 | accuracy: 0.58\n",
            "Predicted correctly:    0.839 negatives | 0.381 positives | 0.25 neutral\n",
            "Trained batch number: 42   | loss: 0.43 | accuracy: 0.61\n",
            "Predicted correctly:    0.857 negatives | 0.571 positives | 0.333 neutral\n",
            "Trained batch number: 43   | loss: 0.46 | accuracy: 0.53\n",
            "Predicted correctly:    0.727 negatives | 0.636 positives | 0.2 neutral\n",
            "Trained batch number: 44   | loss: 0.47 | accuracy: 0.52\n",
            "Predicted correctly:    0.762 negatives | 0.615 positives | 0.059 neutral\n",
            "Trained batch number: 45   | loss: 0.45 | accuracy: 0.53\n",
            "Predicted correctly:    0.565 negatives | 0.692 positives | 0.2 neutral\n",
            "Trained batch number: 46   | loss: 0.48 | accuracy: 0.53\n",
            "Predicted correctly:    0.524 negatives | 0.655 positives | 0.286 neutral\n",
            "Trained batch number: 47   | loss: 0.44 | accuracy: 0.58\n",
            "Predicted correctly:    0.632 negatives | 0.72 positives | 0.35 neutral\n",
            "Trained batch number: 48   | loss: 0.47 | accuracy: 0.55\n",
            "Predicted correctly:    0.391 negatives | 0.815 positives | 0.286 neutral\n",
            "Trained batch number: 49   | loss: 0.45 | accuracy: 0.56\n",
            "Predicted correctly:    0.36 negatives | 0.913 positives | 0.375 neutral\n",
            "Trained batch number: 50   | loss: 0.43 | accuracy: 0.61\n",
            "Predicted correctly:    0.429 negatives | 0.903 positives | 0.263 neutral\n",
            "Trained batch number: 51   | loss: 0.44 | accuracy: 0.55\n",
            "Predicted correctly:    0.304 negatives | 0.889 positives | 0.286 neutral\n",
            "Trained batch number: 52   | loss: 0.45 | accuracy: 0.53\n",
            "Predicted correctly:    0.545 negatives | 0.75 positives | 0.385 neutral\n",
            "Trained batch number: 53   | loss: 0.47 | accuracy: 0.48\n",
            "Predicted correctly:    0.633 negatives | 0.429 positives | 0.231 neutral\n",
            "Trained batch number: 54   | loss: 0.41 | accuracy: 0.64\n",
            "Predicted correctly:    0.774 negatives | 0.478 positives | 0.6 neutral\n",
            "Trained batch number: 55   | loss: 0.46 | accuracy: 0.45\n",
            "Predicted correctly:    0.739 negatives | 0.32 positives | 0.25 neutral\n",
            "Trained batch number: 56   | loss: 0.43 | accuracy: 0.58\n",
            "Predicted correctly:    0.85 negatives | 0.407 positives | 0.529 neutral\n",
            "Trained batch number: 57   | loss: 0.49 | accuracy: 0.53\n",
            "Predicted correctly:    0.714 negatives | 0.269 positives | 0.706 neutral\n",
            "Trained batch number: 58   | loss: 0.44 | accuracy: 0.59\n",
            "Predicted correctly:    0.636 negatives | 0.536 positives | 0.643 neutral\n",
            "Trained batch number: 59   | loss: 0.47 | accuracy: 0.52\n",
            "Predicted correctly:    0.769 negatives | 0.304 positives | 0.4 neutral\n",
            "Trained batch number: 60   | loss: 0.44 | accuracy: 0.56\n",
            "Predicted correctly:    0.76 negatives | 0.417 positives | 0.467 neutral\n",
            "Trained batch number: 61   | loss: 0.46 | accuracy: 0.55\n",
            "Predicted correctly:    0.737 negatives | 0.357 positives | 0.647 neutral\n",
            "Trained batch number: 62   | loss: 0.40 | accuracy: 0.64\n",
            "Predicted correctly:    0.889 negatives | 0.435 positives | 0.5 neutral\n",
            "Trained batch number: 63   | loss: 0.44 | accuracy: 0.56\n",
            "Predicted correctly:    0.536 negatives | 0.762 positives | 0.333 neutral\n",
            "Trained batch number: 64   | loss: 0.45 | accuracy: 0.55\n",
            "Predicted correctly:    0.714 negatives | 0.615 positives | 0.235 neutral\n",
            "Trained batch number: 65   | loss: 0.40 | accuracy: 0.62\n",
            "Predicted correctly:    0.667 negatives | 0.885 positives | 0.176 neutral\n",
            "Trained batch number: 66   | loss: 0.46 | accuracy: 0.50\n",
            "Predicted correctly:    0.586 negatives | 0.737 positives | 0.062 neutral\n",
            "Trained batch number: 67   | loss: 0.44 | accuracy: 0.56\n",
            "Predicted correctly:    0.722 negatives | 0.759 positives | 0.059 neutral\n",
            "Trained batch number: 68   | loss: 0.42 | accuracy: 0.62\n",
            "Predicted correctly:    0.957 negatives | 0.708 positives | 0.059 neutral\n",
            "Trained batch number: 69   | loss: 0.47 | accuracy: 0.55\n",
            "Predicted correctly:    0.815 negatives | 0.462 positives | 0.091 neutral\n",
            "Trained batch number: 70   | loss: 0.48 | accuracy: 0.55\n",
            "Predicted correctly:    0.5 negatives | 0.806 positives | 0.0 neutral\n",
            "Trained batch number: 71   | loss: 0.49 | accuracy: 0.50\n",
            "Predicted correctly:    0.444 negatives | 0.773 positives | 0.2 neutral\n",
            "Trained batch number: 72   | loss: 0.56 | accuracy: 0.39\n",
            "Predicted correctly:    0.042 negatives | 1.0 positives | 0.0 neutral\n",
            "Trained batch number: 73   | loss: 0.42 | accuracy: 0.59\n",
            "Predicted correctly:    0.25 negatives | 1.0 positives | 0.083 neutral\n",
            "Trained batch number: 74   | loss: 0.47 | accuracy: 0.56\n",
            "Predicted correctly:    0.136 negatives | 1.0 positives | 0.182 neutral\n",
            "Trained batch number: 75   | loss: 0.50 | accuracy: 0.48\n",
            "Predicted correctly:    0.148 negatives | 0.958 positives | 0.308 neutral\n",
            "Trained batch number: 76   | loss: 0.51 | accuracy: 0.48\n",
            "Predicted correctly:    0.0 negatives | 0.857 positives | 0.619 neutral\n",
            "Trained batch number: 77   | loss: 0.50 | accuracy: 0.59\n",
            "Predicted correctly:    0.0 negatives | 0.864 positives | 1.0 neutral\n",
            "Trained batch number: 78   | loss: 0.46 | accuracy: 0.52\n",
            "Predicted correctly:    0.105 negatives | 0.417 positives | 1.0 neutral\n",
            "Trained batch number: 79   | loss: 0.50 | accuracy: 0.25\n",
            "Predicted correctly:    0.107 negatives | 0.16 positives | 0.818 neutral\n",
            "Trained batch number: 80   | loss: 0.50 | accuracy: 0.25\n",
            "Predicted correctly:    0.174 negatives | 0.071 positives | 0.769 neutral\n",
            "Trained batch number: 81   | loss: 0.47 | accuracy: 0.45\n",
            "Predicted correctly:    0.091 negatives | 0.481 positives | 0.933 neutral\n",
            "Trained batch number: 82   | loss: 0.46 | accuracy: 0.52\n",
            "Predicted correctly:    0.095 negatives | 0.76 positives | 0.667 neutral\n",
            "Trained batch number: 83   | loss: 0.43 | accuracy: 0.58\n",
            "Predicted correctly:    0.294 negatives | 0.75 positives | 0.455 neutral\n",
            "Trained batch number: 84   | loss: 0.48 | accuracy: 0.52\n",
            "Predicted correctly:    0.278 negatives | 0.75 positives | 0.455 neutral\n",
            "Trained batch number: 85   | loss: 0.53 | accuracy: 0.39\n",
            "Predicted correctly:    0.045 negatives | 0.815 positives | 0.133 neutral\n",
            "Trained batch number: 86   | loss: 0.49 | accuracy: 0.41\n",
            "Predicted correctly:    0.346 negatives | 0.765 positives | 0.19 neutral\n",
            "Trained batch number: 87   | loss: 0.45 | accuracy: 0.50\n",
            "Predicted correctly:    0.333 negatives | 0.667 positives | 0.5 neutral\n",
            "Evaluated batch number: 0   | loss: 0.44 | accuracy: 0.59\n",
            "Predicted correctly:    0.4 negatives | 0.8 positives | 0.526 neutral\n",
            "Evaluated batch number: 1   | loss: 0.41 | accuracy: 0.61\n",
            "Predicted correctly:    0.417 negatives | 0.828 positives | 0.455 neutral\n",
            "Evaluated batch number: 2   | loss: 0.43 | accuracy: 0.56\n",
            "Predicted correctly:    0.586 negatives | 0.55 positives | 0.533 neutral\n",
            "Evaluated batch number: 3   | loss: 0.40 | accuracy: 0.64\n",
            "Predicted correctly:    0.348 negatives | 1.0 positives | 0.619 neutral\n",
            "Evaluated batch number: 4   | loss: 0.43 | accuracy: 0.64\n",
            "Predicted correctly:    0.522 negatives | 0.667 positives | 0.765 neutral\n",
            "Evaluated batch number: 5   | loss: 0.43 | accuracy: 0.59\n",
            "Predicted correctly:    0.522 negatives | 0.667 positives | 0.588 neutral\n",
            "Evaluated batch number: 6   | loss: 0.46 | accuracy: 0.59\n",
            "Predicted correctly:    0.263 negatives | 0.733 positives | 0.733 neutral\n",
            "Evaluated batch number: 7   | loss: 0.48 | accuracy: 0.47\n",
            "Predicted correctly:    0.35 negatives | 0.75 positives | 0.25 neutral\n",
            "Evaluated batch number: 8   | loss: 0.42 | accuracy: 0.59\n",
            "Predicted correctly:    0.44 negatives | 0.75 positives | 0.6 neutral\n",
            "Evaluated batch number: 9   | loss: 0.41 | accuracy: 0.61\n",
            "Predicted correctly:    0.579 negatives | 0.774 positives | 0.286 neutral\n",
            "Evaluated batch number: 10   | loss: 0.38 | accuracy: 0.67\n",
            "Predicted correctly:    0.6 negatives | 0.821 positives | 0.417 neutral\n",
            "Save Model with loss 0.43 to /content/gdrive/My Drive/6864/lyrics-sentiment-processed_db.pt\n",
            "Epoch: 01 | Epoch Time: 203m 4s\n",
            "\t Train Loss: 0.463 | Train Acc: 51.53% | Correct Neg: 47.88% Pos: 57.67% | Neutral: 46.00%\n",
            "\t  Val. Loss: 0.427 |  Val. Acc: 59.75% | Correct Neg: 45.70% Pos: 75.82% | Neutral: 52.47%\n",
            "Trained batch number: 0   | loss: 0.44 | accuracy: 0.53\n",
            "Predicted correctly:    0.273 negatives | 0.778 positives | 0.467 neutral\n",
            "Trained batch number: 1   | loss: 0.41 | accuracy: 0.56\n",
            "Predicted correctly:    0.565 negatives | 0.75 positives | 0.154 neutral\n",
            "Trained batch number: 2   | loss: 0.43 | accuracy: 0.62\n",
            "Predicted correctly:    0.696 negatives | 0.609 positives | 0.556 neutral\n",
            "Trained batch number: 3   | loss: 0.44 | accuracy: 0.59\n",
            "Predicted correctly:    0.724 negatives | 0.4 positives | 0.6 neutral\n",
            "Trained batch number: 4   | loss: 0.44 | accuracy: 0.53\n",
            "Predicted correctly:    0.846 negatives | 0.0 positives | 0.706 neutral\n",
            "Trained batch number: 5   | loss: 0.55 | accuracy: 0.39\n",
            "Predicted correctly:    0.941 negatives | 0.0 positives | 0.529 neutral\n",
            "Trained batch number: 6   | loss: 0.50 | accuracy: 0.52\n",
            "Predicted correctly:    0.905 negatives | 0.0 positives | 0.778 neutral\n",
            "Trained batch number: 7   | loss: 0.48 | accuracy: 0.42\n",
            "Predicted correctly:    0.792 negatives | 0.0 positives | 0.667 neutral\n",
            "Trained batch number: 8   | loss: 0.46 | accuracy: 0.50\n",
            "Predicted correctly:    0.704 negatives | 0.28 positives | 0.5 neutral\n",
            "Trained batch number: 9   | loss: 0.42 | accuracy: 0.53\n",
            "Predicted correctly:    0.593 negatives | 0.545 positives | 0.4 neutral\n",
            "Trained batch number: 10   | loss: 0.43 | accuracy: 0.58\n",
            "Predicted correctly:    0.579 negatives | 0.621 positives | 0.5 neutral\n",
            "Trained batch number: 11   | loss: 0.44 | accuracy: 0.52\n",
            "Predicted correctly:    0.636 negatives | 0.696 positives | 0.158 neutral\n",
            "Trained batch number: 12   | loss: 0.43 | accuracy: 0.55\n",
            "Predicted correctly:    0.458 negatives | 0.808 positives | 0.214 neutral\n",
            "Trained batch number: 13   | loss: 0.45 | accuracy: 0.56\n",
            "Predicted correctly:    0.409 negatives | 0.95 positives | 0.364 neutral\n",
            "Trained batch number: 14   | loss: 0.41 | accuracy: 0.67\n",
            "Predicted correctly:    0.538 negatives | 0.862 positives | 0.5 neutral\n",
            "Trained batch number: 15   | loss: 0.42 | accuracy: 0.53\n",
            "Predicted correctly:    0.562 negatives | 0.611 positives | 0.357 neutral\n",
            "Trained batch number: 16   | loss: 0.45 | accuracy: 0.50\n",
            "Predicted correctly:    0.737 negatives | 0.269 positives | 0.579 neutral\n",
            "Trained batch number: 17   | loss: 0.47 | accuracy: 0.52\n",
            "Predicted correctly:    0.895 negatives | 0.391 positives | 0.318 neutral\n",
            "Trained batch number: 18   | loss: 0.51 | accuracy: 0.44\n",
            "Predicted correctly:    0.882 negatives | 0.129 positives | 0.562 neutral\n",
            "Trained batch number: 19   | loss: 0.46 | accuracy: 0.53\n",
            "Predicted correctly:    0.759 negatives | 0.261 positives | 0.5 neutral\n",
            "Trained batch number: 20   | loss: 0.48 | accuracy: 0.44\n",
            "Predicted correctly:    0.481 negatives | 0.24 positives | 0.75 neutral\n",
            "Trained batch number: 21   | loss: 0.44 | accuracy: 0.53\n",
            "Predicted correctly:    0.609 negatives | 0.357 positives | 0.769 neutral\n",
            "Trained batch number: 22   | loss: 0.47 | accuracy: 0.48\n",
            "Predicted correctly:    0.381 negatives | 0.308 positives | 0.882 neutral\n",
            "Trained batch number: 23   | loss: 0.47 | accuracy: 0.48\n",
            "Predicted correctly:    0.333 negatives | 0.464 positives | 0.833 neutral\n",
            "Trained batch number: 24   | loss: 0.43 | accuracy: 0.56\n",
            "Predicted correctly:    0.333 negatives | 0.5 positives | 0.792 neutral\n",
            "Trained batch number: 25   | loss: 0.45 | accuracy: 0.55\n",
            "Predicted correctly:    0.35 negatives | 0.464 positives | 0.938 neutral\n",
            "Trained batch number: 26   | loss: 0.43 | accuracy: 0.61\n",
            "Predicted correctly:    0.429 negatives | 0.692 positives | 0.706 neutral\n",
            "Trained batch number: 27   | loss: 0.47 | accuracy: 0.48\n",
            "Predicted correctly:    0.2 negatives | 0.71 positives | 0.5 neutral\n",
            "Trained batch number: 28   | loss: 0.45 | accuracy: 0.52\n",
            "Predicted correctly:    0.25 negatives | 0.692 positives | 0.556 neutral\n",
            "Trained batch number: 29   | loss: 0.43 | accuracy: 0.59\n",
            "Predicted correctly:    0.25 negatives | 0.743 positives | 0.529 neutral\n",
            "Trained batch number: 30   | loss: 0.43 | accuracy: 0.59\n",
            "Predicted correctly:    0.333 negatives | 0.875 positives | 0.286 neutral\n",
            "Trained batch number: 31   | loss: 0.40 | accuracy: 0.66\n",
            "Predicted correctly:    0.368 negatives | 0.893 positives | 0.588 neutral\n",
            "Trained batch number: 32   | loss: 0.48 | accuracy: 0.50\n",
            "Predicted correctly:    0.333 negatives | 0.952 positives | 0.188 neutral\n",
            "Trained batch number: 33   | loss: 0.49 | accuracy: 0.48\n",
            "Predicted correctly:    0.273 negatives | 0.857 positives | 0.071 neutral\n",
            "Trained batch number: 34   | loss: 0.44 | accuracy: 0.53\n",
            "Predicted correctly:    0.348 negatives | 0.917 positives | 0.235 neutral\n",
            "Trained batch number: 35   | loss: 0.48 | accuracy: 0.48\n",
            "Predicted correctly:    0.522 negatives | 0.632 positives | 0.318 neutral\n",
            "Trained batch number: 36   | loss: 0.47 | accuracy: 0.53\n",
            "Predicted correctly:    0.5 negatives | 0.75 positives | 0.375 neutral\n",
            "Trained batch number: 37   | loss: 0.45 | accuracy: 0.58\n",
            "Predicted correctly:    0.667 negatives | 0.667 positives | 0.409 neutral\n",
            "Trained batch number: 38   | loss: 0.44 | accuracy: 0.56\n",
            "Predicted correctly:    0.619 negatives | 0.818 positives | 0.238 neutral\n",
            "Trained batch number: 39   | loss: 0.42 | accuracy: 0.62\n",
            "Predicted correctly:    0.667 negatives | 0.69 positives | 0.429 neutral\n",
            "Trained batch number: 40   | loss: 0.37 | accuracy: 0.66\n",
            "Predicted correctly:    0.857 negatives | 0.8 positives | 0.222 neutral\n",
            "Trained batch number: 41   | loss: 0.50 | accuracy: 0.44\n",
            "Predicted correctly:    0.556 negatives | 0.483 positives | 0.235 neutral\n",
            "Trained batch number: 42   | loss: 0.42 | accuracy: 0.62\n",
            "Predicted correctly:    0.68 negatives | 0.708 positives | 0.4 neutral\n",
            "Trained batch number: 43   | loss: 0.46 | accuracy: 0.55\n",
            "Predicted correctly:    0.417 negatives | 0.778 positives | 0.308 neutral\n",
            "Trained batch number: 44   | loss: 0.42 | accuracy: 0.55\n",
            "Predicted correctly:    0.476 negatives | 0.778 positives | 0.25 neutral\n",
            "Trained batch number: 45   | loss: 0.39 | accuracy: 0.66\n",
            "Predicted correctly:    0.55 negatives | 0.967 positives | 0.143 neutral\n",
            "Trained batch number: 46   | loss: 0.47 | accuracy: 0.53\n",
            "Predicted correctly:    0.37 negatives | 0.842 positives | 0.444 neutral\n",
            "Trained batch number: 47   | loss: 0.48 | accuracy: 0.41\n",
            "Predicted correctly:    0.323 negatives | 0.882 positives | 0.062 neutral\n",
            "Trained batch number: 48   | loss: 0.44 | accuracy: 0.62\n",
            "Predicted correctly:    0.5 negatives | 0.885 positives | 0.375 neutral\n",
            "Trained batch number: 49   | loss: 0.46 | accuracy: 0.53\n",
            "Predicted correctly:    0.4 negatives | 0.846 positives | 0.154 neutral\n",
            "Trained batch number: 50   | loss: 0.43 | accuracy: 0.61\n",
            "Predicted correctly:    0.583 negatives | 0.714 positives | 0.417 neutral\n",
            "Trained batch number: 51   | loss: 0.41 | accuracy: 0.66\n",
            "Predicted correctly:    0.533 negatives | 0.833 positives | 0.308 neutral\n",
            "Trained batch number: 52   | loss: 0.41 | accuracy: 0.66\n",
            "Predicted correctly:    0.684 negatives | 0.786 positives | 0.412 neutral\n",
            "Trained batch number: 53   | loss: 0.40 | accuracy: 0.67\n",
            "Predicted correctly:    0.579 negatives | 0.812 positives | 0.462 neutral\n",
            "Trained batch number: 54   | loss: 0.40 | accuracy: 0.61\n",
            "Predicted correctly:    0.571 negatives | 0.8 positives | 0.273 neutral\n",
            "Trained batch number: 55   | loss: 0.43 | accuracy: 0.56\n",
            "Predicted correctly:    0.565 negatives | 0.667 positives | 0.412 neutral\n",
            "Trained batch number: 56   | loss: 0.41 | accuracy: 0.61\n",
            "Predicted correctly:    0.529 negatives | 0.781 positives | 0.333 neutral\n",
            "Trained batch number: 57   | loss: 0.42 | accuracy: 0.59\n",
            "Predicted correctly:    0.577 negatives | 0.792 positives | 0.286 neutral\n",
            "Trained batch number: 58   | loss: 0.38 | accuracy: 0.67\n",
            "Predicted correctly:    0.6 negatives | 0.815 positives | 0.5 neutral\n",
            "Trained batch number: 59   | loss: 0.45 | accuracy: 0.56\n",
            "Predicted correctly:    0.44 negatives | 0.9 positives | 0.368 neutral\n",
            "Trained batch number: 60   | loss: 0.46 | accuracy: 0.55\n",
            "Predicted correctly:    0.619 negatives | 0.667 positives | 0.154 neutral\n",
            "Trained batch number: 61   | loss: 0.38 | accuracy: 0.61\n",
            "Predicted correctly:    0.71 negatives | 0.737 positives | 0.214 neutral\n",
            "Trained batch number: 62   | loss: 0.44 | accuracy: 0.55\n",
            "Predicted correctly:    0.412 negatives | 0.742 positives | 0.312 neutral\n",
            "Trained batch number: 63   | loss: 0.42 | accuracy: 0.62\n",
            "Predicted correctly:    0.417 negatives | 0.889 positives | 0.462 neutral\n",
            "Trained batch number: 64   | loss: 0.44 | accuracy: 0.53\n",
            "Predicted correctly:    0.462 negatives | 0.783 positives | 0.267 neutral\n",
            "Trained batch number: 65   | loss: 0.40 | accuracy: 0.62\n",
            "Predicted correctly:    0.76 negatives | 0.739 positives | 0.25 neutral\n",
            "Trained batch number: 66   | loss: 0.44 | accuracy: 0.53\n",
            "Predicted correctly:    0.389 negatives | 0.724 positives | 0.353 neutral\n",
            "Trained batch number: 67   | loss: 0.40 | accuracy: 0.61\n",
            "Predicted correctly:    0.75 negatives | 0.767 positives | 0.222 neutral\n",
            "Trained batch number: 68   | loss: 0.42 | accuracy: 0.66\n",
            "Predicted correctly:    0.615 negatives | 0.704 positives | 0.636 neutral\n",
            "Trained batch number: 69   | loss: 0.44 | accuracy: 0.52\n",
            "Predicted correctly:    0.545 negatives | 0.7 positives | 0.318 neutral\n",
            "Trained batch number: 70   | loss: 0.41 | accuracy: 0.64\n",
            "Predicted correctly:    0.786 negatives | 0.654 positives | 0.2 neutral\n",
            "Trained batch number: 71   | loss: 0.46 | accuracy: 0.56\n",
            "Predicted correctly:    0.708 negatives | 0.517 positives | 0.364 neutral\n",
            "Trained batch number: 72   | loss: 0.44 | accuracy: 0.62\n",
            "Predicted correctly:    0.727 negatives | 0.607 positives | 0.5 neutral\n",
            "Trained batch number: 73   | loss: 0.44 | accuracy: 0.58\n",
            "Predicted correctly:    0.833 negatives | 0.562 positives | 0.286 neutral\n",
            "Trained batch number: 74   | loss: 0.39 | accuracy: 0.59\n",
            "Predicted correctly:    0.913 negatives | 0.6 positives | 0.238 neutral\n",
            "Trained batch number: 75   | loss: 0.43 | accuracy: 0.58\n",
            "Predicted correctly:    0.789 negatives | 0.542 positives | 0.429 neutral\n",
            "Trained batch number: 76   | loss: 0.43 | accuracy: 0.58\n",
            "Predicted correctly:    0.579 negatives | 0.607 positives | 0.529 neutral\n",
            "Trained batch number: 77   | loss: 0.42 | accuracy: 0.61\n",
            "Predicted correctly:    0.5 negatives | 0.88 positives | 0.333 neutral\n",
            "Trained batch number: 78   | loss: 0.47 | accuracy: 0.52\n",
            "Predicted correctly:    0.65 negatives | 0.633 positives | 0.071 neutral\n",
            "Trained batch number: 79   | loss: 0.42 | accuracy: 0.59\n",
            "Predicted correctly:    0.565 negatives | 0.917 positives | 0.176 neutral\n",
            "Trained batch number: 80   | loss: 0.40 | accuracy: 0.62\n",
            "Predicted correctly:    0.739 negatives | 0.842 positives | 0.318 neutral\n",
            "Trained batch number: 81   | loss: 0.46 | accuracy: 0.48\n",
            "Predicted correctly:    0.565 negatives | 0.667 positives | 0.2 neutral\n",
            "Trained batch number: 82   | loss: 0.46 | accuracy: 0.55\n",
            "Predicted correctly:    0.435 negatives | 0.815 positives | 0.214 neutral\n",
            "Trained batch number: 83   | loss: 0.46 | accuracy: 0.56\n",
            "Predicted correctly:    0.318 negatives | 0.963 positives | 0.2 neutral\n",
            "Trained batch number: 84   | loss: 0.39 | accuracy: 0.69\n",
            "Predicted correctly:    0.524 negatives | 0.882 positives | 0.333 neutral\n",
            "Trained batch number: 85   | loss: 0.45 | accuracy: 0.50\n",
            "Predicted correctly:    0.304 negatives | 0.815 positives | 0.214 neutral\n",
            "Trained batch number: 86   | loss: 0.44 | accuracy: 0.59\n",
            "Predicted correctly:    0.56 negatives | 0.909 positives | 0.235 neutral\n",
            "Trained batch number: 87   | loss: 0.44 | accuracy: 0.50\n",
            "Predicted correctly:    0.417 negatives | 0.889 positives | 0.273 neutral\n",
            "Evaluated batch number: 0   | loss: 0.44 | accuracy: 0.52\n",
            "Predicted correctly:    0.4 negatives | 0.76 positives | 0.316 neutral\n",
            "Evaluated batch number: 1   | loss: 0.39 | accuracy: 0.64\n",
            "Predicted correctly:    0.542 negatives | 0.862 positives | 0.273 neutral\n",
            "Evaluated batch number: 2   | loss: 0.43 | accuracy: 0.52\n",
            "Predicted correctly:    0.621 negatives | 0.55 positives | 0.267 neutral\n",
            "Evaluated batch number: 3   | loss: 0.41 | accuracy: 0.64\n",
            "Predicted correctly:    0.435 negatives | 1.0 positives | 0.524 neutral\n",
            "Evaluated batch number: 4   | loss: 0.45 | accuracy: 0.58\n",
            "Predicted correctly:    0.522 negatives | 0.625 positives | 0.588 neutral\n",
            "Evaluated batch number: 5   | loss: 0.43 | accuracy: 0.53\n",
            "Predicted correctly:    0.609 negatives | 0.625 positives | 0.294 neutral\n",
            "Evaluated batch number: 6   | loss: 0.45 | accuracy: 0.61\n",
            "Predicted correctly:    0.316 negatives | 0.833 positives | 0.533 neutral\n",
            "Evaluated batch number: 7   | loss: 0.46 | accuracy: 0.53\n",
            "Predicted correctly:    0.6 negatives | 0.708 positives | 0.25 neutral\n",
            "Evaluated batch number: 8   | loss: 0.41 | accuracy: 0.66\n",
            "Predicted correctly:    0.56 negatives | 0.833 positives | 0.533 neutral\n",
            "Evaluated batch number: 9   | loss: 0.39 | accuracy: 0.66\n",
            "Predicted correctly:    0.737 negatives | 0.806 positives | 0.214 neutral\n",
            "Evaluated batch number: 10   | loss: 0.36 | accuracy: 0.65\n",
            "Predicted correctly:    0.55 negatives | 0.857 positives | 0.333 neutral\n",
            "Save Model with loss 0.42 to /content/gdrive/My Drive/6864/lyrics-sentiment-processed_db.pt\n",
            "Epoch: 02 | Epoch Time: 209m 8s\n",
            "\t Train Loss: 0.440 | Train Acc: 56.05% | Correct Neg: 55.82% Pos: 66.82% | Neutral: 39.17%\n",
            "\t  Val. Loss: 0.419 |  Val. Acc: 59.32% | Correct Neg: 53.56% Pos: 76.90% | Neutral: 37.50%\n",
            "Trained batch number: 0   | loss: 0.41 | accuracy: 0.64\n",
            "Predicted correctly:    0.6 negatives | 0.828 positives | 0.4 neutral\n",
            "Trained batch number: 1   | loss: 0.41 | accuracy: 0.66\n",
            "Predicted correctly:    0.714 negatives | 0.793 positives | 0.429 neutral\n",
            "Trained batch number: 2   | loss: 0.42 | accuracy: 0.56\n",
            "Predicted correctly:    0.542 negatives | 0.625 positives | 0.542 neutral\n",
            "Trained batch number: 3   | loss: 0.45 | accuracy: 0.59\n",
            "Predicted correctly:    0.619 negatives | 0.594 positives | 0.545 neutral\n",
            "Trained batch number: 4   | loss: 0.44 | accuracy: 0.62\n",
            "Predicted correctly:    0.913 negatives | 0.5 positives | 0.412 neutral\n",
            "Trained batch number: 5   | loss: 0.46 | accuracy: 0.55\n",
            "Predicted correctly:    0.708 negatives | 0.321 positives | 0.75 neutral\n",
            "Trained batch number: 6   | loss: 0.46 | accuracy: 0.59\n",
            "Predicted correctly:    0.833 negatives | 0.481 positives | 0.526 neutral\n",
            "Trained batch number: 7   | loss: 0.41 | accuracy: 0.66\n",
            "Predicted correctly:    0.808 negatives | 0.45 positives | 0.667 neutral\n",
            "Trained batch number: 8   | loss: 0.43 | accuracy: 0.58\n",
            "Predicted correctly:    0.714 negatives | 0.5 positives | 0.533 neutral\n",
            "Trained batch number: 9   | loss: 0.44 | accuracy: 0.61\n",
            "Predicted correctly:    0.696 negatives | 0.481 positives | 0.714 neutral\n",
            "Trained batch number: 10   | loss: 0.42 | accuracy: 0.64\n",
            "Predicted correctly:    0.636 negatives | 0.69 positives | 0.538 neutral\n",
            "Trained batch number: 11   | loss: 0.46 | accuracy: 0.56\n",
            "Predicted correctly:    0.591 negatives | 0.552 positives | 0.538 neutral\n",
            "Trained batch number: 12   | loss: 0.46 | accuracy: 0.61\n",
            "Predicted correctly:    0.516 negatives | 0.76 positives | 0.5 neutral\n",
            "Trained batch number: 13   | loss: 0.45 | accuracy: 0.59\n",
            "Predicted correctly:    0.545 negatives | 0.714 positives | 0.429 neutral\n",
            "Trained batch number: 14   | loss: 0.40 | accuracy: 0.64\n",
            "Predicted correctly:    0.5 negatives | 0.913 positives | 0.462 neutral\n",
            "Trained batch number: 15   | loss: 0.47 | accuracy: 0.55\n",
            "Predicted correctly:    0.471 negatives | 0.793 positives | 0.222 neutral\n",
            "Trained batch number: 16   | loss: 0.39 | accuracy: 0.70\n",
            "Predicted correctly:    0.789 negatives | 0.893 positives | 0.294 neutral\n",
            "Trained batch number: 17   | loss: 0.43 | accuracy: 0.61\n",
            "Predicted correctly:    0.429 negatives | 0.824 positives | 0.312 neutral\n",
            "Trained batch number: 18   | loss: 0.45 | accuracy: 0.55\n",
            "Predicted correctly:    0.455 negatives | 0.821 positives | 0.143 neutral\n",
            "Trained batch number: 19   | loss: 0.48 | accuracy: 0.47\n",
            "Predicted correctly:    0.538 negatives | 0.778 positives | 0.1 neutral\n",
            "Trained batch number: 20   | loss: 0.47 | accuracy: 0.48\n",
            "Predicted correctly:    0.56 negatives | 0.727 positives | 0.059 neutral\n",
            "Trained batch number: 21   | loss: 0.44 | accuracy: 0.58\n",
            "Predicted correctly:    0.684 negatives | 0.846 positives | 0.105 neutral\n",
            "Trained batch number: 22   | loss: 0.46 | accuracy: 0.52\n",
            "Predicted correctly:    0.613 negatives | 0.684 positives | 0.071 neutral\n",
            "Trained batch number: 23   | loss: 0.42 | accuracy: 0.59\n",
            "Predicted correctly:    0.72 negatives | 0.682 positives | 0.294 neutral\n",
            "Trained batch number: 24   | loss: 0.44 | accuracy: 0.58\n",
            "Predicted correctly:    0.636 negatives | 0.76 positives | 0.235 neutral\n",
            "Trained batch number: 25   | loss: 0.38 | accuracy: 0.66\n",
            "Predicted correctly:    0.682 negatives | 0.885 positives | 0.25 neutral\n",
            "Trained batch number: 26   | loss: 0.41 | accuracy: 0.59\n",
            "Predicted correctly:    0.524 negatives | 0.857 positives | 0.2 neutral\n",
            "Trained batch number: 27   | loss: 0.44 | accuracy: 0.56\n",
            "Predicted correctly:    0.5 negatives | 0.75 positives | 0.333 neutral\n",
            "Trained batch number: 28   | loss: 0.43 | accuracy: 0.59\n",
            "Predicted correctly:    0.483 negatives | 0.917 positives | 0.182 neutral\n",
            "Trained batch number: 29   | loss: 0.41 | accuracy: 0.56\n",
            "Predicted correctly:    0.5 negatives | 0.885 positives | 0.125 neutral\n",
            "Trained batch number: 30   | loss: 0.46 | accuracy: 0.53\n",
            "Predicted correctly:    0.238 negatives | 0.958 positives | 0.316 neutral\n",
            "Trained batch number: 31   | loss: 0.42 | accuracy: 0.64\n",
            "Predicted correctly:    0.474 negatives | 0.848 positives | 0.333 neutral\n",
            "Trained batch number: 32   | loss: 0.44 | accuracy: 0.48\n",
            "Predicted correctly:    0.458 negatives | 0.783 positives | 0.118 neutral\n",
            "Trained batch number: 33   | loss: 0.39 | accuracy: 0.69\n",
            "Predicted correctly:    0.636 negatives | 0.879 positives | 0.111 neutral\n",
            "Trained batch number: 34   | loss: 0.46 | accuracy: 0.55\n",
            "Predicted correctly:    0.514 negatives | 0.842 positives | 0.1 neutral\n",
            "Trained batch number: 35   | loss: 0.41 | accuracy: 0.61\n",
            "Predicted correctly:    0.682 negatives | 0.81 positives | 0.333 neutral\n",
            "Trained batch number: 36   | loss: 0.43 | accuracy: 0.64\n",
            "Predicted correctly:    0.722 negatives | 0.786 positives | 0.333 neutral\n",
            "Trained batch number: 37   | loss: 0.44 | accuracy: 0.53\n",
            "Predicted correctly:    0.81 negatives | 0.579 positives | 0.25 neutral\n",
            "Trained batch number: 38   | loss: 0.43 | accuracy: 0.61\n",
            "Predicted correctly:    0.727 negatives | 0.714 positives | 0.381 neutral\n",
            "Trained batch number: 39   | loss: 0.41 | accuracy: 0.64\n",
            "Predicted correctly:    0.8 negatives | 0.667 positives | 0.273 neutral\n",
            "Trained batch number: 40   | loss: 0.43 | accuracy: 0.56\n",
            "Predicted correctly:    0.63 negatives | 0.75 positives | 0.077 neutral\n",
            "Trained batch number: 41   | loss: 0.41 | accuracy: 0.61\n",
            "Predicted correctly:    0.636 negatives | 0.826 positives | 0.316 neutral\n",
            "Trained batch number: 42   | loss: 0.45 | accuracy: 0.52\n",
            "Predicted correctly:    0.667 negatives | 0.581 positives | 0.083 neutral\n",
            "Trained batch number: 43   | loss: 0.37 | accuracy: 0.67\n",
            "Predicted correctly:    0.692 negatives | 0.783 positives | 0.467 neutral\n",
            "Trained batch number: 44   | loss: 0.41 | accuracy: 0.62\n",
            "Predicted correctly:    0.684 negatives | 0.75 positives | 0.231 neutral\n",
            "Trained batch number: 45   | loss: 0.45 | accuracy: 0.61\n",
            "Predicted correctly:    0.583 negatives | 0.875 positives | 0.25 neutral\n",
            "Trained batch number: 46   | loss: 0.43 | accuracy: 0.53\n",
            "Predicted correctly:    0.45 negatives | 0.87 positives | 0.238 neutral\n",
            "Trained batch number: 47   | loss: 0.42 | accuracy: 0.55\n",
            "Predicted correctly:    0.533 negatives | 0.85 positives | 0.143 neutral\n",
            "Trained batch number: 48   | loss: 0.49 | accuracy: 0.50\n",
            "Predicted correctly:    0.364 negatives | 0.76 positives | 0.294 neutral\n",
            "Trained batch number: 49   | loss: 0.34 | accuracy: 0.69\n",
            "Predicted correctly:    0.773 negatives | 0.839 positives | 0.091 neutral\n",
            "Trained batch number: 50   | loss: 0.44 | accuracy: 0.61\n",
            "Predicted correctly:    0.586 negatives | 0.815 positives | 0.0 neutral\n",
            "Trained batch number: 51   | loss: 0.39 | accuracy: 0.61\n",
            "Predicted correctly:    0.526 negatives | 0.812 positives | 0.231 neutral\n",
            "Trained batch number: 52   | loss: 0.40 | accuracy: 0.70\n",
            "Predicted correctly:    0.7 negatives | 0.828 positives | 0.467 neutral\n",
            "Trained batch number: 53   | loss: 0.40 | accuracy: 0.62\n",
            "Predicted correctly:    0.733 negatives | 0.708 positives | 0.1 neutral\n",
            "Trained batch number: 54   | loss: 0.45 | accuracy: 0.52\n",
            "Predicted correctly:    0.833 negatives | 0.538 positives | 0.2 neutral\n",
            "Trained batch number: 55   | loss: 0.44 | accuracy: 0.53\n",
            "Predicted correctly:    0.81 negatives | 0.5 positives | 0.235 neutral\n",
            "Trained batch number: 56   | loss: 0.38 | accuracy: 0.70\n",
            "Predicted correctly:    0.862 negatives | 0.773 positives | 0.231 neutral\n",
            "Trained batch number: 57   | loss: 0.49 | accuracy: 0.52\n",
            "Predicted correctly:    0.793 negatives | 0.25 positives | 0.364 neutral\n",
            "Trained batch number: 58   | loss: 0.48 | accuracy: 0.47\n",
            "Predicted correctly:    0.773 negatives | 0.429 positives | 0.19 neutral\n",
            "Trained batch number: 59   | loss: 0.44 | accuracy: 0.52\n",
            "Predicted correctly:    0.857 negatives | 0.519 positives | 0.062 neutral\n",
            "Trained batch number: 60   | loss: 0.40 | accuracy: 0.62\n",
            "Predicted correctly:    0.87 negatives | 0.64 positives | 0.25 neutral\n",
            "Trained batch number: 61   | loss: 0.43 | accuracy: 0.56\n",
            "Predicted correctly:    0.8 negatives | 0.667 positives | 0.118 neutral\n",
            "Trained batch number: 62   | loss: 0.41 | accuracy: 0.59\n",
            "Predicted correctly:    0.857 negatives | 0.739 positives | 0.15 neutral\n",
            "Trained batch number: 63   | loss: 0.42 | accuracy: 0.59\n",
            "Predicted correctly:    0.7 negatives | 0.682 positives | 0.409 neutral\n",
            "Trained batch number: 64   | loss: 0.45 | accuracy: 0.56\n",
            "Predicted correctly:    0.655 negatives | 0.571 positives | 0.357 neutral\n",
            "Trained batch number: 65   | loss: 0.41 | accuracy: 0.70\n",
            "Predicted correctly:    0.667 negatives | 0.68 positives | 0.778 neutral\n",
            "Trained batch number: 66   | loss: 0.42 | accuracy: 0.58\n",
            "Predicted correctly:    0.621 negatives | 0.667 positives | 0.125 neutral\n",
            "Trained batch number: 67   | loss: 0.41 | accuracy: 0.70\n",
            "Predicted correctly:    0.667 negatives | 0.824 positives | 0.467 neutral\n",
            "Trained batch number: 68   | loss: 0.40 | accuracy: 0.67\n",
            "Predicted correctly:    0.727 negatives | 0.808 positives | 0.375 neutral\n",
            "Trained batch number: 69   | loss: 0.44 | accuracy: 0.52\n",
            "Predicted correctly:    0.652 negatives | 0.577 positives | 0.2 neutral\n",
            "Trained batch number: 70   | loss: 0.42 | accuracy: 0.55\n",
            "Predicted correctly:    0.529 negatives | 0.769 positives | 0.286 neutral\n",
            "Trained batch number: 71   | loss: 0.44 | accuracy: 0.52\n",
            "Predicted correctly:    0.52 negatives | 0.652 positives | 0.312 neutral\n",
            "Trained batch number: 72   | loss: 0.44 | accuracy: 0.55\n",
            "Predicted correctly:    0.476 negatives | 0.767 positives | 0.154 neutral\n",
            "Trained batch number: 73   | loss: 0.43 | accuracy: 0.58\n",
            "Predicted correctly:    0.545 negatives | 0.696 positives | 0.474 neutral\n",
            "Trained batch number: 74   | loss: 0.39 | accuracy: 0.72\n",
            "Predicted correctly:    0.76 negatives | 0.792 positives | 0.533 neutral\n",
            "Trained batch number: 75   | loss: 0.42 | accuracy: 0.62\n",
            "Predicted correctly:    0.586 negatives | 0.667 positives | 0.647 neutral\n",
            "Trained batch number: 76   | loss: 0.42 | accuracy: 0.61\n",
            "Predicted correctly:    0.714 negatives | 0.571 positives | 0.545 neutral\n",
            "Trained batch number: 77   | loss: 0.50 | accuracy: 0.53\n",
            "Predicted correctly:    0.316 negatives | 0.686 positives | 0.4 neutral\n",
            "Trained batch number: 78   | loss: 0.51 | accuracy: 0.48\n",
            "Predicted correctly:    0.316 negatives | 0.69 positives | 0.312 neutral\n",
            "Trained batch number: 79   | loss: 0.47 | accuracy: 0.58\n",
            "Predicted correctly:    0.4 negatives | 0.818 positives | 0.529 neutral\n",
            "Trained batch number: 80   | loss: 0.47 | accuracy: 0.55\n",
            "Predicted correctly:    0.462 negatives | 0.8 positives | 0.231 neutral\n",
            "Trained batch number: 81   | loss: 0.41 | accuracy: 0.66\n",
            "Predicted correctly:    0.611 negatives | 0.926 positives | 0.316 neutral\n",
            "Trained batch number: 82   | loss: 0.40 | accuracy: 0.61\n",
            "Predicted correctly:    0.579 negatives | 0.96 positives | 0.2 neutral\n",
            "Trained batch number: 83   | loss: 0.44 | accuracy: 0.50\n",
            "Predicted correctly:    0.5 negatives | 0.786 positives | 0.056 neutral\n",
            "Trained batch number: 84   | loss: 0.44 | accuracy: 0.56\n",
            "Predicted correctly:    0.3 negatives | 0.931 positives | 0.2 neutral\n",
            "Trained batch number: 85   | loss: 0.41 | accuracy: 0.64\n",
            "Predicted correctly:    0.565 negatives | 0.839 positives | 0.2 neutral\n",
            "Trained batch number: 86   | loss: 0.42 | accuracy: 0.56\n",
            "Predicted correctly:    0.5 negatives | 0.9 positives | 0.3 neutral\n",
            "Trained batch number: 87   | loss: 0.44 | accuracy: 0.53\n",
            "Predicted correctly:    0.625 negatives | 0.6 positives | 0.333 neutral\n",
            "Evaluated batch number: 0   | loss: 0.43 | accuracy: 0.55\n",
            "Predicted correctly:    0.7 negatives | 0.68 positives | 0.211 neutral\n",
            "Evaluated batch number: 1   | loss: 0.38 | accuracy: 0.69\n",
            "Predicted correctly:    0.667 negatives | 0.862 positives | 0.273 neutral\n",
            "Evaluated batch number: 2   | loss: 0.42 | accuracy: 0.59\n",
            "Predicted correctly:    0.793 negatives | 0.55 positives | 0.267 neutral\n",
            "Evaluated batch number: 3   | loss: 0.42 | accuracy: 0.56\n",
            "Predicted correctly:    0.565 negatives | 1.0 positives | 0.143 neutral\n",
            "Evaluated batch number: 4   | loss: 0.46 | accuracy: 0.55\n",
            "Predicted correctly:    0.609 negatives | 0.583 positives | 0.412 neutral\n",
            "Evaluated batch number: 5   | loss: 0.47 | accuracy: 0.50\n",
            "Predicted correctly:    0.609 negatives | 0.625 positives | 0.176 neutral\n",
            "Evaluated batch number: 6   | loss: 0.45 | accuracy: 0.53\n",
            "Predicted correctly:    0.526 negatives | 0.667 positives | 0.267 neutral\n",
            "Evaluated batch number: 7   | loss: 0.46 | accuracy: 0.50\n",
            "Predicted correctly:    0.6 negatives | 0.667 positives | 0.2 neutral\n",
            "Evaluated batch number: 8   | loss: 0.43 | accuracy: 0.59\n",
            "Predicted correctly:    0.64 negatives | 0.75 positives | 0.267 neutral\n",
            "Evaluated batch number: 9   | loss: 0.41 | accuracy: 0.58\n",
            "Predicted correctly:    0.737 negatives | 0.742 positives | 0.0 neutral\n",
            "Evaluated batch number: 10   | loss: 0.37 | accuracy: 0.68\n",
            "Predicted correctly:    0.8 negatives | 0.821 positives | 0.167 neutral\n",
            "Epoch: 03 | Epoch Time: 207m 31s\n",
            "\t Train Loss: 0.431 | Train Acc: 58.79% | Correct Neg: 62.03% Pos: 72.65% | Neutral: 30.66%\n",
            "\t  Val. Loss: 0.427 |  Val. Acc: 57.49% | Correct Neg: 65.87% Pos: 72.25% | Neutral: 21.66%\n"
          ],
          "name": "stdout"
        }
      ]
    },
    {
      "cell_type": "code",
      "metadata": {
        "id": "cDeAZX6sP1QQ",
        "colab_type": "code",
        "colab": {
          "base_uri": "https://localhost:8080/",
          "height": 333
        },
        "outputId": "26d2fc20-e02f-46b1-c85b-600f6aa3010f"
      },
      "source": [
        "# Plot loss validation vs accuracy accross epochs\n",
        "plot_training(3, epochs_val_loss, epochs_accuracy, epochs_pos_acc, epochs_neg_acc, epochs_neutral_acc)\n",
        "print(epochs_val_loss, epochs_accuracy, epochs_pos_acc, epochs_neg_acc, epochs_neutral_acc)"
      ],
      "execution_count": 86,
      "outputs": [
        {
          "output_type": "display_data",
          "data": {
            "image/png": "[encoded data removed]",
            "text/plain": [
              "<Figure size 432x288 with 1 Axes>"
            ]
          },
          "metadata": {
            "tags": [],
            "needs_background": "light"
          }
        },
        {
          "output_type": "stream",
          "text": [
            "[0.42681789211674614, 0.41938308584580386, 0.4271045679181146] [0.5975378787878788, 0.5931818181818183, 0.5749053030303031] [0.7581818181818182, 0.769, 0.7224545454545453] [0.4569999999999999, 0.5356363636363637, 0.6587272727272727] [0.5247272727272727, 0.375, 0.21663636363636363]\n"
          ],
          "name": "stdout"
        }
      ]
    },
    {
      "cell_type": "markdown",
      "metadata": {
        "id": "LHw5zD_3vahL",
        "colab_type": "text"
      },
      "source": [
        "Load the best model across epochs, the one that has the lowest validation loss.  Done by using `load_state_dict` which will update the given `model` in-place.\n",
        "\n",
        "The preset is to load a previously trained model. \n",
        "If you would like to use yours, please change `use_trained_model` to True.\n",
        "\n",
        "Downloading the ready model will take a few minutes and will require your authentication when propmpted. "
      ]
    },
    {
      "cell_type": "code",
      "metadata": {
        "id": "HRQBmvR8FFr5",
        "colab_type": "code",
        "outputId": "4db3e2bc-a89a-48ae-f920-f0a81619828a",
        "colab": {
          "base_uri": "https://localhost:8080/",
          "height": 52
        }
      },
      "source": [
        "# Load newly trained model, in place updates given `model`.\n",
        "# load_model(model=model, shared_file_id=None, path=SAVE_PATH, use_trained_model=True,colab=True)\n",
        "# Load ready to use model, does not require training again.\n",
        "load_model(model=model, shared_file_id=READY_MODEL_ID, path=MODEL_NAME, use_trained_model=False,colab=True)\n",
        "model.eval()\n",
        "model.zero_grad()"
      ],
      "execution_count": 56,
      "outputs": [
        {
          "output_type": "stream",
          "text": [
            "Downloaded model Successfully\n",
            "Loaded the ready-to-use model Successfully\n"
          ],
          "name": "stdout"
        }
      ]
    },
    {
      "cell_type": "markdown",
      "metadata": {
        "id": "pLPp9hYL0l1W",
        "colab_type": "text"
      },
      "source": [
        "Check model performance on test set. "
      ]
    },
    {
      "cell_type": "code",
      "metadata": {
        "id": "e482Hx-gvahM",
        "colab_type": "code",
        "colab": {
          "base_uri": "https://localhost:8080/",
          "height": 451
        },
        "outputId": "9a07f044-40f8-4d16-930a-bd53afe26fd0"
      },
      "source": [
        "\n",
        "test_loss, test_acc, correct_negative, correct_positive, correct_neutral = evaluate(model, test_dataloader, criterion)\n",
        "print(\"Test Loss: {:.2f} | Test Accuracy: {:.2f}%\".format(test_loss, 100*test_acc))\n",
        "print(\"--------------------------------------------------------\")\n",
        "print(\"Predicted correctly: {:.2f}% negatives | {:.2f}% positives | {:.2f}% neutral\".format(correct_negative*100, correct_positive*100, correct_neutral*100))\n"
      ],
      "execution_count": 87,
      "outputs": [
        {
          "output_type": "stream",
          "text": [
            "Evaluated batch number: 0   | loss: 0.39 | accuracy: 0.66\n",
            "Predicted correctly:    0.875 negatives | 0.852 positives | 0.238 neutral\n",
            "Evaluated batch number: 1   | loss: 0.41 | accuracy: 0.59\n",
            "Predicted correctly:    0.517 negatives | 0.95 positives | 0.267 neutral\n",
            "Evaluated batch number: 2   | loss: 0.42 | accuracy: 0.56\n",
            "Predicted correctly:    0.75 negatives | 0.75 positives | 0.0 neutral\n",
            "Evaluated batch number: 3   | loss: 0.44 | accuracy: 0.59\n",
            "Predicted correctly:    0.6 negatives | 0.833 positives | 0.3 neutral\n",
            "Evaluated batch number: 4   | loss: 0.40 | accuracy: 0.66\n",
            "Predicted correctly:    0.63 negatives | 0.815 positives | 0.3 neutral\n",
            "Evaluated batch number: 5   | loss: 0.37 | accuracy: 0.69\n",
            "Predicted correctly:    0.682 negatives | 0.875 positives | 0.444 neutral\n",
            "Evaluated batch number: 6   | loss: 0.38 | accuracy: 0.61\n",
            "Predicted correctly:    0.733 negatives | 0.789 positives | 0.133 neutral\n",
            "Evaluated batch number: 7   | loss: 0.44 | accuracy: 0.50\n",
            "Predicted correctly:    0.6 negatives | 0.667 positives | 0.227 neutral\n",
            "Evaluated batch number: 8   | loss: 0.46 | accuracy: 0.53\n",
            "Predicted correctly:    0.476 negatives | 0.72 positives | 0.333 neutral\n",
            "Evaluated batch number: 9   | loss: 0.42 | accuracy: 0.55\n",
            "Predicted correctly:    0.545 negatives | 0.783 positives | 0.263 neutral\n",
            "Evaluated batch number: 10   | loss: 0.48 | accuracy: 0.50\n",
            "Predicted correctly:    0.6 negatives | 0.56 positives | 0.267 neutral\n",
            "Test Loss: 0.42 | Test Accuracy: 58.52%\n",
            "--------------------------------------------------------\n",
            "Predicted correctly: 63.71% negatives | 78.13% positives | 25.20% neutral\n"
          ],
          "name": "stdout"
        }
      ]
    },
    {
      "cell_type": "markdown",
      "metadata": {
        "id": "p3YeH2WbSVy8",
        "colab_type": "text"
      },
      "source": [
        "## Step 5: Interpretation with visualizations\n"
      ]
    },
    {
      "cell_type": "code",
      "metadata": {
        "id": "YZ8fP_KpvahP",
        "colab_type": "code",
        "colab": {}
      },
      "source": [
        "def predict_tokens(input_ids_tensor, attention_mask_tensor, model):  \n",
        "    prediction = model(input_ids_tensor, attention_mask_tensor).squeeze(1) # in place remove all size 1 in the given dimension (here 1).\n",
        "    prediction = torch.sigmoid(prediction)\n",
        "    return prediction.item()\n",
        "\n",
        "def predict_lyrics_sentiment(model, tokenizer, lyrics, label=None):\n",
        "    model.eval()\n",
        "    # Turn lyrics to voacbulary indices.\n",
        "    input_ids = tokenizer.convert_tokens_to_ids(tokenizer.tokenize(lyrics))\n",
        "    text = torch.LongTensor(input_ids).reshape(1,-1)\n",
        "\n",
        "    # Create a mask for input's padding.\n",
        "    mask = torch.LongTensor(np.where(input_ids == 0, 0, 1)).reshape(1,-1)\n",
        "    return predict_tokens(text, mask, model)\n"
      ],
      "execution_count": 0,
      "outputs": []
    },
    {
      "cell_type": "code",
      "metadata": {
        "id": "Om9-QLYl1jIq",
        "colab_type": "code",
        "outputId": "b4892354-5709-4bfa-cf46-3642ecc2da07",
        "colab": {
          "base_uri": "https://localhost:8080/",
          "height": 35
        }
      },
      "source": [
        "def predict_baseline(model, tokenizer, length=tokenizer.max_len):\n",
        "  model.eval()\n",
        "  # Turn lyrics to voacbulary indices.\n",
        "  pad = tokenizer.pad_token_id\n",
        "  baseline = torch.LongTensor([pad]*length).reshape(1,-1)\n",
        "\n",
        "  # Create a mask for input's padding.\n",
        "  mask = torch.LongTensor([0]*length).reshape(1,-1)\n",
        "\n",
        "  prediction = model(baseline, attention_masks=mask).squeeze(1) # in place remove all size 1 in the given dimension (here 1).\n",
        "  prediction = torch.sigmoid(prediction)\n",
        "  return prediction.item()\n",
        "\n",
        "baseline_pred = predict_baseline(model, tokenizer)\n",
        "print('Baseline prediction: ',baseline_pred)"
      ],
      "execution_count": 29,
      "outputs": [
        {
          "output_type": "stream",
          "text": [
            "Baseline prediction:  0.5849168844794767\n"
          ],
          "name": "stdout"
        }
      ]
    },
    {
      "cell_type": "code",
      "metadata": {
        "id": "luLsVAQR2tfN",
        "colab_type": "code",
        "colab": {}
      },
      "source": [
        "def plot_wordcolor(frequencies, positive_diff, negative_diff):\n",
        "\n",
        "  def color_function(word, *args, **kwargs):\n",
        "    if word in negative_diff:\n",
        "      return 'rgb(255,0,0)' # red\n",
        "    elif word in positive_diff:\n",
        "      return 'rgb(0,255,0)' # green\n",
        "    else:\n",
        "      return 'rgb(255,255,255)' #white\n",
        "    # otherwise returns grey\n",
        "  \n",
        "  # Words with twice the difference will be twice as large\n",
        "  wc = WordCloud(background_color='black',max_words=len(frequencies.keys()), max_font_size=120, \n",
        "                 collocations=False, width=600,height=400,\n",
        "                        relative_scaling=1,color_func=color_function).generate_from_frequencies(frequencies)\n",
        "\n",
        "\n",
        "  plt.imshow(wc,\n",
        "           interpolation=\"bilinear\")\n",
        "  \n",
        "  plt.axis(\"off\")\n",
        "  plt.show()\n",
        "\n",
        "\n",
        "def check_words_effect(model, tokenizer,lyrics):\n",
        "  # Get tokens and mask from lyrics\n",
        "  lyrics_word_list = tokenizer.tokenize(lyrics)\n",
        "  input_ids = tokenizer.convert_tokens_to_ids(lyrics_word_list)\n",
        "  input_ids_tensor = torch.LongTensor(input_ids).reshape(1,-1)\n",
        "  mask_tensor = torch.LongTensor(np.where(input_ids == 0, 0, 1)).reshape(1,-1)\n",
        "  all_tokens_pred = predict_tokens(input_ids_tensor, mask_tensor, model)\n",
        "  # Remove one token at a time\n",
        "  unique_ids = set(input_ids)\n",
        "  id_delta_abs = {}\n",
        "  positive_diff, negative_diff = set(), set()\n",
        "\n",
        "  print(\"Calculating {} unique tokens effects.\\n\".format(len(unique_ids)))\n",
        "  for token_id in unique_ids:\n",
        "    input_ids = np.array(input_ids)\n",
        "    input_ids_without_token = input_ids[input_ids != token_id]\n",
        "    input_ids_without_token_tensor = torch.LongTensor(input_ids_without_token).reshape(1,-1)\n",
        "    mask_without_token = torch.LongTensor(np.where(input_ids_without_token == 0, 0, 1)).reshape(1,-1)\n",
        "    without_token_pred = predict_tokens(input_ids_without_token_tensor, mask_without_token, model)\n",
        "    word = tokenizer.convert_ids_to_tokens(token_id)\n",
        "\n",
        "    delta = all_tokens_pred - without_token_pred\n",
        "    # If the prediction decresed without the word, the word was positive\n",
        "    no_diff = 0.00001\n",
        "    delta = 0 if abs(delta) < no_diff else delta\n",
        "    if delta > 0:\n",
        "      positive_diff.add(word)\n",
        "    elif delta < 0:\n",
        "      negative_diff.add(word)\n",
        "    # For frequency/importance analysis\n",
        "    id_delta_abs[word] = abs(delta)*100\n",
        "  \n",
        "  print(\"Plotting word color\\n\")\n",
        "  plot_wordcolor(id_delta_abs, positive_diff, negative_diff)\n",
        "\n",
        "  "
      ],
      "execution_count": 0,
      "outputs": []
    },
    {
      "cell_type": "markdown",
      "metadata": {
        "id": "VQphm-3fvahO",
        "colab_type": "text"
      },
      "source": [
        "## Step 6: Predict unseen samples\n",
        "\n",
        "Time to try out the model ! Test the sentiment of lyrics from the given dataset or your own. \n",
        "\n",
        "Before passing lyrical text through the model, we will convert the input text to vocabulary indices, add special tokens and convert it to a reshaped tensor."
      ]
    },
    {
      "cell_type": "markdown",
      "metadata": {
        "id": "ZPCsZHIJBKzI",
        "colab_type": "text"
      },
      "source": [
        "#### Low valence Sample"
      ]
    },
    {
      "cell_type": "code",
      "metadata": {
        "id": "Z8WRMwupvahT",
        "colab_type": "code",
        "outputId": "c020cd32-570a-4b34-9242-2ea05c967612",
        "colab": {
          "base_uri": "https://localhost:8080/",
          "height": 1000
        }
      },
      "source": [
        "# Make sure not taken from dataset used for training\n",
        "negative_sample_row = df[DATASET_SIZE+1:][df.label<LOW_VALENCE_BOUND].sample()\n",
        "negative_sample_row_lyrics = negative_sample_row['seq'].item()\n",
        "print(\"Low valence lyrical sentiment analysis:\")\n",
        "print(\"-----------------\")\n",
        "print(\"Name:\", negative_sample_row.song.item())\n",
        "print(\"Artist:\", negative_sample_row.artist.item())\n",
        "print(\"-----------------\")\n",
        "print(\"Lyrics extract:\")\n",
        "print(negative_sample_row_lyrics[:STR_PRINT_BOUND])\n",
        "\n",
        "prediction = predict_lyrics_sentiment(model, tokenizer, negative_sample_row_lyrics)\n",
        "print(\"-----------------\")\n",
        "print(\"Model Prediction: {:.2f}\".format(prediction))\n",
        "neg_label = negative_sample_row.label.item()\n",
        "print(\"Spotify Label: {:.2f}\".format(neg_label))\n",
        "\n",
        "check_words_effect(model, tokenizer,negative_sample_row_lyrics)\n"
      ],
      "execution_count": 35,
      "outputs": [
        {
          "output_type": "stream",
          "text": [
            "/usr/local/lib/python3.6/dist-packages/ipykernel_launcher.py:1: UserWarning: Boolean Series key will be reindexed to match DataFrame index.\n",
            "  \"\"\"Entry point for launching an IPython kernel.\n"
          ],
          "name": "stderr"
        },
        {
          "output_type": "stream",
          "text": [
            "Low valence lyrical sentiment analysis:\n",
            "-----------------\n",
            "Name: More\n",
            "Artist: Junkie XL\n",
            "-----------------\n",
            "Lyrics extract:\n",
            "Roll more, rock more\r\n",
            "Roll more, rock more\r\n",
            "Roll more\r\n",
            "Rock, rock, rock, rock\r\n",
            "\r\n",
            "Roll more, rock more\r\n",
            "Roll more, rock more\r\n",
            "Roll more, rock more\r\n",
            "Roll more, rock more\r\n",
            "\r\n",
            "Roll more\r\n",
            "Rock, rock, rock, rock\r\n",
            "Rock, rock, rock, rock\r\n",
            "Rock, rock, rock, rock\r\n",
            "\r\n",
            "Rock, rock, rock, rock\r\n",
            "Rock, rock, rock, rock\r\n",
            "Rock, rock, rock, rock\r\n",
            "Pac-Man is loving it\r\n",
            "\r\n",
            "Rock more, roll more\r\n",
            "Fuck more, Pac-Man is loving it\r\n",
            "Rock more, roll more\r\n",
            "Fuck more, Pac-Man is loving it\r\n",
            "\r\n",
            "A cloudy vision, absence of granter\r\n",
            "I don't care what is wrong or right\r\n",
            "The earth is bleeding and secreeding madness\r\n",
            "Petrified, gone \n",
            "-----------------\n",
            "Model Prediction: 0.78\n",
            "Spotify Label: 0.19\n",
            "Calculating 102 unique tokens effects.\n",
            "\n",
            "Plotting word color\n",
            "\n"
          ],
          "name": "stdout"
        },
        {
          "output_type": "display_data",
          "data": {
            "image/png": "[encoded data removed]",
            "text/plain": [
              "<Figure size 432x288 with 1 Axes>"
            ]
          },
          "metadata": {
            "tags": [],
            "needs_background": "light"
          }
        }
      ]
    },
    {
      "cell_type": "markdown",
      "metadata": {
        "id": "O111uq5RBhFH",
        "colab_type": "text"
      },
      "source": [
        "#### High valence Sample "
      ]
    },
    {
      "cell_type": "code",
      "metadata": {
        "id": "_WsfshUjvahV",
        "colab_type": "code",
        "outputId": "8d86d9f7-846c-41f3-be9d-5b881e69fbc7",
        "colab": {
          "base_uri": "https://localhost:8080/",
          "height": 907
        }
      },
      "source": [
        "pos_sample_row = df[DATASET_SIZE+1:][df.label>HIGH_VALENCE_BOUND].sample()\n",
        "pos_sample_row_lyrics = pos_sample_row['seq'].item()\n",
        "\n",
        "print(\"High valence lyrical sentiment analysis:\")\n",
        "print(\"-----------------\")\n",
        "print(\"Name:\", pos_sample_row.song.item())\n",
        "print(\"Artist:\", pos_sample_row.artist.item())\n",
        "print(\"-----------------\")\n",
        "print(\"Lyrics extract:\")\n",
        "print(pos_sample_row_lyrics[:STR_PRINT_BOUND])\n",
        "\n",
        "prediction = predict_lyrics_sentiment(model, tokenizer, pos_sample_row_lyrics)\n",
        "print(\"-----------------\")\n",
        "print(\"Model Prediction: {:.2f}\".format(prediction))\n",
        "print(\"Spotify Label: {:.2f}\".format(pos_sample_row.label.item()))\n",
        "\n",
        "check_words_effect(model, tokenizer,pos_sample_row_lyrics)\n"
      ],
      "execution_count": 36,
      "outputs": [
        {
          "output_type": "stream",
          "text": [
            "/usr/local/lib/python3.6/dist-packages/ipykernel_launcher.py:1: UserWarning: Boolean Series key will be reindexed to match DataFrame index.\n",
            "  \"\"\"Entry point for launching an IPython kernel.\n"
          ],
          "name": "stderr"
        },
        {
          "output_type": "stream",
          "text": [
            "High valence lyrical sentiment analysis:\n",
            "-----------------\n",
            "Name: I Can't Give You Anything But Love\n",
            "Artist: Muggsy Spanier\n",
            "-----------------\n",
            "Lyrics extract:\n",
            "Gee, but it's tough to be broke, kid.\r\n",
            "It's not a joke, kid, it's a curse.\r\n",
            "My luck is changing, it's gotten from \r\n",
            "simply rotten to something worse\r\n",
            "Who knows, some day I will win too. \r\n",
            "I'll begin to reach my prime.\r\n",
            "\r\n",
            "Now though I see what our end is,\r\n",
            "All I can spend is just my time.\r\n",
            "\r\n",
            "I can't give you anything but love, baby.\r\n",
            "That's the only thing I've plenty of,baby.\r\n",
            "\r\n",
            "Dream awhile, scheme awhile\r\n",
            "We're sure to find\r\n",
            "\r\n",
            "Happiness and I guess\r\n",
            "All those things you've always pined for.\r\n",
            "\r\n",
            "Gee I'd like to see you looking swell, baby.\r\n",
            "Diamond bracelets Woolworth doesn't sell, baby.\r\n",
            "\r\n",
            "Til\n",
            "-----------------\n",
            "Model Prediction: 0.75\n",
            "Spotify Label: 0.79\n",
            "Calculating 125 unique tokens effects.\n",
            "\n",
            "Plotting word color\n",
            "\n"
          ],
          "name": "stdout"
        },
        {
          "output_type": "display_data",
          "data": {
            "image/png": "[encoded data removed]",
            "text/plain": [
              "<Figure size 432x288 with 1 Axes>"
            ]
          },
          "metadata": {
            "tags": [],
            "needs_background": "light"
          }
        }
      ]
    },
    {
      "cell_type": "markdown",
      "metadata": {
        "id": "1dzhJc-SOTsf",
        "colab_type": "text"
      },
      "source": [
        "#### Your own example"
      ]
    },
    {
      "cell_type": "code",
      "metadata": {
        "id": "NDoUmV294aWI",
        "colab_type": "code",
        "colab": {}
      },
      "source": [
        "genius_token = \"YOUR_GENIUS_TOKEN_HERE\"\n",
        "# Get a token by pressing \"Get token\" here https://developer.spotify.com/console/get-audio-features-track\n",
        "# Spotify_token = \"YOUR_TOKEN\"\n",
        "spotify_token = \"SPOTIFY_TOKEN\"\n",
        "\n",
        "def new_song_prediction(model, tokenizer, artist, song_title, spotify_token, genius_token, visualize= False): \n",
        "  lyrics = get_lyrics_from_genius(song_title, artist, genius_token)\n",
        "  # remove punctuation\n",
        "  lyrics = lyrics.translate(str.maketrans('', '', string.punctuation))\n",
        "  \n",
        "  prediction = predict_lyrics_sentiment(model, tokenizer, lyrics)\n",
        "  print(\"-----------------------\")\n",
        "  print(\"Model Prediction: {:.2f}\".format(prediction))\n",
        "  print(\"-----------------------\\n\")\n",
        "\n",
        "  print(\"---------------------------------------------------------------------\")\n",
        "  spotify_label = get_spotify_valence(song_title,artist,spotify_token)\n",
        "  print(\"---------------------------------------------------------------------\\n\")\n",
        "  if visualize:\n",
        "    check_words_effect(model, tokenizer, lyrics)\n"
      ],
      "execution_count": 0,
      "outputs": []
    },
    {
      "cell_type": "code",
      "metadata": {
        "id": "fUf-a6aDzIlt",
        "colab_type": "code",
        "colab": {
          "base_uri": "https://localhost:8080/",
          "height": 491
        },
        "outputId": "6f0144f1-6d60-4eeb-ef68-0811c630c3c8"
      },
      "source": [
        "song_title = \"down\"\n",
        "artist = \"Jay sean\"\n",
        "new_song_prediction(model, tokenizer, artist, song_title, spotify_token, genius_token, visualize= True)"
      ],
      "execution_count": 54,
      "outputs": [
        {
          "output_type": "stream",
          "text": [
            "Searching for \"down\" by Jay sean...\n",
            "Done.\n",
            "-----------------------\n",
            "Model Prediction: 0.78\n",
            "-----------------------\n",
            "\n",
            "---------------------------------------------------------------------\n",
            "Found valence: 0.68 of the song: down - Jay sean\n",
            "---------------------------------------------------------------------\n",
            "\n",
            "Calculating 121 unique tokens effects.\n",
            "\n",
            "Plotting word color\n",
            "\n"
          ],
          "name": "stdout"
        },
        {
          "output_type": "display_data",
          "data": {
            "image/png": "[encoded data removed]",
            "text/plain": [
              "<Figure size 432x288 with 1 Axes>"
            ]
          },
          "metadata": {
            "tags": [],
            "needs_background": "light"
          }
        }
      ]
    },
    {
      "cell_type": "code",
      "metadata": {
        "id": "nZATZXJ6zI2j",
        "colab_type": "code",
        "colab": {
          "base_uri": "https://localhost:8080/",
          "height": 491
        },
        "outputId": "9db3fea3-37e1-474c-9160-a6b7d5fb1d89"
      },
      "source": [
        "song_title = \"breathin\"\n",
        "artist = \"Ariana Grande\"\n",
        "new_song_prediction(model, tokenizer, artist, song_title, spotify_token, genius_token, visualize= True)"
      ],
      "execution_count": 39,
      "outputs": [
        {
          "output_type": "stream",
          "text": [
            "Searching for \"breathin\" by Ariana Grande...\n",
            "Done.\n",
            "-----------------------\n",
            "Model Prediction: 0.78\n",
            "-----------------------\n",
            "\n",
            "---------------------------------------------------------------------\n",
            "Found valence: 0.36 of the song: breathin - Ariana Grande\n",
            "---------------------------------------------------------------------\n",
            "\n",
            "Calculating 112 unique tokens effects.\n",
            "\n",
            "Plotting word color\n",
            "\n"
          ],
          "name": "stdout"
        },
        {
          "output_type": "display_data",
          "data": {
            "image/png": "[encoded data removed]",
            "text/plain": [
              "<Figure size 432x288 with 1 Axes>"
            ]
          },
          "metadata": {
            "tags": [],
            "needs_background": "light"
          }
        }
      ]
    }
  ]
}